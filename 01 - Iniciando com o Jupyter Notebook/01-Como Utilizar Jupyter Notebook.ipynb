{
 "cells": [
  {
   "cell_type": "markdown",
   "metadata": {},
   "source": [
    "# <font color='blue'> Aprendendo Python</font>\n",
    "## <font color='green'>Primeiros passos no Jupyter Notebook</font>\n",
    "### Autor: Luiz"
   ]
  },
  {
   "cell_type": "code",
   "execution_count": 1,
   "metadata": {},
   "outputs": [
    {
     "name": "stdout",
     "output_type": "stream",
     "text": [
      "A Versão da Linguagem Python Usada Neste Jupyter Notebook é: 3.8.11\n"
     ]
    }
   ],
   "source": [
    "# Versão da Linguagem Python\n",
    "from platform import python_version\n",
    "print('A Versão da Linguagem Python Usada Neste Jupyter Notebook é:', python_version())"
   ]
  },
  {
   "cell_type": "markdown",
   "metadata": {},
   "source": [
    "### Jupyter Notebook oferece interação dinâmica com Python e nos permite criar documentos misturando código, texto, imagens e muito mais. Notebooks são movidos por IPython, que fornece computação interativa com Python e estende seus recursos de várias maneiras."
   ]
  },
  {
   "cell_type": "markdown",
   "metadata": {},
   "source": [
    "## Como Utilizar o Jupyter Notebook"
   ]
  },
  {
   "cell_type": "code",
   "execution_count": 2,
   "metadata": {},
   "outputs": [],
   "source": [
    "# Adicione o simbolo hash (#) para tornar tudo o que o procede em comentário. Na linha seguinte, adicione o seu código ou as operações:\n",
    "# comentário 1\n",
    "# comentário 2"
   ]
  },
  {
   "cell_type": "code",
   "execution_count": 3,
   "metadata": {},
   "outputs": [
    {
     "name": "stdout",
     "output_type": "stream",
     "text": [
      "Hello World\n"
     ]
    }
   ],
   "source": [
    "# Imprimindo outputs:\n",
    "print(\"Hello World\")\n",
    "# Pressione as teclas shift e enter para executar esse código."
   ]
  },
  {
   "cell_type": "code",
   "execution_count": 4,
   "metadata": {},
   "outputs": [],
   "source": [
    "# click na parte externa da célula e precione y para torná-la em uma célula de código ou,\n",
    "# click na parte externa da célula e precione m para torná-la em uma célula markdown, ou seja, célula para escrita."
   ]
  },
  {
   "cell_type": "code",
   "execution_count": 5,
   "metadata": {},
   "outputs": [
    {
     "data": {
      "text/plain": [
       "4"
      ]
     },
     "execution_count": 5,
     "metadata": {},
     "output_type": "execute_result"
    }
   ],
   "source": [
    "# Imprimindo operações:\n",
    "2 + 2"
   ]
  },
  {
   "cell_type": "code",
   "execution_count": 1,
   "metadata": {},
   "outputs": [
    {
     "name": "stdout",
     "output_type": "stream",
     "text": [
      "Meu nome é luiz, tenho29 anos de idade\n",
      "Meu nome é Carlos, tenho36 anos de idade\n",
      "Imprimindo valores arredondados 21.34 Segundos\n",
      "Agora você tem 66.67% de chances a mais de aprender python\n",
      "Meu nome é karol, tenho 30 de idade\n",
      "Agora você tem 99.78% de chances a mais de aprender python\n"
     ]
    }
   ],
   "source": [
    "# Formatando strings:\n",
    "nome = 'luiz'\n",
    "idade = 29\n",
    "a=20\n",
    "b=30\n",
    "\n",
    "# Formatação atual recomendada:\n",
    "print(f\"Meu nome é {nome}, tenho{idade} anos de idade\")\n",
    "print(\"Meu nome é {}, tenho{} anos de idade\".format(\"Carlos\",36))\n",
    "print('Imprimindo valores arredondados {:.2f} Segundos'.format(21.33747443646))\n",
    "print('Agora você tem {:.2%} de chances a mais de aprender python'.format(a/b)) # Retornando um valor em porcentagem \n",
    "\n",
    "# Formatação antiga:\n",
    "print(\"Meu nome é %s, tenho %d de idade\" %('karol', 30)) # s = string d = digitis\n",
    "\n",
    "# Usando %% para indicar que o resultado será seguido do sinal de %\n",
    "print('Agora você tem %0.2f%% de chances a mais de aprender python' %(99.77777)) "
   ]
  },
  {
   "cell_type": "code",
   "execution_count": 7,
   "metadata": {},
   "outputs": [
    {
     "name": "stdout",
     "output_type": "stream",
     "text": [
      "Meu nome é Luiz Carlos , mas pode me chamar só de Luiz\n",
      "Meu nome é John      , tenho 36 de idade\n",
      "Meu nome é John      , tenho 36 de idade\n",
      "Meu nome é       John, tenho 36 de idade\n",
      "Meu nome é    John   , tenho 36 de idade\n",
      "Meu nome é ___John___, tenho 36 de idade\n",
      "Meu nome é ***John***, tenho 36 de idade\n",
      "Meu nome é John______, tenho 36 de idade\n",
      "Meu nome é ______John, tenho 36 de idade\n"
     ]
    }
   ],
   "source": [
    "# Pode-se fazer todo o tratamento da saída usando as operações de fatiamento e concatenação de strings para criar qualquer layout. \n",
    "print(\"Meu nome é {0} {1} , mas pode me chamar só de {0}\".format(\"Luiz\", 'Carlos')) # Lembrando que a indexação em python começa em 0, 1, 2.\n",
    "\n",
    "#Passando um inteiro após o ':' fará com que o campo tenha um número mínimo de caracteres de largura. Isso é útil para alinhar colunas.\n",
    "print(\"Meu nome é {:10}, tenho {} de idade\".format(\"John\",36))\n",
    "\n",
    "# Alinhando a esquerda\n",
    "print(\"Meu nome é {:<10}, tenho {} de idade\".format(\"John\",36))\n",
    "\n",
    "# Alinhando a direita\n",
    "print(\"Meu nome é {:>10}, tenho {} de idade\".format(\"John\",36))\n",
    "\n",
    "# Centralizado:\n",
    "print(\"Meu nome é {:^10}, tenho {} de idade\".format(\"John\",36))\n",
    "\n",
    "# Preenchendo os espaços do alinhamento:\n",
    "print(\"Meu nome é {:_^10}, tenho {} de idade\".format(\"John\",36))\n",
    "print(\"Meu nome é {:*^10}, tenho {} de idade\".format(\"John\",36))\n",
    "print(\"Meu nome é {:_<10}, tenho {} de idade\".format(\"John\",36))\n",
    "print(\"Meu nome é {:_>10}, tenho {} de idade\".format(\"John\",36))\n"
   ]
  },
  {
   "cell_type": "code",
   "execution_count": 8,
   "metadata": {},
   "outputs": [
    {
     "name": "stdout",
     "output_type": "stream",
     "text": [
      "Olá, meu nome é luiz tenho 29 de idade.\n"
     ]
    }
   ],
   "source": [
    "# Imprimindo strings acessando valores em dicionários:\n",
    "# Esta seria uma formatação interessando quando se deseja imprimir um valor específico dentro de um dicionário com muitos itens.\n",
    "dic = {'nome': 'luiz', 'idade': 29}\n",
    "print('Olá, meu nome é {A} tenho {B} de idade.'.format(A=dic['nome'], B=dic['idade']))"
   ]
  },
  {
   "cell_type": "code",
   "execution_count": 9,
   "metadata": {},
   "outputs": [
    {
     "name": "stdout",
     "output_type": "stream",
     "text": [
      "Olá, meu nome é luiz e tenho 29 de idade, e estou aprendendo python.\n"
     ]
    }
   ],
   "source": [
    "# Imprimindo strings, chamando os valores de um dicionário com o **dic:\n",
    "dic = {'nome': 'luiz', 'idade': 29, 'programação': 'python'}\n",
    "print(\"Olá, meu nome é {nome} e tenho {idade} de idade, e estou aprendendo {programação}.\".format(**dic))"
   ]
  },
  {
   "cell_type": "markdown",
   "metadata": {},
   "source": [
    "## Obs:\n",
    "### Como foi possível observar, as strings de formato contêm “campos de substituição” entre chaves {}. Tudo o que não estiver entre chaves é considerado texto, que é integralmente copiado para a saída. Se for preciso incluir um caractere de chave no texto, ele pode ser incluido se for duplicado: {{exemplo}}."
   ]
  },
  {
   "cell_type": "code",
   "execution_count": 10,
   "metadata": {},
   "outputs": [
    {
     "name": "stdout",
     "output_type": "stream",
     "text": [
      "Exemplo do uso de chaves: Se for preciso usar {chaves} no texto, pode ser feito desta maneira.\n"
     ]
    }
   ],
   "source": [
    "a = 'Exemplo do uso de chaves:'\n",
    "print(f'{a} Se for preciso usar {{chaves}} no texto, pode ser feito desta maneira.')"
   ]
  },
  {
   "cell_type": "markdown",
   "metadata": {},
   "source": [
    "## Módulo IPython, para visualização de imagens"
   ]
  },
  {
   "cell_type": "code",
   "execution_count": 11,
   "metadata": {},
   "outputs": [],
   "source": [
    "# Importando do módulo Ipython o método Image para visualizar imagens no notebook:\n",
    "from IPython.display import Image"
   ]
  },
  {
   "cell_type": "code",
   "execution_count": 12,
   "metadata": {},
   "outputs": [
    {
     "data": {
      "image/jpeg": "[encoded data removed]",
      "text/plain": [
       "<IPython.core.display.Image object>"
      ]
     },
     "execution_count": 12,
     "metadata": {
      "image/jpeg": {
       "height": "350",
       "width": "200"
      }
     },
     "output_type": "execute_result"
    }
   ],
   "source": [
    "# Se a imagem estiver dentro do mesmo diretório que o arquivo Jupyter notebook(ipynb), basta indicar o nome do arquivo e a extensão.\n",
    "# Também é possível ajustar o tamanho da imagem\n",
    "Image('Data_Science.jpg', width =200, height = 350)"
   ]
  },
  {
   "cell_type": "code",
   "execution_count": 13,
   "metadata": {},
   "outputs": [
    {
     "data": {
      "image/png": "[encoded data removed]",
      "text/plain": [
       "<IPython.core.display.Image object>"
      ]
     },
     "execution_count": 13,
     "metadata": {
      "image/png": {
       "height": "250",
       "width": "200"
      }
     },
     "output_type": "execute_result"
    }
   ],
   "source": [
    "# Se a imagem estiver em uma diretório diferente do arquivo ipynb, basta add o caminho da imagem.\n",
    "# se atente ao endereço da imagem, se as barras estão na mesma formatação aceita pelo jupyter, que é contra barra a direita: /////////\n",
    "Image('python.png', width =200, height = 250)"
   ]
  },
  {
   "cell_type": "markdown",
   "metadata": {},
   "source": [
    "###  Uma outra opção é: usar o Edit com a opção de inserir imagens na opção de célula Markdown"
   ]
  },
  {
   "attachments": {
    "python.png": {
     "image/png": "[encoded data removed]"
    }
   },
   "cell_type": "markdown",
   "metadata": {},
   "source": [
    "![python.png](attachment:python.png)"
   ]
  },
  {
   "cell_type": "code",
   "execution_count": 14,
   "metadata": {},
   "outputs": [
    {
     "data": {
      "text/html": [
       "<img src=\"https://img.ibxk.com.br/2020/12/16/16202113844337.jpg?w=1120&h=420&mode=crop&scale=both\"/>"
      ],
      "text/plain": [
       "<IPython.core.display.Image object>"
      ]
     },
     "execution_count": 14,
     "metadata": {},
     "output_type": "execute_result"
    }
   ],
   "source": [
    "# Importando o método HTML para visualizar imagem de um site:\n",
    "from IPython.display import HTML \n",
    "Image(url='https://img.ibxk.com.br/2020/12/16/16202113844337.jpg?w=1120&h=420&mode=crop&scale=both')"
   ]
  },
  {
   "cell_type": "markdown",
   "metadata": {},
   "source": [
    "## Formatação para Links de site:"
   ]
  },
  {
   "cell_type": "markdown",
   "metadata": {},
   "source": [
    "### Para inserir um link, como demostrado abaixo, a célula precisa ser do tipo markdown:\n",
    "### [dentro dos colchetes, insira o texto que deseja exibir](dentro dos parenteses, insira o link para o site)\n",
    "[Link python brasil](https://docs.python.org/pt-br/3/contents.html) "
   ]
  },
  {
   "cell_type": "code",
   "execution_count": 15,
   "metadata": {},
   "outputs": [
    {
     "data": {
      "text/html": [
       "Neste formato é possível acessar o link no output: <a href=https://www.youtube.com/watch?v=HW29067qVWk&t=18s&ab_channel=CoreySchafer>Click aqui para acessar o link do site</a>"
      ],
      "text/plain": [
       "<IPython.core.display.HTML object>"
      ]
     },
     "execution_count": 15,
     "metadata": {},
     "output_type": "execute_result"
    }
   ],
   "source": [
    "# Imprimindo uma url copiado da internet\n",
    "from IPython.display import HTML\n",
    "HTML('Neste formato é possível acessar o link no output: <a href=https://www.youtube.com/watch?v=HW29067qVWk&t=18s&ab_channel=CoreySchafer>Click aqui para acessar o link do site</a>')"
   ]
  },
  {
   "cell_type": "markdown",
   "metadata": {},
   "source": [
    "## Formatando strings dentro da função "
   ]
  },
  {
   "cell_type": "code",
   "execution_count": 16,
   "metadata": {},
   "outputs": [
    {
     "data": {
      "text/plain": [
       "'Retornando o valor da função dentro da string: MUITO BOA ESSA FUNÇÃO .'"
      ]
     },
     "execution_count": 16,
     "metadata": {},
     "output_type": "execute_result"
    }
   ],
   "source": [
    "def to_uppercase(input):\n",
    "     return f\"Retornando o valor da função dentro da string: {input.upper()} .\"\n",
    "\n",
    "to_uppercase('muito boa essa função')"
   ]
  },
  {
   "cell_type": "markdown",
   "metadata": {},
   "source": [
    "## Imprimindo data e hora em diferentes formatos:"
   ]
  },
  {
   "cell_type": "code",
   "execution_count": 17,
   "metadata": {},
   "outputs": [
    {
     "name": "stdout",
     "output_type": "stream",
     "text": [
      "2021-08-17 11:09:23.055640\n"
     ]
    }
   ],
   "source": [
    "import datetime\n",
    "x=datetime.datetime.now()\n",
    "print(x)"
   ]
  },
  {
   "cell_type": "code",
   "execution_count": 18,
   "metadata": {},
   "outputs": [
    {
     "data": {
      "text/plain": [
       "'Tue Aug 17 11:09:23 2021'"
      ]
     },
     "execution_count": 18,
     "metadata": {},
     "output_type": "execute_result"
    }
   ],
   "source": [
    "# Versão local de data e horário:\n",
    "x.strftime('%c')"
   ]
  },
  {
   "cell_type": "code",
   "execution_count": 19,
   "metadata": {},
   "outputs": [
    {
     "data": {
      "text/plain": [
       "'08/17/21'"
      ]
     },
     "execution_count": 19,
     "metadata": {},
     "output_type": "execute_result"
    }
   ],
   "source": [
    "# Versão local de data:\n",
    "x.strftime('%x')"
   ]
  },
  {
   "cell_type": "code",
   "execution_count": 20,
   "metadata": {},
   "outputs": [
    {
     "data": {
      "text/plain": [
       "'11:09:23'"
      ]
     },
     "execution_count": 20,
     "metadata": {},
     "output_type": "execute_result"
    }
   ],
   "source": [
    "# Versão local de horário:\n",
    "x.strftime('%X')"
   ]
  },
  {
   "cell_type": "markdown",
   "metadata": {},
   "source": [
    "## Comandos Mágicos do Jupyter Notebook"
   ]
  },
  {
   "cell_type": "markdown",
   "metadata": {},
   "source": [
    "### Comandos mágicos são aprimoramentos adicionados ao código Python, esses comandos são fornecidos pelo kernel IPython.\n",
    "### Esses comandos mágicos são geralmente prefixados por um caractere “%”"
   ]
  },
  {
   "cell_type": "code",
   "execution_count": 21,
   "metadata": {},
   "outputs": [
    {
     "name": "stderr",
     "output_type": "stream",
     "text": [
      "ERROR: Could not find a version that satisfies the requirement moduloxyz (from versions: none)\n",
      "ERROR: No matching distribution found for moduloxyz\n"
     ]
    }
   ],
   "source": [
    "# ! é a abreviatura de %system, o comando mágico para executar o comando do terminal.\n",
    "! pip install moduloxyz"
   ]
  },
  {
   "cell_type": "code",
   "execution_count": 22,
   "metadata": {},
   "outputs": [
    {
     "name": "stdout",
     "output_type": "stream",
     "text": [
      "Overwriting hello.py\n"
     ]
    }
   ],
   "source": [
    "%%writefile hello.py\n",
    "print('Hello World')\n",
    "print('Útil para criar um arquivo .py pelo jupyter ou sobrescrever um arquivo .py existente')\n",
    "print('Neste caso com o uso de 2 %% todo o conteúdo da célula será inserido no arquivo hello.py')"
   ]
  },
  {
   "cell_type": "code",
   "execution_count": 23,
   "metadata": {},
   "outputs": [
    {
     "name": "stdout",
     "output_type": "stream",
     "text": [
      "Hello World\n",
      "Útil para criar um arquivo .py pelo jupyter ou sobrescrever um arquivo .py existente\n",
      "Neste caso com o uso de 2 %% todo o conteúdo da célula será inserido no arquivo hello.py\n"
     ]
    }
   ],
   "source": [
    "# % run permite que você execute qualquer arquivo python externo do notebook jupyter\n",
    "%run hello.py"
   ]
  },
  {
   "cell_type": "code",
   "execution_count": 24,
   "metadata": {},
   "outputs": [
    {
     "name": "stdout",
     "output_type": "stream",
     "text": [
      "\u001b[0mprint\u001b[0m\u001b[1;33m(\u001b[0m\u001b[1;34m'Hello World'\u001b[0m\u001b[1;33m)\u001b[0m\u001b[1;33m\n",
      "\u001b[0m\u001b[0mprint\u001b[0m\u001b[1;33m(\u001b[0m\u001b[1;34m'Útil para criar um arquivo .py pelo jupyter ou sobrescrever um arquivo .py existente'\u001b[0m\u001b[1;33m)\u001b[0m\u001b[1;33m\n",
      "\u001b[0m\u001b[0mprint\u001b[0m\u001b[1;33m(\u001b[0m\u001b[1;34m'Neste caso com o uso de 2 %% todo o conteúdo da célula será inserido no arquivo hello.py'\u001b[0m\u001b[1;33m)\u001b[0m\u001b[1;33m\u001b[0m\u001b[1;33m\u001b[0m\u001b[0m\n"
     ]
    }
   ],
   "source": [
    "# Usado para exibir o conteúdo de um arquivo\n",
    "%pycat hello.py"
   ]
  },
  {
   "cell_type": "markdown",
   "metadata": {},
   "source": [
    "### Tempo de execução de programas:"
   ]
  },
  {
   "cell_type": "code",
   "execution_count": 25,
   "metadata": {},
   "outputs": [
    {
     "name": "stdout",
     "output_type": "stream",
     "text": [
      "\u001b[1;31mDocstring:\u001b[0m\n",
      "Time execution of a Python statement or expression.\n",
      "\n",
      "The CPU and wall clock times are printed, and the value of the\n",
      "expression (if any) is returned.  Note that under Win32, system time\n",
      "is always reported as 0, since it can not be measured.\n",
      "\n",
      "This function can be used both as a line and cell magic:\n",
      "\n",
      "- In line mode you can time a single-line statement (though multiple\n",
      "  ones can be chained with using semicolons).\n",
      "\n",
      "- In cell mode, you can time the cell body (a directly\n",
      "  following statement raises an error).\n",
      "\n",
      "This function provides very basic timing functionality.  Use the timeit\n",
      "magic for more control over the measurement.\n",
      "\n",
      ".. versionchanged:: 7.3\n",
      "    User variables are no longer expanded,\n",
      "    the magic line is always left unmodified.\n",
      "\n",
      "Examples\n",
      "--------\n",
      "::\n",
      "\n",
      "  In [1]: %time 2**128\n",
      "  CPU times: user 0.00 s, sys: 0.00 s, total: 0.00 s\n",
      "  Wall time: 0.00\n",
      "  Out[1]: 340282366920938463463374607431768211456L\n",
      "\n",
      "  In [2]: n = 1000000\n",
      "\n",
      "  In [3]: %time sum(range(n))\n",
      "  CPU times: user 1.20 s, sys: 0.05 s, total: 1.25 s\n",
      "  Wall time: 1.37\n",
      "  Out[3]: 499999500000L\n",
      "\n",
      "  In [4]: %time print 'hello world'\n",
      "  hello world\n",
      "  CPU times: user 0.00 s, sys: 0.00 s, total: 0.00 s\n",
      "  Wall time: 0.00\n",
      "\n",
      "  Note that the time needed by Python to compile the given expression\n",
      "  will be reported if it is more than 0.1s.  In this example, the\n",
      "  actual exponentiation is done by Python at compilation time, so while\n",
      "  the expression can take a noticeable amount of time to compute, that\n",
      "  time is purely due to the compilation:\n",
      "\n",
      "  In [5]: %time 3**9999;\n",
      "  CPU times: user 0.00 s, sys: 0.00 s, total: 0.00 s\n",
      "  Wall time: 0.00 s\n",
      "\n",
      "  In [6]: %time 3**999999;\n",
      "  CPU times: user 0.00 s, sys: 0.00 s, total: 0.00 s\n",
      "  Wall time: 0.00 s\n",
      "  Compiler : 0.78 s\n",
      "  \n",
      "\u001b[1;31mFile:\u001b[0m      c:\\users\\luiz_\\anaconda3\\envs\\env1\\lib\\site-packages\\ipython\\core\\magics\\execution.py\n"
     ]
    }
   ],
   "source": [
    "# Seria o mesmo da opção help\n",
    "%time?"
   ]
  },
  {
   "cell_type": "code",
   "execution_count": 26,
   "metadata": {},
   "outputs": [
    {
     "name": "stdout",
     "output_type": "stream",
     "text": [
      "Wall time: 0 ns\n"
     ]
    }
   ],
   "source": [
    "# %time permite verificar o tempo de execução de uma linha de código\n",
    "%time x = [n ** 10 for n in range(100)]        "
   ]
  },
  {
   "cell_type": "code",
   "execution_count": 27,
   "metadata": {},
   "outputs": [
    {
     "name": "stdout",
     "output_type": "stream",
     "text": [
      "Wall time: 0 ns\n",
      "Wall time: 0 ns\n",
      "Wall time: 0 ns\n",
      "Wall time: 0 ns\n",
      "Wall time: 2.33 ms\n"
     ]
    }
   ],
   "source": [
    "for i in range(5):\n",
    "    %time sqrts = [n ** (1/2) for n in range(10**i)]"
   ]
  },
  {
   "cell_type": "code",
   "execution_count": 28,
   "metadata": {},
   "outputs": [
    {
     "name": "stdout",
     "output_type": "stream",
     "text": [
      "9951\n",
      "9954\n",
      "9957\n",
      "9960\n",
      "9963\n",
      "9966\n",
      "9969\n",
      "9972\n",
      "9975\n",
      "9978\n",
      "9981\n",
      "9984\n",
      "9987\n",
      "9990\n",
      "9993\n",
      "9996\n",
      "9999\n",
      "Wall time: 4.69 ms\n"
     ]
    }
   ],
   "source": [
    "%%time \n",
    "# Permite a verificação do tempo de execução de toda uma célula de código, e deve ser posicionado no topo da célula.\n",
    "for i in range(10000):\n",
    "    i += i*2\n",
    "    if i > 9950 and i <10000:\n",
    "        print(i)"
   ]
  },
  {
   "cell_type": "code",
   "execution_count": 29,
   "metadata": {},
   "outputs": [
    {
     "name": "stdout",
     "output_type": "stream",
     "text": [
      "28.4 µs ± 1.78 µs per loop (mean ± std. dev. of 7 runs, 10000 loops each)\n"
     ]
    }
   ],
   "source": [
    "# % timeit: tempo de execução repetida de uma única linha de código, e retorna uma média para maior precisão\n",
    "%timeit x = [n ** 10 for n in range(100)] "
   ]
  },
  {
   "cell_type": "markdown",
   "metadata": {},
   "source": [
    "## Para mais informações acessar os sites de referências:  \n",
    "https://docs.python.org/pt-br/3/tutorial/inputoutput.html  \n",
    "https://docs.python.org/pt-br/3/library/string.html  \n",
    "https://www.w3schools.com/python/python_datetime.asp  \n"
   ]
  },
  {
   "cell_type": "markdown",
   "metadata": {},
   "source": [
    "# Fim"
   ]
  }
 ],
 "metadata": {
  "anaconda-cloud": {},
  "interpreter": {
   "hash": "256b550e27a01a486617a94bb46c9f5a9b96ae4c87f007bd03dec2cfb1a19284"
  },
  "kernelspec": {
   "display_name": "Python 3.8.11 64-bit ('env1': conda)",
   "name": "python3"
  },
  "language_info": {
   "codemirror_mode": {
    "name": "ipython",
    "version": 3
   },
   "file_extension": ".py",
   "mimetype": "text/x-python",
   "name": "python",
   "nbconvert_exporter": "python",
   "pygments_lexer": "ipython3",
   "version": "3.8.8"
  }
 },
 "nbformat": 4,
 "nbformat_minor": 1
}
