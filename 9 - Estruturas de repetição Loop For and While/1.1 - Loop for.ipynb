{
 "cells": [
  {
   "cell_type": "markdown",
   "source": [
    "# <font color='blue'> Aprendendo Python</font>\r\n",
    "## <font color='green'>Estruturas de Repetição- Loop for</font>\r\n",
    "### Autor: Luiz"
   ],
   "metadata": {}
  },
  {
   "cell_type": "code",
   "execution_count": 1,
   "source": [
    "# Versão da Linguagem Python\r\n",
    "from platform import python_version\r\n",
    "print('A Versão da Linguagem Python Usada Neste Jupyter Notebook é:', python_version())"
   ],
   "outputs": [
    {
     "output_type": "stream",
     "name": "stdout",
     "text": [
      "A Versão da Linguagem Python Usada Neste Jupyter Notebook é: 3.8.11\n"
     ]
    }
   ],
   "metadata": {}
  },
  {
   "cell_type": "markdown",
   "source": [
    "## Loop For"
   ],
   "metadata": {}
  },
  {
   "cell_type": "code",
   "execution_count": 2,
   "source": [
    "# Criando uma tupla e imprimindo cada um dos valores\r\n",
    "tupla1= (1,2,3,4,5)\r\n",
    "for i in tupla1:\r\n",
    "    print(i)"
   ],
   "outputs": [
    {
     "output_type": "stream",
     "name": "stdout",
     "text": [
      "1\n",
      "2\n",
      "3\n",
      "4\n",
      "5\n"
     ]
    }
   ],
   "metadata": {}
  },
  {
   "cell_type": "code",
   "execution_count": 3,
   "source": [
    "# Criando uma lista e imprimindo cada um dos valores\r\n",
    "lista1=['maça', 'laranja', 'limão']\r\n",
    "for i in lista1:\r\n",
    "    print(i)"
   ],
   "outputs": [
    {
     "output_type": "stream",
     "name": "stdout",
     "text": [
      "maça\n",
      "laranja\n",
      "limão\n"
     ]
    }
   ],
   "metadata": {}
  },
  {
   "cell_type": "code",
   "execution_count": 4,
   "source": [
    "# Imprimindo os valores no intervalo entre 0 e 5 (exclusive)\r\n",
    "for cont in range(0,5):\r\n",
    "    print(cont)"
   ],
   "outputs": [
    {
     "output_type": "stream",
     "name": "stdout",
     "text": [
      "0\n",
      "1\n",
      "2\n",
      "3\n",
      "4\n"
     ]
    }
   ],
   "metadata": {}
  },
  {
   "cell_type": "code",
   "execution_count": 5,
   "source": [
    "# Imprimindo na tela os números pares da lista de números.\r\n",
    "# % representa uma divisão em 2 partes, e se o restante for igual a zero o número é par, ou divisível por 2. \r\n",
    "lista = [1,2,3,4,5,6,7,8,9,10]\r\n",
    "for num in lista:\r\n",
    "    if num % 2 == 0:\r\n",
    "        print(num)"
   ],
   "outputs": [
    {
     "output_type": "stream",
     "name": "stdout",
     "text": [
      "2\n",
      "4\n",
      "6\n",
      "8\n",
      "10\n"
     ]
    }
   ],
   "metadata": {}
  },
  {
   "cell_type": "code",
   "execution_count": 7,
   "source": [
    "#O restente de uma divisão por 2 em parte iguais é 1.\r\n",
    "print(9%2)"
   ],
   "outputs": [
    {
     "output_type": "stream",
     "name": "stdout",
     "text": [
      "1\n"
     ]
    }
   ],
   "metadata": {}
  },
  {
   "cell_type": "code",
   "execution_count": 8,
   "source": [
    "# imprimindo multiplos de 3\r\n",
    "\r\n",
    "listaMul3=(range(1,101))\r\n",
    "for mul3 in listaMul3:\r\n",
    "    if mul3 % 3 == 0:\r\n",
    "        print(mul3)\r\n",
    "             \r\n",
    "    \r\n"
   ],
   "outputs": [
    {
     "output_type": "stream",
     "name": "stdout",
     "text": [
      "3\n",
      "6\n",
      "9\n",
      "12\n",
      "15\n",
      "18\n",
      "21\n",
      "24\n",
      "27\n",
      "30\n",
      "33\n",
      "36\n",
      "39\n",
      "42\n",
      "45\n",
      "48\n",
      "51\n",
      "54\n",
      "57\n",
      "60\n",
      "63\n",
      "66\n",
      "69\n",
      "72\n",
      "75\n",
      "78\n",
      "81\n",
      "84\n",
      "87\n",
      "90\n",
      "93\n",
      "96\n",
      "99\n"
     ]
    }
   ],
   "metadata": {}
  },
  {
   "cell_type": "code",
   "execution_count": 9,
   "source": [
    "#imprimindo a soma dos multiplos de 3.\r\n",
    "somaMu=0\r\n",
    "listaMul3=(range(1,101))\r\n",
    "for mul3 in listaMul3:\r\n",
    "    if mul3 % 3 == 0:\r\n",
    "        somaMu+=mul3\r\n",
    "print(somaMu)"
   ],
   "outputs": [
    {
     "output_type": "stream",
     "name": "stdout",
     "text": [
      "1683\n"
     ]
    }
   ],
   "metadata": {}
  },
  {
   "cell_type": "code",
   "execution_count": 10,
   "source": [
    "# Listando os números no intervalo entre 0 e 101, com incremento em 2\r\n",
    "for i in range(0,50, 5): # poderia usar um intervalo de 2, ou qual quer número.\r\n",
    "    print(i)"
   ],
   "outputs": [
    {
     "output_type": "stream",
     "name": "stdout",
     "text": [
      "0\n",
      "5\n",
      "10\n",
      "15\n",
      "20\n",
      "25\n",
      "30\n",
      "35\n",
      "40\n",
      "45\n"
     ]
    }
   ],
   "metadata": {}
  },
  {
   "cell_type": "code",
   "execution_count": 11,
   "source": [
    "# Strings também são sequências, nesse caso não precisa estar entre parenteses ou colchetes.\r\n",
    "for i in 'python is cool':\r\n",
    "    print(i)\r\n",
    "    # se digitar print('is') 'is' irá retorna 14 vezes, quantidade que representa o nº de item na string."
   ],
   "outputs": [
    {
     "output_type": "stream",
     "name": "stdout",
     "text": [
      "p\n",
      "y\n",
      "t\n",
      "h\n",
      "o\n",
      "n\n",
      " \n",
      "i\n",
      "s\n",
      " \n",
      "c\n",
      "o\n",
      "o\n",
      "l\n"
     ]
    }
   ],
   "metadata": {}
  },
  {
   "cell_type": "markdown",
   "source": [
    "### Loops Aninhados"
   ],
   "metadata": {}
  },
  {
   "cell_type": "code",
   "execution_count": 12,
   "source": [
    "# Loops aninhados\r\n",
    "for i in range(0,2):\r\n",
    "    for a in range(0,5):\r\n",
    "        print(a)"
   ],
   "outputs": [
    {
     "output_type": "stream",
     "name": "stdout",
     "text": [
      "0\n",
      "1\n",
      "2\n",
      "3\n",
      "4\n",
      "0\n",
      "1\n",
      "2\n",
      "3\n",
      "4\n"
     ]
    }
   ],
   "metadata": {}
  },
  {
   "cell_type": "code",
   "execution_count": 13,
   "source": [
    "# Operando os valores de uma lista com loop for\r\n",
    "listaB = [32,53,85,10,15,17,19]\r\n",
    "\r\n",
    "# seria o valor de partida da lista.\r\n",
    "soma1=0\r\n",
    "\r\n",
    "# somando os item da listaB e multiplicando por 2.\r\n",
    "# o operador += indica soma, logo soma1+=somo2 é a soma das duas somas.\r\n",
    "for i in listaB:\r\n",
    "    soma2= i*2\r\n",
    "    soma1+=soma2\r\n",
    "print(soma1)"
   ],
   "outputs": [
    {
     "output_type": "stream",
     "name": "stdout",
     "text": [
      "462\n"
     ]
    }
   ],
   "metadata": {}
  },
  {
   "cell_type": "code",
   "execution_count": 14,
   "source": [
    "# somando os valores de uma lista\r\n",
    "listasoma=[1,2,3,4,5,6,7,8,9]\r\n",
    "soma=0\r\n",
    "for item in listasoma:\r\n",
    "    soma = soma + item\r\n",
    "print(soma)"
   ],
   "outputs": [
    {
     "output_type": "stream",
     "name": "stdout",
     "text": [
      "45\n"
     ]
    }
   ],
   "metadata": {}
  },
  {
   "cell_type": "code",
   "execution_count": 15,
   "source": [
    "# somando lista de valores dentro de um range\r\n",
    "listarg=(range(1,101))\r\n",
    "soma=0\r\n",
    "for item in listarg:\r\n",
    "    soma+=item # Abb para soma= soma + item\r\n",
    "print(soma)"
   ],
   "outputs": [
    {
     "output_type": "stream",
     "name": "stdout",
     "text": [
      "5050\n"
     ]
    }
   ],
   "metadata": {}
  },
  {
   "cell_type": "code",
   "execution_count": 16,
   "source": [
    "# Loops em lista de listas\r\n",
    "listas = [[1,2,3], [10,15,14], [10.1,8.7,2.3]]\r\n",
    "for valor in listas:\r\n",
    "    print(valor)"
   ],
   "outputs": [
    {
     "output_type": "stream",
     "name": "stdout",
     "text": [
      "[1, 2, 3]\n",
      "[10, 15, 14]\n",
      "[10.1, 8.7, 2.3]\n"
     ]
    }
   ],
   "metadata": {}
  },
  {
   "cell_type": "code",
   "execution_count": 17,
   "source": [
    "# Contando os itens de uma lista. ### não entendi esse.\r\n",
    "lista = [5,6,10,13,17]\r\n",
    "#count=0 é a variável\r\n",
    "count = 0\r\n",
    "\r\n",
    "# para cada item na lista contar como sendo 1.\r\n",
    "for item in lista:\r\n",
    "    count += 1           # count=count + 1\r\n",
    "    \r\n",
    "print(count)"
   ],
   "outputs": [
    {
     "output_type": "stream",
     "name": "stdout",
     "text": [
      "5\n"
     ]
    }
   ],
   "metadata": {}
  },
  {
   "cell_type": "code",
   "execution_count": 18,
   "source": [
    "# Contando o número de colunas\r\n",
    "lst = [[1,2,3],[3,4,5],[5,6,7]]\r\n",
    "#atribuir uma variável a uma linha, nesse caso [1,2,3] representa primeira_linha\r\n",
    "primeira_linha = lst[0]\r\n",
    "\r\n",
    "count = 0\r\n",
    "# para cada coluna na primeira linha contar como 1\r\n",
    "for column in primeira_linha:\r\n",
    "    count = count + 1\r\n",
    "    \r\n",
    "print(count)"
   ],
   "outputs": [
    {
     "output_type": "stream",
     "name": "stdout",
     "text": [
      "3\n"
     ]
    }
   ],
   "metadata": {}
  },
  {
   "cell_type": "code",
   "execution_count": 19,
   "source": [
    "primeira_linha"
   ],
   "outputs": [
    {
     "output_type": "execute_result",
     "data": {
      "text/plain": [
       "[1, 2, 3]"
      ]
     },
     "metadata": {},
     "execution_count": 19
    }
   ],
   "metadata": {}
  },
  {
   "cell_type": "code",
   "execution_count": 20,
   "source": [
    "# Pesquisando em listas\r\n",
    "listaC = [5, 6, 7, 10, 50]\r\n",
    "\r\n",
    "# Loop através da lista\r\n",
    "for item in listaC:\r\n",
    "    if item == 10:\r\n",
    "        print('Item encontrado')"
   ],
   "outputs": [
    {
     "output_type": "stream",
     "name": "stdout",
     "text": [
      "Item encontrado\n"
     ]
    }
   ],
   "metadata": {}
  },
  {
   "cell_type": "code",
   "execution_count": 21,
   "source": [
    "# Listando as chaves de um dicionário\r\n",
    "dict = {'k1':'Python','k2':'R','k3':'Scala'}\r\n",
    "for item in dict:\r\n",
    "    print(item)\r\n"
   ],
   "outputs": [
    {
     "output_type": "stream",
     "name": "stdout",
     "text": [
      "k1\n",
      "k2\n",
      "k3\n"
     ]
    }
   ],
   "metadata": {}
  },
  {
   "cell_type": "code",
   "execution_count": 22,
   "source": [
    "# Imprimindo chave e valor do dicionário. Usando o método items() para retornar os itens de um dicionário\r\n",
    "for kv in dict.items():\r\n",
    "    print(kv)"
   ],
   "outputs": [
    {
     "output_type": "stream",
     "name": "stdout",
     "text": [
      "('k1', 'Python')\n",
      "('k2', 'R')\n",
      "('k3', 'Scala')\n"
     ]
    }
   ],
   "metadata": {}
  },
  {
   "cell_type": "markdown",
   "source": [
    "# Fim"
   ],
   "metadata": {}
  },
  {
   "cell_type": "code",
   "execution_count": null,
   "source": [],
   "outputs": [],
   "metadata": {}
  }
 ],
 "metadata": {
  "kernelspec": {
   "name": "python3",
   "display_name": "Python 3.8.11 64-bit ('env1': conda)"
  },
  "language_info": {
   "codemirror_mode": {
    "name": "ipython",
    "version": 3
   },
   "file_extension": ".py",
   "mimetype": "text/x-python",
   "name": "python",
   "nbconvert_exporter": "python",
   "pygments_lexer": "ipython3",
   "version": "3.8.11"
  },
  "interpreter": {
   "hash": "256b550e27a01a486617a94bb46c9f5a9b96ae4c87f007bd03dec2cfb1a19284"
  }
 },
 "nbformat": 4,
 "nbformat_minor": 4
}