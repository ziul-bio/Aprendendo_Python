{
 "cells": [
  {
   "cell_type": "markdown",
   "metadata": {},
   "source": [
    "# <font color='blue'>Data Science Academy - Python Fundamentos - Capítulo 3</font>"
   ]
  },
  {
   "cell_type": "markdown",
   "metadata": {},
   "source": [
    "### By Luiz"
   ]
  },
  {
   "cell_type": "markdown",
   "metadata": {},
   "source": [
    "## Loop While"
   ]
  },
  {
   "cell_type": "code",
   "execution_count": 1,
   "metadata": {},
   "outputs": [
    {
     "name": "stdout",
     "output_type": "stream",
     "text": [
      "0\n",
      "1\n",
      "2\n",
      "3\n",
      "4\n",
      "5\n",
      "6\n",
      "7\n",
      "8\n",
      "9\n"
     ]
    }
   ],
   "source": [
    "# Usando o loop while para imprimir os valores de 0 a 9\n",
    "# lembrando que no Loop While não é usado coleção de items dentro como uma lista ou tupla. Com isso é preciso encerrar o loop.\n",
    "counter=0                  # atribuindo um valor inicial ao contador.\n",
    "while counter <10:         # 'enquanto counter for menor que 10'\n",
    "    print(counter)         # imprimar counter\n",
    "    counter+= 1            # esse comando poderia ser escrito 'counter= counter+1'\n",
    "                           # agora tem que se atribuir uma soma a cada vez que o item aparecer no loop, caso contrário será \n",
    "                           #sempre mostrado o valor 'zero' infinitamente."
   ]
  },
  {
   "cell_type": "code",
   "execution_count": 2,
   "metadata": {},
   "outputs": [
    {
     "name": "stdout",
     "output_type": "stream",
     "text": [
      "O valor de x nesta iteração é:  0\n",
      " x ainda é menor que 10, somando 1 a x\n",
      "O valor de x nesta iteração é:  1\n",
      " x ainda é menor que 10, somando 1 a x\n",
      "O valor de x nesta iteração é:  2\n",
      " x ainda é menor que 10, somando 1 a x\n",
      "O valor de x nesta iteração é:  3\n",
      " x ainda é menor que 10, somando 1 a x\n",
      "O valor de x nesta iteração é:  4\n",
      " x ainda é menor que 10, somando 1 a x\n",
      "O valor de x nesta iteração é:  5\n",
      " x ainda é menor que 10, somando 1 a x\n",
      "O valor de x nesta iteração é:  6\n",
      " x ainda é menor que 10, somando 1 a x\n",
      "O valor de x nesta iteração é:  7\n",
      " x ainda é menor que 10, somando 1 a x\n",
      "O valor de x nesta iteração é:  8\n",
      " x ainda é menor que 10, somando 1 a x\n",
      "O valor de x nesta iteração é:  9\n",
      " x ainda é menor que 10, somando 1 a x\n",
      "Loop concluído!\n"
     ]
    }
   ],
   "source": [
    "# Também é possível usar a claúsula else para encerrar o loop while. Ex1 2 prints\n",
    "x = 0\n",
    "\n",
    "while x < 10:\n",
    "    print ('O valor de x nesta iteração é: ', x)\n",
    "    print (' x ainda é menor que 10, somando 1 a x')\n",
    "    x += 1\n",
    "    \n",
    "else:\n",
    "    print ('Loop concluído!')"
   ]
  },
  {
   "cell_type": "code",
   "execution_count": 3,
   "metadata": {},
   "outputs": [
    {
     "name": "stdout",
     "output_type": "stream",
     "text": [
      "O valor de x nesta operação é: 0 valor menor que 10, mesmo quando se soma 1 ao valor de x\n",
      "O valor de x nesta operação é: 1 valor menor que 10, mesmo quando se soma 1 ao valor de x\n",
      "O valor de x nesta operação é: 2 valor menor que 10, mesmo quando se soma 1 ao valor de x\n",
      "O valor de x nesta operação é: 3 valor menor que 10, mesmo quando se soma 1 ao valor de x\n",
      "O valor de x nesta operação é: 4 valor menor que 10, mesmo quando se soma 1 ao valor de x\n",
      "O valor de x nesta operação é: 5 valor menor que 10, mesmo quando se soma 1 ao valor de x\n",
      "O valor de x nesta operação é: 6 valor menor que 10, mesmo quando se soma 1 ao valor de x\n",
      "O valor de x nesta operação é: 7 valor menor que 10, mesmo quando se soma 1 ao valor de x\n",
      "O valor de x nesta operação é: 8 valor menor que 10, mesmo quando se soma 1 ao valor de x\n",
      "O valor de x nesta operação é: 9 valor menor que 10, mesmo quando se soma 1 ao valor de x\n",
      "Loop concluído, O valor de x é maior que 10\n"
     ]
    }
   ],
   "source": [
    "# Também é possível usar a claúsula else para encerrar o loop while. Ex 2 1 print\n",
    "x=0\n",
    "while x <10:\n",
    "    print('O valor de x nesta operação é:', x, 'valor menor que 10, mesmo quando se soma 1 ao valor de x')\n",
    "    \n",
    "    x+=1\n",
    "\n",
    "else:\n",
    "    print('Loop concluído, O valor de x é maior que 10')"
   ]
  },
  {
   "cell_type": "markdown",
   "metadata": {},
   "source": [
    "### Pass, Break, Continue"
   ]
  },
  {
   "cell_type": "code",
   "execution_count": 4,
   "metadata": {},
   "outputs": [
    {
     "name": "stdout",
     "output_type": "stream",
     "text": [
      "0\n",
      "1\n",
      "2\n",
      "3\n",
      "4\n"
     ]
    }
   ],
   "source": [
    "contador=0\n",
    "\n",
    "while contador <100:\n",
    "    if contador ==5:\n",
    "        break\n",
    "    else:\n",
    "        pass\n",
    "    print(contador)\n",
    "    contador+=1"
   ]
  },
  {
   "cell_type": "code",
   "execution_count": 5,
   "metadata": {},
   "outputs": [
    {
     "name": "stdout",
     "output_type": "stream",
     "text": [
      "F\n",
      "d\n",
      "a\n",
      "m\n",
      "e\n",
      "t\n",
      "o\n",
      "s\n",
      "_\n",
      "e\n",
      "m\n",
      "_\n"
     ]
    }
   ],
   "source": [
    "# o continue serve a que se passe por um ou mais items ao procssar o código.\n",
    "for frase in \"Fundamentos_em_Python\":\n",
    "    if frase =='u':\n",
    "        continue \n",
    "    if frase == 'n':\n",
    "        continue\n",
    "    if frase == 'P':\n",
    "        break\n",
    "    print(frase)"
   ]
  },
  {
   "cell_type": "markdown",
   "metadata": {},
   "source": [
    "### While e For juntos"
   ]
  },
  {
   "cell_type": "code",
   "execution_count": 87,
   "metadata": {},
   "outputs": [
    {
     "name": "stdout",
     "output_type": "stream",
     "text": [
      "2 é um número primo\n",
      "3 é um número primo\n",
      "5 é um número primo\n",
      "7 é um número primo\n",
      "11 é um número primo\n",
      "13 é um número primo\n",
      "17 é um número primo\n",
      "19 é um número primo\n",
      "23 é um número primo\n",
      "29 é um número primo\n",
      "31 é um número primo\n",
      "37 é um número primo\n",
      "41 é um número primo\n",
      "43 é um número primo\n",
      "47 é um número primo\n",
      "53 é um número primo\n",
      "59 é um número primo\n",
      "61 é um número primo\n",
      "67 é um número primo\n",
      "71 é um número primo\n",
      "73 é um número primo\n",
      "79 é um número primo\n",
      "83 é um número primo\n",
      "89 é um número primo\n",
      "97 é um número primo\n"
     ]
    }
   ],
   "source": [
    "# imprimindo os números primos nun range de 2 a 100\n",
    "for i in range(2,100):\n",
    "    j = 2\n",
    "    counter = 0\n",
    "    while j < i:\n",
    "        if i % j == 0:\n",
    "            counter = 1\n",
    "            j = j + 1\n",
    "        else:\n",
    "            j = j + 1\n",
    "    \n",
    "    if counter == 0:\n",
    "        print(str(i) + \" é um número primo\")\n",
    "        counter = 0\n",
    "    else:\n",
    "        counter = 0"
   ]
  },
  {
   "cell_type": "code",
   "execution_count": 4,
   "metadata": {},
   "outputs": [
    {
     "name": "stdout",
     "output_type": "stream",
     "text": [
      "2 É um número primo\n",
      "3 É um número primo\n",
      "5 É um número primo\n",
      "7 É um número primo\n",
      "11 É um número primo\n",
      "13 É um número primo\n",
      "17 É um número primo\n",
      "19 É um número primo\n",
      "23 É um número primo\n",
      "29 É um número primo\n",
      "31 É um número primo\n",
      "37 É um número primo\n",
      "41 É um número primo\n",
      "43 É um número primo\n",
      "47 É um número primo\n",
      "53 É um número primo\n",
      "59 É um número primo\n",
      "61 É um número primo\n",
      "67 É um número primo\n",
      "71 É um número primo\n",
      "73 É um número primo\n",
      "79 É um número primo\n",
      "83 É um número primo\n",
      "89 É um número primo\n",
      "97 É um número primo\n"
     ]
    }
   ],
   "source": [
    "# # imprimindo os números primos num range de 0 a 100.\n",
    "for num in range(0, 101):\n",
    "    if num > 1:\n",
    "        for i in range(2, num):\n",
    "            if (num % i == 0):\n",
    "                break\n",
    "        else:\n",
    "            print(num, 'É um número primo')\n",
    "        "
   ]
  },
  {
   "cell_type": "code",
   "execution_count": 3,
   "metadata": {},
   "outputs": [
    {
     "name": "stdout",
     "output_type": "stream",
     "text": [
      "2\n",
      "3\n",
      "5\n",
      "7\n",
      "11\n",
      "13\n",
      "17\n",
      "19\n",
      "23\n",
      "29\n",
      "31\n",
      "37\n",
      "41\n",
      "43\n",
      "47\n",
      "53\n",
      "59\n",
      "61\n",
      "67\n",
      "71\n",
      "73\n",
      "79\n",
      "83\n",
      "89\n",
      "97\n"
     ]
    }
   ],
   "source": [
    "import math\n",
    "for num in range(2,100):\n",
    "    if all(num%i!=0 for i in range(2,int(math.sqrt(num))+1)):\n",
    "        print(num)"
   ]
  },
  {
   "cell_type": "code",
   "execution_count": null,
   "metadata": {},
   "outputs": [],
   "source": []
  }
 ],
 "metadata": {
  "kernelspec": {
   "display_name": "Python 3",
   "language": "python",
   "name": "python3"
  },
  "language_info": {
   "codemirror_mode": {
    "name": "ipython",
    "version": 3
   },
   "file_extension": ".py",
   "mimetype": "text/x-python",
   "name": "python",
   "nbconvert_exporter": "python",
   "pygments_lexer": "ipython3",
   "version": "3.8.8"
  }
 },
 "nbformat": 4,
 "nbformat_minor": 4
}
