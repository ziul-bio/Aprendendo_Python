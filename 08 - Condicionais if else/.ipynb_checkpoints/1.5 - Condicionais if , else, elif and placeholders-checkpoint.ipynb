{
 "cells": [
  {
   "cell_type": "markdown",
   "metadata": {},
   "source": [
    "# <font color='blue'>Data Science Academy - Python Fundamentos - Capítulo 3</font>"
   ]
  },
  {
   "cell_type": "markdown",
   "metadata": {},
   "source": [
    "### By Luiz"
   ]
  },
  {
   "cell_type": "markdown",
   "metadata": {},
   "source": [
    "### Condicional if"
   ]
  },
  {
   "cell_type": "code",
   "execution_count": null,
   "metadata": {},
   "outputs": [],
   "source": [
    "# estrutura da condicional if (comando, não esquecer do sinal : e da identação tecla TAB)\n",
    "if 1<2:\n",
    "        print('valor válido')"
   ]
  },
  {
   "cell_type": "code",
   "execution_count": null,
   "metadata": {},
   "outputs": [],
   "source": [
    "1>2"
   ]
  },
  {
   "cell_type": "code",
   "execution_count": null,
   "metadata": {},
   "outputs": [],
   "source": [
    "# se quiser add um novo valor caso a operação seja falta usar o else\n",
    "if 10>20:\n",
    "    print('valor válido')\n",
    "else:\n",
    "    print('valor inválido')"
   ]
  },
  {
   "cell_type": "code",
   "execution_count": null,
   "metadata": {},
   "outputs": [],
   "source": [
    "10>20"
   ]
  },
  {
   "cell_type": "code",
   "execution_count": null,
   "metadata": {},
   "outputs": [],
   "source": [
    "10<20"
   ]
  },
  {
   "cell_type": "code",
   "execution_count": null,
   "metadata": {},
   "outputs": [],
   "source": [
    "if True:\n",
    "    print('ABB')\n"
   ]
  },
  {
   "cell_type": "code",
   "execution_count": null,
   "metadata": {},
   "outputs": [],
   "source": [
    "if False:\n",
    "        print('BCC')"
   ]
  },
  {
   "cell_type": "code",
   "execution_count": null,
   "metadata": {},
   "outputs": [],
   "source": [
    "10>31"
   ]
  },
  {
   "cell_type": "code",
   "execution_count": null,
   "metadata": {},
   "outputs": [],
   "source": [
    "10>9"
   ]
  },
  {
   "cell_type": "markdown",
   "metadata": {},
   "source": [
    "### Condicionais Aninhados"
   ]
  },
  {
   "cell_type": "code",
   "execution_count": null,
   "metadata": {},
   "outputs": [],
   "source": [
    "idade=20\n",
    "if idade >= 18:\n",
    "    print('pode beber')\n",
    "else:\n",
    "    print('não pode beber')"
   ]
  },
  {
   "cell_type": "code",
   "execution_count": null,
   "metadata": {},
   "outputs": [],
   "source": [
    "# O segundo if está dentro do primeiro, então usar um espaço de indentação, ao invés de \"tab\" no segundo \"if\" e \"else\"\n",
    "nome='Luizz'\n",
    "if idade>=18:\n",
    " if nome=='luiz':\n",
    "        print('Luiz pode beber')\n",
    " else:\n",
    "    print('Luiz não pode beber')"
   ]
  },
  {
   "cell_type": "code",
   "execution_count": null,
   "metadata": {},
   "outputs": [],
   "source": [
    "# nesta condição poderia-se ter usado \"or\" ao invés de \"and\".\n",
    "idade=18\n",
    "nome= 'luiz'\n",
    "if idade>=18 and nome=='luiz':\n",
    "    print('Luiz pode beber')\n",
    "     \n",
    "else:\n",
    "    print('não pode')"
   ]
  },
  {
   "cell_type": "code",
   "execution_count": null,
   "metadata": {},
   "outputs": [],
   "source": [
    "# nesta condição poderia-se ter usado \"or\" ao invés de \"and\".\n",
    "idade=17\n",
    "nome= 'luiz'\n",
    "if idade>=18 and nome=='luiz':\n",
    "    print('Luiz pode beber')\n",
    "     \n",
    "else:\n",
    "    print('não pode')"
   ]
  },
  {
   "cell_type": "markdown",
   "metadata": {},
   "source": [
    "### Elif"
   ]
  },
  {
   "cell_type": "code",
   "execution_count": null,
   "metadata": {},
   "outputs": [],
   "source": [
    "dia='segunda'\n",
    "if dia=='segunda':\n",
    "    print('sol')\n",
    "else:\n",
    "    print('chuva')"
   ]
  },
  {
   "cell_type": "code",
   "execution_count": null,
   "metadata": {},
   "outputs": [],
   "source": [
    "dia='quarta'\n",
    "if dia=='segunda':\n",
    "    print('sol')\n",
    "elif dia=='terça':\n",
    "    print(sol)\n",
    "else:\n",
    "    print('chuva')"
   ]
  },
  {
   "cell_type": "markdown",
   "metadata": {},
   "source": [
    "### Operadores Lógicos"
   ]
  },
  {
   "cell_type": "code",
   "execution_count": null,
   "metadata": {},
   "outputs": [],
   "source": [
    "## Usando mais de uma condição na cláusula if \n",
    "disciplina=input('Digite o nome da disciplina:')\n",
    "nota_final=input('Digite a nota final(entre 0 e 100):')\n",
    "\n",
    "if disciplina == 'biologia' or 'Biologia' and 'nota_final' >= '70':\n",
    "    print('Você foi Aprovado')\n",
    "\n",
    "else:\n",
    "    print ('Reprovado')"
   ]
  },
  {
   "cell_type": "code",
   "execution_count": null,
   "metadata": {},
   "outputs": [],
   "source": [
    "# Usando mais de uma condição na cláusula if e introduzindo Placeholders (%s para string %d numero decimal %r representante)\n",
    "semestre=input('Digite o semestre:')\n",
    "disciplina=input('Digite o nome da disciplina:')\n",
    "nota_final1=input('Digite a nota (entre 0 e 100):')\n",
    "\n",
    "\n",
    "if disciplina == 'biologia' or 'Biologia' and 'nota_final1' >= '70' and 'semestre' ==1:\n",
    "    print('Você foi Aprovado em %s com média final %r'%(disciplina, nota_final))\n",
    "\n",
    "else:\n",
    "    print ('Reprovado')"
   ]
  },
  {
   "cell_type": "code",
   "execution_count": null,
   "metadata": {
    "scrolled": true
   },
   "outputs": [],
   "source": [
    "# Extras: add operações dentro das condições mais placeholders.\n",
    "disciplina=input('Digite a disciplina:')\n",
    "semestre=int(input('Digite o Semestre:'))\n",
    "nota1=int(input('Digite a nota 1:'))\n",
    "nota2=int(input('Digite a nota 2:'))\n",
    "nota_final2=(nota1+nota2)/2\n",
    "\n",
    "if disciplina == ('biologia') and int(semestre) == 1 and nota_final2 >= 70:\n",
    "    print('vc foi aprovado com %r de aproveitamento' %(nota_final2))\n",
    "\n",
    "else:\n",
    "    print('reprovado')"
   ]
  },
  {
   "cell_type": "code",
   "execution_count": 1,
   "metadata": {},
   "outputs": [
    {
     "name": "stdout",
     "output_type": "stream",
     "text": [
      "False\n"
     ]
    }
   ],
   "source": [
    "a = 5\n",
    "b = 4\n",
    "print(a < b)\n",
    "if a < b:\n",
    "    print(a,'é menor que',b)\n",
    "    print(a < b)"
   ]
  },
  {
   "cell_type": "code",
   "execution_count": 2,
   "metadata": {},
   "outputs": [
    {
     "name": "stdout",
     "output_type": "stream",
     "text": [
      "Uma das condições, pelo menos, é verdadeira.\n"
     ]
    }
   ],
   "source": [
    "a = 5\n",
    "b = 4\n",
    "c = 1\n",
    "d = 5\n",
    "if (a < b) or (c < d):\n",
    "    print('Uma das condições, pelo menos, é verdadeira.')"
   ]
  },
  {
   "cell_type": "code",
   "execution_count": 3,
   "metadata": {},
   "outputs": [
    {
     "name": "stdout",
     "output_type": "stream",
     "text": [
      "0 é ZERO\n"
     ]
    }
   ],
   "source": [
    "x = 0\n",
    "if x > 0: # x é positivo\n",
    "    print(x,'é positivo')\n",
    "    if x % 2 == 0:\n",
    "        print(x,'é par')\n",
    "    else:\n",
    "        print(x,'é ímpar')\n",
    "        \n",
    "elif x < 0: # x é negativo\n",
    "    print(x,'é negativo')\n",
    "    \n",
    "else: # x é zero    \n",
    "    print(x,'é ZERO')"
   ]
  },
  {
   "cell_type": "code",
   "execution_count": null,
   "metadata": {},
   "outputs": [],
   "source": [
    "a = 5\n",
    "b = 4\n",
    "print(a < b)\n",
    "if a < b:\n",
    "    print(a,'é menor que',b)\n",
    "    print(a < b)\n",
    "\n",
    "a = 5\n",
    "b = 4\n",
    "c = 1\n",
    "d = 5\n",
    "if (a < b) or (c < d):\n",
    "    print('Uma das condições, pelo menos, é verdadeira.')\n",
    "\n",
    "x = 0\n",
    "if x > 0: # x é positivo\n",
    "    print(x,'é positivo')\n",
    "    if x % 2 == 0:\n",
    "        print(x,'é par')\n",
    "    else:\n",
    "        print(x,'é ímpar')\n",
    "        \n",
    "elif x < 0: # x é negativo\n",
    "    print(x,'é negativo')\n",
    "    \n",
    "else: # x é zero    \n",
    "    print(x,'é ZERO')"
   ]
  },
  {
   "cell_type": "markdown",
   "metadata": {},
   "source": [
    "# Fim"
   ]
  }
 ],
 "metadata": {
  "kernelspec": {
   "display_name": "Python 3",
   "language": "python",
   "name": "python3"
  },
  "language_info": {
   "codemirror_mode": {
    "name": "ipython",
    "version": 3
   },
   "file_extension": ".py",
   "mimetype": "text/x-python",
   "name": "python",
   "nbconvert_exporter": "python",
   "pygments_lexer": "ipython3",
   "version": "3.8.8"
  }
 },
 "nbformat": 4,
 "nbformat_minor": 4
}
