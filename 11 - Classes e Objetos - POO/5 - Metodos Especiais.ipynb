{
 "cells": [
  {
   "cell_type": "markdown",
   "source": [
    "# <font color='blue'> Aprendendo Python</font>\r\n",
    "## <font color='green'>Métodos Especiais</font>\r\n",
    "### Autor: Luiz"
   ],
   "metadata": {}
  },
  {
   "cell_type": "code",
   "execution_count": 1,
   "source": [
    "# Versão da Linguagem Python\r\n",
    "from platform import python_version\r\n",
    "print('Versão da Linguagem Python Usada Neste Jupyter Notebook:', python_version())"
   ],
   "outputs": [
    {
     "output_type": "stream",
     "name": "stdout",
     "text": [
      "Versão da Linguagem Python Usada Neste Jupyter Notebook: 3.8.11\n"
     ]
    }
   ],
   "metadata": {}
  },
  {
   "cell_type": "markdown",
   "source": [
    "## Métodos Especiais"
   ],
   "metadata": {}
  },
  {
   "cell_type": "code",
   "execution_count": 2,
   "source": [
    "# Criando a classe Livro\r\n",
    "class Livro():\r\n",
    "    def __init__(self, titulo, autor, paginas):\r\n",
    "        print (\"Livro criado\")\r\n",
    "        self.titulo = titulo\r\n",
    "        self.autor = autor\r\n",
    "        self.paginas = paginas\r\n",
    "        \r\n",
    "# o contrabarra no código abaixo, faz uma quebra de linha no código.        \r\n",
    "    def __str__(self):\r\n",
    "        return \"Título: %s , autor: %s, páginas: %s \" \\\r\n",
    "    %(self.titulo, self.autor, self.paginas)\r\n",
    "    \r\n",
    "# o __len__ é um método especial, ja criado pelo python.    \r\n",
    "    def __len__(self):\r\n",
    "        return self.paginas\r\n",
    "    \r\n",
    "# a vantagem de se criar um próprio método, igual ao len abaixo, é que se pode acrescentar elementos a ele.     \r\n",
    "    def len(self):\r\n",
    "        return print(\"Páginas do livro com método comum: \", self.paginas)\r\n",
    "\r\n"
   ],
   "outputs": [],
   "metadata": {}
  },
  {
   "cell_type": "code",
   "execution_count": 3,
   "source": [
    "# Asicionando atributos ao objeto:\r\n",
    "livro1 = Livro(\"Os Lusíadas\", \"Luis de Camões\", 8816)"
   ],
   "outputs": [
    {
     "output_type": "stream",
     "name": "stdout",
     "text": [
      "Livro criado\n"
     ]
    }
   ],
   "metadata": {}
  },
  {
   "cell_type": "code",
   "execution_count": 4,
   "source": [
    "# Métodos especiais __str__ é chamado quando o print é chamado\r\n",
    "print(livro1)"
   ],
   "outputs": [
    {
     "output_type": "stream",
     "name": "stdout",
     "text": [
      "Título: Os Lusíadas , autor: Luis de Camões, páginas: 8816 \n"
     ]
    }
   ],
   "metadata": {}
  },
  {
   "cell_type": "code",
   "execution_count": 5,
   "source": [
    "str(livro1)"
   ],
   "outputs": [
    {
     "output_type": "execute_result",
     "data": {
      "text/plain": [
       "'Título: Os Lusíadas , autor: Luis de Camões, páginas: 8816 '"
      ]
     },
     "metadata": {},
     "execution_count": 5
    }
   ],
   "metadata": {}
  },
  {
   "cell_type": "code",
   "execution_count": 6,
   "source": [
    "len(livro1)"
   ],
   "outputs": [
    {
     "output_type": "execute_result",
     "data": {
      "text/plain": [
       "8816"
      ]
     },
     "metadata": {},
     "execution_count": 6
    }
   ],
   "metadata": {}
  },
  {
   "cell_type": "code",
   "execution_count": 7,
   "source": [
    "livro1.len()"
   ],
   "outputs": [
    {
     "output_type": "stream",
     "name": "stdout",
     "text": [
      "Páginas do livro com método comum:  8816\n"
     ]
    }
   ],
   "metadata": {}
  },
  {
   "cell_type": "code",
   "execution_count": 8,
   "source": [
    "# Ao executar a função del para remover um atributo, o Python executa:\r\n",
    "# livro1.__delattr__(\"paginas\")\r\n",
    "del livro1.paginas"
   ],
   "outputs": [],
   "metadata": {}
  },
  {
   "cell_type": "code",
   "execution_count": 9,
   "source": [
    "hasattr(livro1, \"paginas\")"
   ],
   "outputs": [
    {
     "output_type": "execute_result",
     "data": {
      "text/plain": [
       "False"
      ]
     },
     "metadata": {},
     "execution_count": 9
    }
   ],
   "metadata": {}
  },
  {
   "cell_type": "markdown",
   "source": [
    "# Fim"
   ],
   "metadata": {}
  }
 ],
 "metadata": {
  "kernelspec": {
   "name": "python3",
   "display_name": "Python 3.8.11 64-bit ('env1': conda)"
  },
  "language_info": {
   "codemirror_mode": {
    "name": "ipython",
    "version": 3
   },
   "file_extension": ".py",
   "mimetype": "text/x-python",
   "name": "python",
   "nbconvert_exporter": "python",
   "pygments_lexer": "ipython3",
   "version": "3.8.11"
  },
  "interpreter": {
   "hash": "256b550e27a01a486617a94bb46c9f5a9b96ae4c87f007bd03dec2cfb1a19284"
  }
 },
 "nbformat": 4,
 "nbformat_minor": 1
}