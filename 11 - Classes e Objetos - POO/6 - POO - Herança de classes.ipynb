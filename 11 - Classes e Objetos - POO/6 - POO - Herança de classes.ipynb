{
 "cells": [
  {
   "cell_type": "markdown",
   "source": [
    "# <font color='blue'> Aprendendo Python</font>\r\n",
    "## <font color='green'>Herança de Classes</font>\r\n",
    "### Autor: Luiz"
   ],
   "metadata": {}
  },
  {
   "cell_type": "code",
   "execution_count": 1,
   "source": [
    "# Versão da Linguagem Python\r\n",
    "from platform import python_version\r\n",
    "print('Versão da Linguagem Python Usada Neste Jupyter Notebook:', python_version())"
   ],
   "outputs": [
    {
     "output_type": "stream",
     "name": "stdout",
     "text": [
      "Versão da Linguagem Python Usada Neste Jupyter Notebook: 3.8.11\n"
     ]
    }
   ],
   "metadata": {}
  },
  {
   "cell_type": "markdown",
   "source": [
    "## Herança de classe (Inheritance Class)"
   ],
   "metadata": {}
  },
  {
   "cell_type": "code",
   "execution_count": 2,
   "source": [
    "class Mortalkombat(object):\r\n",
    "    def __init__(self, life, score):\r\n",
    "        self.life=life\r\n",
    "        self.score=score\r\n",
    "    \r\n",
    "class player1(Mortalkombat):\r\n",
    "    def __init__(self, habilidade_x, life, score):\r\n",
    "        self.habilidade_x=habilidade_x\r\n",
    "        Mortalkombat.__init__(self, life, score)\r\n",
    "   \r\n",
    "    def inf_player1(self):\r\n",
    "        print('Player 1 has %s, %s, %s' %(self.habilidade_x, self.life, self.score))   \r\n",
    "\r\n",
    "\r\n",
    "class player2(Mortalkombat):\r\n",
    "    def __init__(self, habilidade_y, life, score):\r\n",
    "        self.habilidade_y = habilidade_y\r\n",
    "        Mortalkombat.__init__(self, life, score)\r\n",
    "        \r\n",
    "    def inf_player2(self):\r\n",
    "        print('Player 2 has %s %s %s' %(self.habilidade_y, self.life, self.score))    \r\n",
    "\r\n"
   ],
   "outputs": [],
   "metadata": {}
  },
  {
   "cell_type": "code",
   "execution_count": 3,
   "source": [
    "scorpion=player1('handsnake', '100', '0')"
   ],
   "outputs": [],
   "metadata": {}
  },
  {
   "cell_type": "code",
   "execution_count": 4,
   "source": [
    "scorpion.habilidade_x"
   ],
   "outputs": [
    {
     "output_type": "execute_result",
     "data": {
      "text/plain": [
       "'handsnake'"
      ]
     },
     "metadata": {},
     "execution_count": 4
    }
   ],
   "metadata": {}
  },
  {
   "cell_type": "code",
   "execution_count": 5,
   "source": [
    "scorpion.inf_player1()"
   ],
   "outputs": [
    {
     "output_type": "stream",
     "name": "stdout",
     "text": [
      "Player 1 has handsnake, 100, 0\n"
     ]
    }
   ],
   "metadata": {}
  },
  {
   "cell_type": "code",
   "execution_count": 6,
   "source": [
    "scorpion.life"
   ],
   "outputs": [
    {
     "output_type": "execute_result",
     "data": {
      "text/plain": [
       "'100'"
      ]
     },
     "metadata": {},
     "execution_count": 6
    }
   ],
   "metadata": {}
  },
  {
   "cell_type": "code",
   "execution_count": 7,
   "source": [
    "scorpion.score"
   ],
   "outputs": [
    {
     "output_type": "execute_result",
     "data": {
      "text/plain": [
       "'0'"
      ]
     },
     "metadata": {},
     "execution_count": 7
    }
   ],
   "metadata": {}
  },
  {
   "cell_type": "code",
   "execution_count": 8,
   "source": [
    "subzero=player2('ice', '100', '0')"
   ],
   "outputs": [],
   "metadata": {}
  },
  {
   "cell_type": "code",
   "execution_count": 9,
   "source": [
    "subzero.habilidade_y"
   ],
   "outputs": [
    {
     "output_type": "execute_result",
     "data": {
      "text/plain": [
       "'ice'"
      ]
     },
     "metadata": {},
     "execution_count": 9
    }
   ],
   "metadata": {}
  },
  {
   "cell_type": "code",
   "execution_count": 10,
   "source": [
    "subzero.inf_player2()"
   ],
   "outputs": [
    {
     "output_type": "stream",
     "name": "stdout",
     "text": [
      "Player 2 has ice 100 0\n"
     ]
    }
   ],
   "metadata": {}
  },
  {
   "cell_type": "code",
   "execution_count": 11,
   "source": [
    "subzero.life"
   ],
   "outputs": [
    {
     "output_type": "execute_result",
     "data": {
      "text/plain": [
       "'100'"
      ]
     },
     "metadata": {},
     "execution_count": 11
    }
   ],
   "metadata": {}
  },
  {
   "cell_type": "code",
   "execution_count": 12,
   "source": [
    "subzero.score"
   ],
   "outputs": [
    {
     "output_type": "execute_result",
     "data": {
      "text/plain": [
       "'0'"
      ]
     },
     "metadata": {},
     "execution_count": 12
    }
   ],
   "metadata": {}
  },
  {
   "cell_type": "code",
   "execution_count": 13,
   "source": [
    "class Soldado:\r\n",
    "    def __init__(self, name, team, forca, ):\r\n",
    "        self.name = name\r\n",
    "        self.team = team\r\n",
    "        self.forca = forca\r\n",
    "        self.live = True\r\n",
    "        self.power = 100\r\n",
    "    def inf(self):\r\n",
    "        print('Name.....: ' + self.name)\r\n",
    "        print('Team.....: ' + str(self.team))\r\n",
    "        print('Força....: ' + str(self.forca))\r\n",
    "        print('Live.....: ' + ('Sim' if self.live else 'Não'))\r\n",
    "        print('Power....: ' + str(self.power))\r\n",
    "        print('____________________________')\r\n",
    "       \r\n",
    "    \r\n",
    "    \r\n",
    "class Exercito(Soldado):   \r\n",
    "    def __init__(self, name, team):\r\n",
    "        self.forca = 100\r\n",
    "        super().__init__(name, team, self.forca)\r\n",
    "        \r\n",
    "class Marinha(Soldado):   \r\n",
    "    def __init__(self, name, team):\r\n",
    "        self.forca = 200\r\n",
    "        super().__init__(name, team, self.forca)        \r\n",
    "        \r\n",
    "class Aeronautica(Soldado):   \r\n",
    "    def __init__(self, name, team):\r\n",
    "        self.forca = 300\r\n",
    "        super().__init__(name, team, self.forca)        "
   ],
   "outputs": [],
   "metadata": {}
  },
  {
   "cell_type": "code",
   "execution_count": 14,
   "source": [
    "s1=Exercito('João', 1)\r\n",
    "s2=Marinha('Luiz', 2)\r\n",
    "s3=Aeronautica('Karol', 1)\r\n",
    "s4=Exercito('Maria', 2) "
   ],
   "outputs": [],
   "metadata": {}
  },
  {
   "cell_type": "code",
   "execution_count": 15,
   "source": [
    "s1.live=False\r\n",
    "s1.power=0"
   ],
   "outputs": [],
   "metadata": {}
  },
  {
   "cell_type": "code",
   "execution_count": 16,
   "source": [
    "s1.inf()\r\n",
    "s2.inf()\r\n",
    "s3.inf()\r\n",
    "s4.inf()"
   ],
   "outputs": [
    {
     "output_type": "stream",
     "name": "stdout",
     "text": [
      "Name.....: João\n",
      "Team.....: 1\n",
      "Força....: 100\n",
      "Live.....: Não\n",
      "Power....: 0\n",
      "____________________________\n",
      "Name.....: Luiz\n",
      "Team.....: 2\n",
      "Força....: 200\n",
      "Live.....: Sim\n",
      "Power....: 100\n",
      "____________________________\n",
      "Name.....: Karol\n",
      "Team.....: 1\n",
      "Força....: 300\n",
      "Live.....: Sim\n",
      "Power....: 100\n",
      "____________________________\n",
      "Name.....: Maria\n",
      "Team.....: 2\n",
      "Força....: 100\n",
      "Live.....: Sim\n",
      "Power....: 100\n",
      "____________________________\n"
     ]
    }
   ],
   "metadata": {}
  }
 ],
 "metadata": {
  "kernelspec": {
   "name": "python3",
   "display_name": "Python 3.8.11 64-bit ('env1': conda)"
  },
  "language_info": {
   "codemirror_mode": {
    "name": "ipython",
    "version": 3
   },
   "file_extension": ".py",
   "mimetype": "text/x-python",
   "name": "python",
   "nbconvert_exporter": "python",
   "pygments_lexer": "ipython3",
   "version": "3.8.11"
  },
  "interpreter": {
   "hash": "256b550e27a01a486617a94bb46c9f5a9b96ae4c87f007bd03dec2cfb1a19284"
  }
 },
 "nbformat": 4,
 "nbformat_minor": 4
}