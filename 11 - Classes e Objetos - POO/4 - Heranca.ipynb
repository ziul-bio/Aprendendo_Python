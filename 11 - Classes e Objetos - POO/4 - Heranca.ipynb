{
 "cells": [
  {
   "cell_type": "markdown",
   "source": [
    "# <font color='blue'> Aprendendo Python</font>\r\n",
    "## <font color='green'>Herança</font>\r\n",
    "### Autor: Luiz"
   ],
   "metadata": {}
  },
  {
   "cell_type": "code",
   "execution_count": 1,
   "source": [
    "# Versão da Linguagem Python\r\n",
    "from platform import python_version\r\n",
    "print('Versão da Linguagem Python Usada Neste Jupyter Notebook:', python_version())"
   ],
   "outputs": [
    {
     "output_type": "stream",
     "name": "stdout",
     "text": [
      "Versão da Linguagem Python Usada Neste Jupyter Notebook: 3.8.11\n"
     ]
    }
   ],
   "metadata": {}
  },
  {
   "cell_type": "markdown",
   "source": [
    "## Herança"
   ],
   "metadata": {}
  },
  {
   "cell_type": "code",
   "execution_count": 2,
   "source": [
    "# Criando a classe Animal - Super-classe\r\n",
    "class Animal():\r\n",
    "    \r\n",
    "    def __init__(self):\r\n",
    "        print(\"Animal criado\")\r\n",
    "\r\n",
    "    def Identificacao(self):\r\n",
    "        print(\"Animal\")\r\n",
    "\r\n",
    "    def Alimentacao(self):\r\n",
    "        print(\"Tipo de Alimentação\")\r\n",
    "    \r\n",
    "    def habitat(self):\r\n",
    "        print('Local onde vive')"
   ],
   "outputs": [],
   "metadata": {}
  },
  {
   "cell_type": "code",
   "execution_count": 3,
   "source": [
    "# Criando a classe Cachorro - Sub-classe, esta pode usar atributos da super classe, evitando que seja reescrita.\r\n",
    "class Cachorro(Animal):\r\n",
    "    \r\n",
    "    def __init__(self):\r\n",
    "        Animal.__init__(self)\r\n",
    "        print(\"Objeto Cachorro criado\")\r\n",
    "\r\n",
    "    def Identificacao(self):\r\n",
    "        print(\"Cachorro\")\r\n",
    "\r\n",
    "    def Sons(self):\r\n",
    "        print(\"Au Au!\")"
   ],
   "outputs": [],
   "metadata": {}
  },
  {
   "cell_type": "code",
   "execution_count": 4,
   "source": [
    "# Criando um objeto (Instanciando a classe)\r\n",
    "rex = Cachorro()"
   ],
   "outputs": [
    {
     "output_type": "stream",
     "name": "stdout",
     "text": [
      "Animal criado\n",
      "Objeto Cachorro criado\n"
     ]
    }
   ],
   "metadata": {}
  },
  {
   "cell_type": "code",
   "execution_count": 5,
   "source": [
    "rex.Alimentacao()"
   ],
   "outputs": [
    {
     "output_type": "stream",
     "name": "stdout",
     "text": [
      "Tipo de Alimentação\n"
     ]
    }
   ],
   "metadata": {}
  },
  {
   "cell_type": "code",
   "execution_count": 6,
   "source": [
    "# Executando o método da classe Animal (super-classe)\r\n",
    "rex.habitat()"
   ],
   "outputs": [
    {
     "output_type": "stream",
     "name": "stdout",
     "text": [
      "Local onde vive\n"
     ]
    }
   ],
   "metadata": {}
  },
  {
   "cell_type": "code",
   "execution_count": 7,
   "source": [
    "# Executando o método da classe Cachorro (sub-classe)\r\n",
    "rex.Identificacao()"
   ],
   "outputs": [
    {
     "output_type": "stream",
     "name": "stdout",
     "text": [
      "Cachorro\n"
     ]
    }
   ],
   "metadata": {}
  },
  {
   "cell_type": "code",
   "execution_count": 8,
   "source": [
    "# Executando o método da classe Cachorro (sub-classe)\r\n",
    "rex.Sons()"
   ],
   "outputs": [
    {
     "output_type": "stream",
     "name": "stdout",
     "text": [
      "Au Au!\n"
     ]
    }
   ],
   "metadata": {}
  },
  {
   "cell_type": "code",
   "execution_count": 9,
   "source": [
    "getattr(rex, '' )"
   ],
   "outputs": [
    {
     "output_type": "error",
     "ename": "AttributeError",
     "evalue": "'Cachorro' object has no attribute ''",
     "traceback": [
      "\u001b[1;31m---------------------------------------------------------------------------\u001b[0m",
      "\u001b[1;31mAttributeError\u001b[0m                            Traceback (most recent call last)",
      "\u001b[1;32m<ipython-input-9-7f844511ed95>\u001b[0m in \u001b[0;36m<module>\u001b[1;34m\u001b[0m\n\u001b[1;32m----> 1\u001b[1;33m \u001b[0mgetattr\u001b[0m\u001b[1;33m(\u001b[0m\u001b[0mrex\u001b[0m\u001b[1;33m,\u001b[0m \u001b[1;34m''\u001b[0m \u001b[1;33m)\u001b[0m\u001b[1;33m\u001b[0m\u001b[1;33m\u001b[0m\u001b[0m\n\u001b[0m",
      "\u001b[1;31mAttributeError\u001b[0m: 'Cachorro' object has no attribute ''"
     ]
    }
   ],
   "metadata": {}
  },
  {
   "cell_type": "markdown",
   "source": [
    "# Fim"
   ],
   "metadata": {}
  }
 ],
 "metadata": {
  "kernelspec": {
   "name": "python3",
   "display_name": "Python 3.8.11 64-bit ('env1': conda)"
  },
  "language_info": {
   "codemirror_mode": {
    "name": "ipython",
    "version": 3
   },
   "file_extension": ".py",
   "mimetype": "text/x-python",
   "name": "python",
   "nbconvert_exporter": "python",
   "pygments_lexer": "ipython3",
   "version": "3.8.11"
  },
  "interpreter": {
   "hash": "256b550e27a01a486617a94bb46c9f5a9b96ae4c87f007bd03dec2cfb1a19284"
  }
 },
 "nbformat": 4,
 "nbformat_minor": 1
}