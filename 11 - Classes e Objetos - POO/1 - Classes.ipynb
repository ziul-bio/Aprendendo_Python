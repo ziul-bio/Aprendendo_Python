{
 "cells": [
  {
   "cell_type": "markdown",
   "source": [
    "# <font color='blue'> Aprendendo Python</font>\r\n",
    "## <font color='green'>Classes</font>\r\n",
    "### Autor: Luiz"
   ],
   "metadata": {}
  },
  {
   "cell_type": "code",
   "execution_count": 1,
   "source": [
    "# Versão da Linguagem Python\r\n",
    "from platform import python_version\r\n",
    "print('Versão da Linguagem Python Usada Neste Jupyter Notebook:', python_version())"
   ],
   "outputs": [
    {
     "output_type": "stream",
     "name": "stdout",
     "text": [
      "Versão da Linguagem Python Usada Neste Jupyter Notebook: 3.8.11\n"
     ]
    }
   ],
   "metadata": {}
  },
  {
   "cell_type": "markdown",
   "source": [
    "# Classes"
   ],
   "metadata": {}
  },
  {
   "cell_type": "markdown",
   "source": [
    "### Para criar uma classe, utiliza-se a palavra reservada class. O nome da sua classe segue a mesma convenção de nomes para criação de funções e variáveis, mas normalmente se usa a primeira letra maiúscula em cada palavra no nome da classe."
   ],
   "metadata": {}
  },
  {
   "cell_type": "code",
   "execution_count": 2,
   "source": [
    "# Criando uma classe chamada Livro\r\n",
    "class Livro():\r\n",
    "    \r\n",
    "    # Este método vai inicializar cada objeto criado a partir desta classe\r\n",
    "    # O nome deste método (ou função) é __init__ (acho que vem de initialize)\r\n",
    "    # (self) é uma referência a cada atributo de um objeto criado a partir desta classe\r\n",
    "    def __init__(self):\r\n",
    "        \r\n",
    "        # Atributos de cada objeto criado a partir desta classe. \r\n",
    "        # O self indica que estes são atributos dos objetos\r\n",
    "        self.titulo = 'O Monge e o Executivo'\r\n",
    "        self.isbn = 9988888\r\n",
    "        print(\"Construtor chamado para criar um objeto desta classe\")\r\n",
    "        \r\n",
    "    # Métodos são funções, que recebem como parâmetro atributos do objeto criado    \r\n",
    "    def imprime(self):\r\n",
    "        print(\"Foi criado o livro %s e ISBN %d\" %(self.titulo, self.isbn))"
   ],
   "outputs": [],
   "metadata": {}
  },
  {
   "cell_type": "code",
   "execution_count": 3,
   "source": [
    "# Criando uma instância da classe Livro\r\n",
    "Livro1 = Livro()"
   ],
   "outputs": [
    {
     "output_type": "stream",
     "name": "stdout",
     "text": [
      "Construtor chamado para criar um objeto desta classe\n"
     ]
    }
   ],
   "metadata": {}
  },
  {
   "cell_type": "code",
   "execution_count": 4,
   "source": [
    "# Tipo do Objeto Livro1\r\n",
    "type(Livro1)"
   ],
   "outputs": [
    {
     "output_type": "execute_result",
     "data": {
      "text/plain": [
       "__main__.Livro"
      ]
     },
     "metadata": {},
     "execution_count": 4
    }
   ],
   "metadata": {}
  },
  {
   "cell_type": "code",
   "execution_count": 5,
   "source": [
    "# Atributo do objeto Livro1\r\n",
    "Livro1.titulo"
   ],
   "outputs": [
    {
     "output_type": "execute_result",
     "data": {
      "text/plain": [
       "'O Monge e o Executivo'"
      ]
     },
     "metadata": {},
     "execution_count": 5
    }
   ],
   "metadata": {}
  },
  {
   "cell_type": "code",
   "execution_count": 6,
   "source": [
    "# Método do objeto Livro1\r\n",
    "Livro1.imprime()"
   ],
   "outputs": [
    {
     "output_type": "stream",
     "name": "stdout",
     "text": [
      "Foi criado o livro O Monge e o Executivo e ISBN 9988888\n"
     ]
    }
   ],
   "metadata": {}
  },
  {
   "cell_type": "code",
   "execution_count": 7,
   "source": [
    "# Criando a classe Livro com parâmetros no método construtor\r\n",
    "class Livro():\r\n",
    "    def __init__(self, titulo, isbn, preco):\r\n",
    "        self.titulo = titulo\r\n",
    "        self.isbn = isbn\r\n",
    "        self.preço = preco\r\n",
    "        print(\"Construtor chamado para criar um objeto desta classe\")\r\n",
    "        \r\n",
    "    def imprime(self, titulo, isbn, preco):\r\n",
    "        print(\"Este é o livro %s, ISBN %d e preco %s\" %(titulo, isbn, preco))"
   ],
   "outputs": [],
   "metadata": {}
  },
  {
   "cell_type": "code",
   "execution_count": 8,
   "source": [
    "# Criando o objeto Livro2 que é uma instância da classe Livro\r\n",
    "Livro2 = Livro(\"A Menina que Roubava Livros\", 77886611, 'R$20')"
   ],
   "outputs": [
    {
     "output_type": "stream",
     "name": "stdout",
     "text": [
      "Construtor chamado para criar um objeto desta classe\n"
     ]
    }
   ],
   "metadata": {}
  },
  {
   "cell_type": "code",
   "execution_count": 9,
   "source": [
    "Livro2.titulo"
   ],
   "outputs": [
    {
     "output_type": "execute_result",
     "data": {
      "text/plain": [
       "'A Menina que Roubava Livros'"
      ]
     },
     "metadata": {},
     "execution_count": 9
    }
   ],
   "metadata": {}
  },
  {
   "cell_type": "code",
   "execution_count": 10,
   "source": [
    "# Método do objeto Livro2\r\n",
    "Livro2.imprime(\"A Menina que Roubava Livros\", 77886611, 'R$20')"
   ],
   "outputs": [
    {
     "output_type": "stream",
     "name": "stdout",
     "text": [
      "Este é o livro A Menina que Roubava Livros, ISBN 77886611 e preco R$20\n"
     ]
    }
   ],
   "metadata": {}
  },
  {
   "cell_type": "code",
   "execution_count": 11,
   "source": [
    "# Criando a classe cachorro\r\n",
    "class Cachorrada():\r\n",
    "    def __init__(self, raça, sexo):\r\n",
    "        self.raça = raça\r\n",
    "        self.sexo = sexo\r\n",
    "        print(\"Construtor chamado para criar um objeto desta classe\")"
   ],
   "outputs": [],
   "metadata": {}
  },
  {
   "cell_type": "code",
   "execution_count": 12,
   "source": [
    "# Criando um objeto a partir da classe cachorro\r\n",
    "Rex = Cachorrada(raça='Labrador', sexo='Macho')"
   ],
   "outputs": [
    {
     "output_type": "stream",
     "name": "stdout",
     "text": [
      "Construtor chamado para criar um objeto desta classe\n"
     ]
    }
   ],
   "metadata": {}
  },
  {
   "cell_type": "code",
   "execution_count": 13,
   "source": [
    "# Criando um objeto a partir da classe cachorro\r\n",
    "Golias = Cachorrada(raça='Huskie', sexo='Macho')"
   ],
   "outputs": [
    {
     "output_type": "stream",
     "name": "stdout",
     "text": [
      "Construtor chamado para criar um objeto desta classe\n"
     ]
    }
   ],
   "metadata": {}
  },
  {
   "cell_type": "code",
   "execution_count": 14,
   "source": [
    "# Atributo da classe cachorro, utilizado pelo objeto criado\r\n",
    "Rex.raça"
   ],
   "outputs": [
    {
     "output_type": "execute_result",
     "data": {
      "text/plain": [
       "'Labrador'"
      ]
     },
     "metadata": {},
     "execution_count": 14
    }
   ],
   "metadata": {}
  },
  {
   "cell_type": "code",
   "execution_count": 15,
   "source": [
    "Rex.sexo"
   ],
   "outputs": [
    {
     "output_type": "execute_result",
     "data": {
      "text/plain": [
       "'Macho'"
      ]
     },
     "metadata": {},
     "execution_count": 15
    }
   ],
   "metadata": {}
  },
  {
   "cell_type": "code",
   "execution_count": 16,
   "source": [
    "# Atributo da classe cachorro, utilizado pelo objeto criado\r\n",
    "Golias.raça"
   ],
   "outputs": [
    {
     "output_type": "execute_result",
     "data": {
      "text/plain": [
       "'Huskie'"
      ]
     },
     "metadata": {},
     "execution_count": 16
    }
   ],
   "metadata": {}
  },
  {
   "cell_type": "code",
   "execution_count": 17,
   "source": [
    "Golias.sexo"
   ],
   "outputs": [
    {
     "output_type": "execute_result",
     "data": {
      "text/plain": [
       "'Macho'"
      ]
     },
     "metadata": {},
     "execution_count": 17
    }
   ],
   "metadata": {}
  },
  {
   "cell_type": "markdown",
   "source": [
    "## Os métodos __str __ () e __repr __ () "
   ],
   "metadata": {}
  },
  {
   "cell_type": "markdown",
   "source": [
    "### Lidam com como os objetos apresentados como strings, então você precisa se certificar de incluir pelo menos um desses métodos em sua definição de classe. Se você tiver que escolher um, vá com __repr __ () porque ele pode ser usado no lugar de __str __ ().\r\n",
    "\r\n",
    "### A string retornada por __str __ () é a representação string informal de um objeto e deve ser legível. A string retornada por __repr __ () é a representação oficial e não deve ser ambígua. Chamar str () e repr () é preferível a usar __str __ () e __repr __ () diretamente.\r\n",
    "\r\n",
    "### Por padrão, f-strings usarão __str __ (), mas você pode ter certeza de que usarão __repr __ () se incluir o sinalizador de conversão!r: "
   ],
   "metadata": {}
  },
  {
   "cell_type": "code",
   "execution_count": 18,
   "source": [
    "class Pessoa:\r\n",
    "    def __init__(self, first_name, last_name, age):\r\n",
    "        self.first_name = first_name\r\n",
    "        self.last_name = last_name\r\n",
    "        self.age = age\r\n",
    "\r\n",
    "    def __str__(self):\r\n",
    "        return f\"{self.first_name} {self.last_name} is {self.age}.\"\r\n",
    "\r\n",
    "    def __repr__(self):\r\n",
    "        return f\"{self.first_name} {self.last_name} is {self.age}. Surprise!\""
   ],
   "outputs": [],
   "metadata": {}
  },
  {
   "cell_type": "code",
   "execution_count": 19,
   "source": [
    "p1=Pessoa('luiz','vieira', 29)\r\n",
    "print(p1)"
   ],
   "outputs": [
    {
     "output_type": "stream",
     "name": "stdout",
     "text": [
      "luiz vieira is 29.\n"
     ]
    }
   ],
   "metadata": {}
  },
  {
   "cell_type": "code",
   "execution_count": 20,
   "source": [
    "repr(p1)"
   ],
   "outputs": [
    {
     "output_type": "execute_result",
     "data": {
      "text/plain": [
       "'luiz vieira is 29. Surprise!'"
      ]
     },
     "metadata": {},
     "execution_count": 20
    }
   ],
   "metadata": {}
  },
  {
   "cell_type": "markdown",
   "source": [
    "# Fim"
   ],
   "metadata": {}
  }
 ],
 "metadata": {
  "kernelspec": {
   "name": "python3",
   "display_name": "Python 3.8.11 64-bit ('env1': conda)"
  },
  "language_info": {
   "codemirror_mode": {
    "name": "ipython",
    "version": 3
   },
   "file_extension": ".py",
   "mimetype": "text/x-python",
   "name": "python",
   "nbconvert_exporter": "python",
   "pygments_lexer": "ipython3",
   "version": "3.8.11"
  },
  "interpreter": {
   "hash": "256b550e27a01a486617a94bb46c9f5a9b96ae4c87f007bd03dec2cfb1a19284"
  }
 },
 "nbformat": 4,
 "nbformat_minor": 1
}