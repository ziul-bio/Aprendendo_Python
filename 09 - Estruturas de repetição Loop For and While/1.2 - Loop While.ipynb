{
 "cells": [
  {
   "cell_type": "markdown",
   "source": [
    "# <font color='blue'> Aprendendo Python</font>\r\n",
    "## <font color='green'>Estruturas de Repetição - Loop while</font>\r\n",
    "### Autor: Luiz"
   ],
   "metadata": {}
  },
  {
   "cell_type": "code",
   "execution_count": 2,
   "source": [
    "# Versão da Linguagem Python\r\n",
    "from platform import python_version\r\n",
    "print('A Versão da Linguagem Python Usada Neste Jupyter Notebook é:', python_version())"
   ],
   "outputs": [
    {
     "output_type": "stream",
     "name": "stdout",
     "text": [
      "A Versão da Linguagem Python Usada Neste Jupyter Notebook é: 3.8.11\n"
     ]
    }
   ],
   "metadata": {}
  },
  {
   "cell_type": "markdown",
   "source": [
    "## Loop While"
   ],
   "metadata": {}
  },
  {
   "cell_type": "code",
   "execution_count": 3,
   "source": [
    "# Usando o loop while para imprimir os valores de 0 a 9\r\n",
    "# lembrando que no Loop While não é usado coleção de items dentro como uma lista ou tupla. Com isso é preciso encerrar o loop.\r\n",
    "counter=0                  # atribuindo um valor inicial ao contador.\r\n",
    "while counter <10:         # 'enquanto counter for menor que 10'\r\n",
    "    print(counter)         # imprimar counter\r\n",
    "    counter+= 1            # esse comando poderia ser escrito 'counter= counter+1'\r\n",
    "                           # agora tem que se atribuir uma soma a cada vez que o item aparecer no loop, caso contrário será \r\n",
    "                           #sempre mostrado o valor 'zero' infinitamente."
   ],
   "outputs": [
    {
     "output_type": "stream",
     "name": "stdout",
     "text": [
      "0\n",
      "1\n",
      "2\n",
      "3\n",
      "4\n",
      "5\n",
      "6\n",
      "7\n",
      "8\n",
      "9\n"
     ]
    }
   ],
   "metadata": {}
  },
  {
   "cell_type": "code",
   "execution_count": 4,
   "source": [
    "# Também é possível usar a claúsula else para encerrar o loop while. Ex1 2 prints\r\n",
    "x = 0\r\n",
    "\r\n",
    "while x < 10:\r\n",
    "    print ('O valor de x nesta iteração é: ', x)\r\n",
    "    print (' x ainda é menor que 10, somando 1 a x')\r\n",
    "    x += 1\r\n",
    "    \r\n",
    "else:\r\n",
    "    print ('Loop concluído!')"
   ],
   "outputs": [
    {
     "output_type": "stream",
     "name": "stdout",
     "text": [
      "O valor de x nesta iteração é:  0\n",
      " x ainda é menor que 10, somando 1 a x\n",
      "O valor de x nesta iteração é:  1\n",
      " x ainda é menor que 10, somando 1 a x\n",
      "O valor de x nesta iteração é:  2\n",
      " x ainda é menor que 10, somando 1 a x\n",
      "O valor de x nesta iteração é:  3\n",
      " x ainda é menor que 10, somando 1 a x\n",
      "O valor de x nesta iteração é:  4\n",
      " x ainda é menor que 10, somando 1 a x\n",
      "O valor de x nesta iteração é:  5\n",
      " x ainda é menor que 10, somando 1 a x\n",
      "O valor de x nesta iteração é:  6\n",
      " x ainda é menor que 10, somando 1 a x\n",
      "O valor de x nesta iteração é:  7\n",
      " x ainda é menor que 10, somando 1 a x\n",
      "O valor de x nesta iteração é:  8\n",
      " x ainda é menor que 10, somando 1 a x\n",
      "O valor de x nesta iteração é:  9\n",
      " x ainda é menor que 10, somando 1 a x\n",
      "Loop concluído!\n"
     ]
    }
   ],
   "metadata": {}
  },
  {
   "cell_type": "code",
   "execution_count": 5,
   "source": [
    "# Também é possível usar a claúsula else para encerrar o loop while. Ex 2 1 print\r\n",
    "x=0\r\n",
    "while x <10:\r\n",
    "    print('O valor de x nesta operação é:', x, 'valor menor que 10, mesmo quando se soma 1 ao valor de x')\r\n",
    "    \r\n",
    "    x+=1\r\n",
    "\r\n",
    "else:\r\n",
    "    print('Loop concluído, O valor de x é maior que 10')"
   ],
   "outputs": [
    {
     "output_type": "stream",
     "name": "stdout",
     "text": [
      "O valor de x nesta operação é: 0 valor menor que 10, mesmo quando se soma 1 ao valor de x\n",
      "O valor de x nesta operação é: 1 valor menor que 10, mesmo quando se soma 1 ao valor de x\n",
      "O valor de x nesta operação é: 2 valor menor que 10, mesmo quando se soma 1 ao valor de x\n",
      "O valor de x nesta operação é: 3 valor menor que 10, mesmo quando se soma 1 ao valor de x\n",
      "O valor de x nesta operação é: 4 valor menor que 10, mesmo quando se soma 1 ao valor de x\n",
      "O valor de x nesta operação é: 5 valor menor que 10, mesmo quando se soma 1 ao valor de x\n",
      "O valor de x nesta operação é: 6 valor menor que 10, mesmo quando se soma 1 ao valor de x\n",
      "O valor de x nesta operação é: 7 valor menor que 10, mesmo quando se soma 1 ao valor de x\n",
      "O valor de x nesta operação é: 8 valor menor que 10, mesmo quando se soma 1 ao valor de x\n",
      "O valor de x nesta operação é: 9 valor menor que 10, mesmo quando se soma 1 ao valor de x\n",
      "Loop concluído, O valor de x é maior que 10\n"
     ]
    }
   ],
   "metadata": {}
  },
  {
   "cell_type": "markdown",
   "source": [
    "### Pass, Break, Continue"
   ],
   "metadata": {}
  },
  {
   "cell_type": "code",
   "execution_count": 6,
   "source": [
    "contador=0\r\n",
    "\r\n",
    "while contador <100:\r\n",
    "    if contador ==5:\r\n",
    "        break\r\n",
    "    else:\r\n",
    "        pass\r\n",
    "    print(contador)\r\n",
    "    contador+=1"
   ],
   "outputs": [
    {
     "output_type": "stream",
     "name": "stdout",
     "text": [
      "0\n",
      "1\n",
      "2\n",
      "3\n",
      "4\n"
     ]
    }
   ],
   "metadata": {}
  },
  {
   "cell_type": "code",
   "execution_count": 7,
   "source": [
    "# o continue serve a que se passe por um ou mais items ao procssar o código.\r\n",
    "for frase in \"Fundamentos_em_Python\":\r\n",
    "    if frase =='u':\r\n",
    "        continue \r\n",
    "    if frase == 'n':\r\n",
    "        continue\r\n",
    "    if frase == 'P':\r\n",
    "        break\r\n",
    "    print(frase)"
   ],
   "outputs": [
    {
     "output_type": "stream",
     "name": "stdout",
     "text": [
      "F\n",
      "d\n",
      "a\n",
      "m\n",
      "e\n",
      "t\n",
      "o\n",
      "s\n",
      "_\n",
      "e\n",
      "m\n",
      "_\n"
     ]
    }
   ],
   "metadata": {}
  },
  {
   "cell_type": "markdown",
   "source": [
    "### While e For juntos"
   ],
   "metadata": {}
  },
  {
   "cell_type": "code",
   "execution_count": 8,
   "source": [
    "# imprimindo os números primos nun range de 2 a 100\r\n",
    "for i in range(2,100):\r\n",
    "    j = 2\r\n",
    "    counter = 0\r\n",
    "    while j < i:\r\n",
    "        if i % j == 0:\r\n",
    "            counter = 1\r\n",
    "            j = j + 1\r\n",
    "        else:\r\n",
    "            j = j + 1\r\n",
    "    \r\n",
    "    if counter == 0:\r\n",
    "        print(str(i) + \" é um número primo\")\r\n",
    "        counter = 0\r\n",
    "    else:\r\n",
    "        counter = 0"
   ],
   "outputs": [
    {
     "output_type": "stream",
     "name": "stdout",
     "text": [
      "2 é um número primo\n",
      "3 é um número primo\n",
      "5 é um número primo\n",
      "7 é um número primo\n",
      "11 é um número primo\n",
      "13 é um número primo\n",
      "17 é um número primo\n",
      "19 é um número primo\n",
      "23 é um número primo\n",
      "29 é um número primo\n",
      "31 é um número primo\n",
      "37 é um número primo\n",
      "41 é um número primo\n",
      "43 é um número primo\n",
      "47 é um número primo\n",
      "53 é um número primo\n",
      "59 é um número primo\n",
      "61 é um número primo\n",
      "67 é um número primo\n",
      "71 é um número primo\n",
      "73 é um número primo\n",
      "79 é um número primo\n",
      "83 é um número primo\n",
      "89 é um número primo\n",
      "97 é um número primo\n"
     ]
    }
   ],
   "metadata": {}
  },
  {
   "cell_type": "code",
   "execution_count": 9,
   "source": [
    "# # imprimindo os números primos num range de 0 a 100.\r\n",
    "for num in range(0, 101):\r\n",
    "    if num > 1:\r\n",
    "        for i in range(2, num):\r\n",
    "            if (num % i == 0):\r\n",
    "                break\r\n",
    "        else:\r\n",
    "            print(num, 'É um número primo')\r\n",
    "        "
   ],
   "outputs": [
    {
     "output_type": "stream",
     "name": "stdout",
     "text": [
      "2 É um número primo\n",
      "3 É um número primo\n",
      "5 É um número primo\n",
      "7 É um número primo\n",
      "11 É um número primo\n",
      "13 É um número primo\n",
      "17 É um número primo\n",
      "19 É um número primo\n",
      "23 É um número primo\n",
      "29 É um número primo\n",
      "31 É um número primo\n",
      "37 É um número primo\n",
      "41 É um número primo\n",
      "43 É um número primo\n",
      "47 É um número primo\n",
      "53 É um número primo\n",
      "59 É um número primo\n",
      "61 É um número primo\n",
      "67 É um número primo\n",
      "71 É um número primo\n",
      "73 É um número primo\n",
      "79 É um número primo\n",
      "83 É um número primo\n",
      "89 É um número primo\n",
      "97 É um número primo\n"
     ]
    }
   ],
   "metadata": {}
  },
  {
   "cell_type": "code",
   "execution_count": 10,
   "source": [
    "import math\r\n",
    "for num in range(2,100):\r\n",
    "    if all(num%i!=0 for i in range(2,int(math.sqrt(num))+1)):\r\n",
    "        print(num)"
   ],
   "outputs": [
    {
     "output_type": "stream",
     "name": "stdout",
     "text": [
      "2\n",
      "3\n",
      "5\n",
      "7\n",
      "11\n",
      "13\n",
      "17\n",
      "19\n",
      "23\n",
      "29\n",
      "31\n",
      "37\n",
      "41\n",
      "43\n",
      "47\n",
      "53\n",
      "59\n",
      "61\n",
      "67\n",
      "71\n",
      "73\n",
      "79\n",
      "83\n",
      "89\n",
      "97\n"
     ]
    }
   ],
   "metadata": {}
  },
  {
   "cell_type": "code",
   "execution_count": null,
   "source": [],
   "outputs": [],
   "metadata": {}
  }
 ],
 "metadata": {
  "kernelspec": {
   "name": "python3",
   "display_name": "Python 3.8.11 64-bit ('env1': conda)"
  },
  "language_info": {
   "codemirror_mode": {
    "name": "ipython",
    "version": 3
   },
   "file_extension": ".py",
   "mimetype": "text/x-python",
   "name": "python",
   "nbconvert_exporter": "python",
   "pygments_lexer": "ipython3",
   "version": "3.8.11"
  },
  "interpreter": {
   "hash": "256b550e27a01a486617a94bb46c9f5a9b96ae4c87f007bd03dec2cfb1a19284"
  }
 },
 "nbformat": 4,
 "nbformat_minor": 4
}