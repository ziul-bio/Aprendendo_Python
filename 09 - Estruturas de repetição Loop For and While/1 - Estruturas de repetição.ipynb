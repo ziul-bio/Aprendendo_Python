{
 "cells": [
  {
   "cell_type": "markdown",
   "source": [
    "# <font color='blue'> Aprendendo Python</font>\r\n",
    "## <font color='green'>Estruturas de Repetição</font>\r\n",
    "### Autor: Luiz"
   ],
   "metadata": {}
  },
  {
   "cell_type": "code",
   "execution_count": 1,
   "source": [
    "# Versão da Linguagem Python\r\n",
    "from platform import python_version\r\n",
    "print('A Versão da Linguagem Python Usada Neste Jupyter Notebook é:', python_version())"
   ],
   "outputs": [
    {
     "output_type": "stream",
     "name": "stdout",
     "text": [
      "A Versão da Linguagem Python Usada Neste Jupyter Notebook é: 3.8.8\n"
     ]
    }
   ],
   "metadata": {}
  },
  {
   "cell_type": "markdown",
   "source": [
    "# Estruturas de repetição"
   ],
   "metadata": {}
  },
  {
   "cell_type": "markdown",
   "source": [
    "# \"while\" Loops (Indefinite Iteration)\n",
    "São executados indefinitivamente até que uma condição seja atendida."
   ],
   "metadata": {}
  },
  {
   "cell_type": "code",
   "execution_count": 2,
   "source": [
    "n = 5\r\n",
    "while n > 0:\r\n",
    "    n = n - 1\r\n",
    "    print(n)"
   ],
   "outputs": [
    {
     "output_type": "stream",
     "name": "stdout",
     "text": [
      "4\n",
      "3\n",
      "2\n",
      "1\n",
      "0\n"
     ]
    }
   ],
   "metadata": {}
  },
  {
   "cell_type": "code",
   "execution_count": 3,
   "source": [
    "nuc = ['A', 'T', 'C', 'G']\r\n",
    "while nuc:\r\n",
    "    print(nuc.pop(-1))"
   ],
   "outputs": [
    {
     "output_type": "stream",
     "name": "stdout",
     "text": [
      "G\n",
      "C\n",
      "T\n",
      "A\n"
     ]
    }
   ],
   "metadata": {}
  },
  {
   "cell_type": "code",
   "execution_count": 4,
   "source": [
    "# A iteração ocorre enquanto o nuc é verdadeiro, assim que ele se torna falso ou vazio, o loop encerra.\r\n",
    "print(nuc)"
   ],
   "outputs": [
    {
     "output_type": "stream",
     "name": "stdout",
     "text": [
      "[]\n"
     ]
    }
   ],
   "metadata": {}
  },
  {
   "cell_type": "code",
   "execution_count": 5,
   "source": [
    "# String para testes.\r\n",
    "seq = 'GATTAATTCGCTTXCCGCGC'"
   ],
   "outputs": [],
   "metadata": {}
  },
  {
   "cell_type": "code",
   "execution_count": 6,
   "source": [
    "n = 'CGC'\r\n",
    "while n in seq:\r\n",
    "    print('Nucleotídeo encontrado')\r\n",
    "    print(n)\r\n",
    "    break   \r\n",
    "else:\r\n",
    "    print('Nucleotídeo não encontrado')\r\n",
    "    "
   ],
   "outputs": [
    {
     "output_type": "stream",
     "name": "stdout",
     "text": [
      "Nucleotídeo encontrado\n",
      "CGC\n"
     ]
    }
   ],
   "metadata": {}
  },
  {
   "cell_type": "code",
   "execution_count": 7,
   "source": [
    "index = 0\r\n",
    "while index < len(seq):\r\n",
    "    print(seq[index].lower())\r\n",
    "    index = index + 1"
   ],
   "outputs": [
    {
     "output_type": "stream",
     "name": "stdout",
     "text": [
      "g\n",
      "a\n",
      "t\n",
      "t\n",
      "a\n",
      "a\n",
      "t\n",
      "t\n",
      "c\n",
      "g\n",
      "c\n",
      "t\n",
      "t\n",
      "x\n",
      "c\n",
      "c\n",
      "g\n",
      "c\n",
      "g\n",
      "c\n"
     ]
    }
   ],
   "metadata": {}
  },
  {
   "cell_type": "markdown",
   "source": [
    "# \"for\" Loops (Definite Iteration)"
   ],
   "metadata": {}
  },
  {
   "cell_type": "code",
   "execution_count": 8,
   "source": [
    "# Imprimindo antes de verificar, imprimi a verificação:\r\n",
    "for n in seq:\r\n",
    "    print(n)\r\n",
    "    if n == 'X':\r\n",
    "        break"
   ],
   "outputs": [
    {
     "output_type": "stream",
     "name": "stdout",
     "text": [
      "G\n",
      "A\n",
      "T\n",
      "T\n",
      "A\n",
      "A\n",
      "T\n",
      "T\n",
      "C\n",
      "G\n",
      "C\n",
      "T\n",
      "T\n",
      "X\n"
     ]
    }
   ],
   "metadata": {}
  },
  {
   "cell_type": "code",
   "execution_count": 9,
   "source": [
    "# verificando antes de inprimir, exclui a verificação.\r\n",
    "for n in seq:\r\n",
    "    if n == 'X':\r\n",
    "        break\r\n",
    "    print(n)"
   ],
   "outputs": [
    {
     "output_type": "stream",
     "name": "stdout",
     "text": [
      "G\n",
      "A\n",
      "T\n",
      "T\n",
      "A\n",
      "A\n",
      "T\n",
      "T\n",
      "C\n",
      "G\n",
      "C\n",
      "T\n",
      "T\n"
     ]
    }
   ],
   "metadata": {}
  },
  {
   "cell_type": "markdown",
   "source": [
    "# A palavra é um palíndromo?"
   ],
   "metadata": {}
  },
  {
   "cell_type": "code",
   "execution_count": 10,
   "source": [
    "# A palavra é um palíndromo?\r\n",
    "lista = ['ARARA', 'HELLO', 'AMA']\r\n",
    "for palavra in lista:\r\n",
    "    if palavra == palavra[::-1]:\r\n",
    "        print('A palavra é um palíndromo') \r\n",
    "    else:\r\n",
    "        print('A palavra não é um palíndromo')\r\n"
   ],
   "outputs": [
    {
     "output_type": "stream",
     "name": "stdout",
     "text": [
      "A palavra é um palíndromo\n",
      "A palavra não é um palíndromo\n",
      "A palavra é um palíndromo\n"
     ]
    }
   ],
   "metadata": {}
  },
  {
   "cell_type": "code",
   "execution_count": 11,
   "source": [
    "# A palavra é um palíndromo?\r\n",
    "for palavra in lista:\r\n",
    "    rev = ''\r\n",
    "    for i in range(0, len(palavra)):\r\n",
    "        rev = palavra[i] + rev        # Aqui está sendo feita uma concatenação pq string não aceita append()\r\n",
    "    if rev == palavra:\r\n",
    "        print('O inverso da string é igual a palavra, sendo esta um palíndromo')\r\n",
    "    else:\r\n",
    "        print('O inverso da string é igual a palavra, NÂO sendo esta um palíndromo')"
   ],
   "outputs": [
    {
     "output_type": "stream",
     "name": "stdout",
     "text": [
      "O inverso da string é igual a palavra, sendo esta um palíndromo\n",
      "O inverso da string é igual a palavra, NÂO sendo esta um palíndromo\n",
      "O inverso da string é igual a palavra, sendo esta um palíndromo\n"
     ]
    }
   ],
   "metadata": {}
  },
  {
   "cell_type": "code",
   "execution_count": 12,
   "source": [
    "# A palavra é um palíndromo?\r\n",
    "st = 'ARARAA'\r\n",
    "rev = ''\r\n",
    "for i in range(0, len(st)):\r\n",
    "    rev = st[i] + rev\r\n",
    "if rev == st:\r\n",
    "    print('O inverso da string é igual a palavra, sendo esta um palíndromo')\r\n",
    "else:\r\n",
    "    print('O inverso da string é igual a palavra, NÂO sendo esta um palíndromo')"
   ],
   "outputs": [
    {
     "output_type": "stream",
     "name": "stdout",
     "text": [
      "O inverso da string é igual a palavra, NÂO sendo esta um palíndromo\n"
     ]
    }
   ],
   "metadata": {}
  }
 ],
 "metadata": {
  "interpreter": {
   "hash": "2f608992be8c0fbf3f95dc021636af8a8f823125a2cacc4ff6a7e1995838e604"
  },
  "kernelspec": {
   "name": "python3",
   "display_name": "Python 3.8.8 64-bit ('base': conda)"
  },
  "language_info": {
   "codemirror_mode": {
    "name": "ipython",
    "version": 3
   },
   "file_extension": ".py",
   "mimetype": "text/x-python",
   "name": "python",
   "nbconvert_exporter": "python",
   "pygments_lexer": "ipython3",
   "version": "3.8.8"
  }
 },
 "nbformat": 4,
 "nbformat_minor": 2
}