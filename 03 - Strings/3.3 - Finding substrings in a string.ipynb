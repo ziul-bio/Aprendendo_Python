{
 "cells": [
  {
   "cell_type": "markdown",
   "source": [
    "# <font color='blue'> Aprendendo Python</font>\r\n",
    "## <font color='green'>Encontrando substring dentro de uma string</font>\r\n",
    "### Autor: Luiz"
   ],
   "metadata": {}
  },
  {
   "cell_type": "code",
   "execution_count": null,
   "source": [
    "# Versão da Linguagem Python\r\n",
    "from platform import python_version\r\n",
    "print('A Versão da Linguagem Python Usada Neste Jupyter Notebook é:', python_version())"
   ],
   "outputs": [],
   "metadata": {}
  },
  {
   "cell_type": "markdown",
   "source": [
    "# Finding a substring in a string"
   ],
   "metadata": {}
  },
  {
   "cell_type": "code",
   "execution_count": 1,
   "source": [
    "seq = 'VRSSSRTPSDKPVAAAAHVVANPQAEGQLQWLNRRANALLANGVELRDNQLVVPSEGLYLIYSQVLAAAFKGQGCPSTHVLLTHTISRIAVSYQTKVNLLSAIKAAASPCQRETPEGAEAKPWYEPIYLGGVFQLEKGDRLSAAAAEINRPDYLLFAESGQVYFGIIAL'"
   ],
   "outputs": [],
   "metadata": {}
  },
  {
   "cell_type": "code",
   "execution_count": 37,
   "source": [
    "for i in range(0, len(seq)):\r\n",
    "    '''Esse statement procura por 'AAA' à 3 posições a frente de i. Por exemplo se i é igual a 13 (13 + 3 = 16,\r\n",
    "    logo o intervalo será seq[13:16], ele procurará na posição 13, 14, 15.'''\r\n",
    "    if seq[i:i+3] == \"AAA\":     \r\n",
    "        print('O códon \"AAA\" foi encontrado na posição de index:', i)                   "
   ],
   "outputs": [
    {
     "output_type": "stream",
     "name": "stdout",
     "text": [
      "O códon \"AAA\" foi encontrado na posição de index: 13\n",
      "O códon \"AAA\" foi encontrado na posição de index: 14\n",
      "O códon \"AAA\" foi encontrado na posição de index: 66\n",
      "O códon \"AAA\" foi encontrado na posição de index: 104\n",
      "O códon \"AAA\" foi encontrado na posição de index: 142\n",
      "O códon \"AAA\" foi encontrado na posição de index: 143\n"
     ]
    }
   ],
   "metadata": {}
  },
  {
   "cell_type": "code",
   "execution_count": null,
   "source": [
    "# Finding codon in a seq:\r\n",
    "for i in range(0, len(seq)):\r\n",
    "    codon = seq[i:i+3]\r\n",
    "    if codon == 'AAA':\r\n",
    "        print(i)"
   ],
   "outputs": [],
   "metadata": {}
  },
  {
   "cell_type": "code",
   "execution_count": 28,
   "source": [
    "seq[13:16]"
   ],
   "outputs": [
    {
     "output_type": "execute_result",
     "data": {
      "text/plain": [
       "'AAA'"
      ]
     },
     "metadata": {},
     "execution_count": 28
    }
   ],
   "metadata": {}
  },
  {
   "cell_type": "markdown",
   "source": [
    "## Por mais que os códigos abaixo retornem um valor correto, eles não atendem as necessidades de uma query em DNA por diferentes motives.\n",
    "## Já que o valor retornado é apenas do primeiro elemento encontrado não cobrindo as diferentes OFRs."
   ],
   "metadata": {}
  },
  {
   "cell_type": "code",
   "execution_count": 13,
   "source": [
    "import re\r\n",
    "pattern = 'AAA'\r\n",
    "for match in re.finditer(pattern, seq):\r\n",
    "    start = match.start()\r\n",
    "    end = match.end()\r\n",
    "    print('The pattern String \"\"%s\"\" matches at index %d : %d' %(seq[start:end], start, end))"
   ],
   "outputs": [
    {
     "output_type": "stream",
     "name": "stdout",
     "text": [
      "The pattern String \"\"AAA\"\" matches at index 13 : 16\n",
      "The pattern String \"\"AAA\"\" matches at index 66 : 69\n",
      "The pattern String \"\"AAA\"\" matches at index 104 : 107\n",
      "The pattern String \"\"AAA\"\" matches at index 142 : 145\n"
     ]
    }
   ],
   "metadata": {}
  },
  {
   "cell_type": "code",
   "execution_count": 3,
   "source": [
    "seq.index(\"AAA\", 0, len(seq))"
   ],
   "outputs": [
    {
     "output_type": "execute_result",
     "data": {
      "text/plain": [
       "13"
      ]
     },
     "metadata": {},
     "execution_count": 3
    }
   ],
   "metadata": {}
  },
  {
   "cell_type": "code",
   "execution_count": 4,
   "source": [
    "seq.find('AAA',0, len(seq))"
   ],
   "outputs": [
    {
     "output_type": "execute_result",
     "data": {
      "text/plain": [
       "13"
      ]
     },
     "metadata": {},
     "execution_count": 4
    }
   ],
   "metadata": {}
  },
  {
   "cell_type": "code",
   "execution_count": 5,
   "source": [
    "seq.count('AAA')"
   ],
   "outputs": [
    {
     "output_type": "execute_result",
     "data": {
      "text/plain": [
       "4"
      ]
     },
     "metadata": {},
     "execution_count": 5
    }
   ],
   "metadata": {}
  }
 ],
 "metadata": {
  "interpreter": {
   "hash": "256b550e27a01a486617a94bb46c9f5a9b96ae4c87f007bd03dec2cfb1a19284"
  },
  "kernelspec": {
   "name": "python3",
   "display_name": "Python 3.8.11 64-bit ('env1': conda)"
  },
  "language_info": {
   "codemirror_mode": {
    "name": "ipython",
    "version": 3
   },
   "file_extension": ".py",
   "mimetype": "text/x-python",
   "name": "python",
   "nbconvert_exporter": "python",
   "pygments_lexer": "ipython3",
   "version": "3.8.11"
  }
 },
 "nbformat": 4,
 "nbformat_minor": 2
}