{
 "cells": [
  {
   "cell_type": "markdown",
   "source": [
    "# <font color='blue'> Aprendendo Python</font>\r\n",
    "## <font color='green'>Expressões Regulares (re)</font>\r\n",
    "### Autor: Luiz"
   ],
   "metadata": {}
  },
  {
   "cell_type": "code",
   "execution_count": 2,
   "source": [
    "# Versão da Linguagem Python\r\n",
    "from platform import python_version\r\n",
    "print('Versão da Linguagem Python Usada Neste Jupyter Notebook:', python_version())"
   ],
   "outputs": [
    {
     "output_type": "stream",
     "name": "stdout",
     "text": [
      "Versão da Linguagem Python Usada Neste Jupyter Notebook: 3.8.11\n"
     ]
    }
   ],
   "metadata": {}
  },
  {
   "cell_type": "markdown",
   "source": [
    "# Expressões Regulares"
   ],
   "metadata": {}
  },
  {
   "cell_type": "code",
   "execution_count": 3,
   "source": [
    "# Importando o módolo regular expression:\r\n",
    "import re"
   ],
   "outputs": [],
   "metadata": {}
  },
  {
   "cell_type": "markdown",
   "source": [
    "[link para regEx 3Wschool](https://www.w3schools.com/python/python_regex.asp)"
   ],
   "metadata": {}
  },
  {
   "cell_type": "markdown",
   "source": [
    "# RegEx Functions\r\n",
    "### The re module offers a set of functions that allows us to search a string for a match:\r\n",
    "\r\n",
    "## Function ----------------- Description ----------------------------------------------\r\n",
    "### findall ---------- Returns a list containing all matches\r\n",
    "### search ----------- Returns a Match object if there is a match anywhere in the string\r\n",
    "### split ------------ Returns a list where the string has been split at each match\r\n",
    "### sub -------------- Replaces one or many matches with a string"
   ],
   "metadata": {}
  },
  {
   "cell_type": "markdown",
   "source": [
    "## METACARACTERES\r\n",
    "\r\n",
    "### Metacaracteres são caracteres com significado especial:\r\n",
    "-------Caractere---------- Descrição ------------------------------------------------Exemplo:  \r\n",
    "-----------[] --------- Um conjunto de caracteres ------------------------------------\"[a-m]\"  \r\n",
    "-----------\\ ---------- Um caractere especial vem a seguir ---------------------------\"\\d\"  \r\n",
    "-----------. ---------- Qualquer caractere (coringa), exceto “nova linha\" ------------\"he..o\"  \r\n",
    "-----------^ ---------- Começa com ---------------------------------------------------\"^hello\"  \r\n",
    "---------- $$---------- (um sinal apenas) Termina com --------------------------------------------------\"world$\"  \r\n",
    "-----------* ---------- ZERO ou mais ocorrências -------------------------------------\"aix*\"  \r\n",
    "-----------+ ---------- UMA ou mais ocorrências --------------------------------------\"aix+\"  \r\n",
    "-----------{} --------- Exatamente o número especificado de ocorrências --------------\"al{2}\"  \r\n",
    "-----------| ---------- OU -----------------------------------------------------------\"falls|stays\"  \r\n",
    "-----------() --------- Capturar a agrupar -------------------------------------------  "
   ],
   "metadata": {}
  },
  {
   "cell_type": "markdown",
   "source": [
    "# Caracteres especiais\r\n",
    "Character -------------------------------\tDescription --------------------------------------------------------------Example--------------  \r\n",
    "\\A ---\tReturns a match if the specified characters are at the beginning of the string -------------------------------\"\\AThe\"\t  \r\n",
    "\\b---\tReturns a match where the specified characters are at the beginning or at the end of a word   \r\n",
    "(the \"r\" in the beginning is making sure that the string is being treated as a \"raw string\") ---------------------r\"\\bain\" r\"ain\\b\"  \r\n",
    "\\B --\tReturns a match where the specified characters are present, but NOT at the beginning (or at the end) of a word  \r\n",
    "(the \"r\" in the beginning is making sure that the string is being treated as a \"raw string\") ---------------------r\"\\Bain\" r\"ain\\B\"  \r\n",
    "\\d -\tReturns a match where the string contains digits (numbers from 0-9) -------------------------------------------\"\\d\"  \r\n",
    "\\D -\tReturns a match where the string DOES NOT contain digits ------------------------------------------------------\"\\D\"  \r\n",
    "\\s -\tReturns a match where the string contains a white space character ---------------------------------------------\"\\s\"  \r\n",
    "\\S -\tReturns a match where the string DOES NOT contain a white space character -------------------------------------\"\\S\"  \r\n",
    "\\w -\tReturns a match where the string contains any word characters (from a to Z, 0-9, or underscore _ ) ------------\"\\w\"  \r\n",
    "\\W -\tReturns a match where the string DOES NOT contain any word characters -----------------------------------------\"\\W\"  \r\n",
    "\\Z -\tReturns a match if the specified characters are at the end of the string --------------------------------------\"Spain\\Z\""
   ],
   "metadata": {}
  },
  {
   "cell_type": "markdown",
   "source": [
    "## Findaall\r\n",
    "### Retornado uma lista contendo o padrão"
   ],
   "metadata": {}
  },
  {
   "cell_type": "code",
   "execution_count": 4,
   "source": [
    "# Usando o metacaracter [] que indica encontrar um conjunto de caracteres:\r\n",
    "linha = '>1A6M:A|PDBID|CHAIN|SEQUENCE'\r\n",
    "\r\n",
    "x = re.search('[1ax]', linha) # searching na sequencia pelos caracteres, se qualquer um for encontrado True.\r\n",
    "if (x):\r\n",
    "        print('Linha é cabeçalho')\r\n",
    "else:\r\n",
    "        print('Linha não é cabeçalho')"
   ],
   "outputs": [
    {
     "output_type": "stream",
     "name": "stdout",
     "text": [
      "Linha é cabeçalho\n"
     ]
    }
   ],
   "metadata": {}
  },
  {
   "cell_type": "code",
   "execution_count": 5,
   "source": [
    "# Indica que um caracter especial vem a seguir.\r\n",
    "linha = '046.453.436-89046.453.436-89 046.453.436-89 046.453.436-89'\r\n",
    "padrao = '\\d{3}\\.\\d{3}\\.\\d{3}\\-\\d{2}' # O padrão pesquisado é o caracter especial dígito, {3} indica o número de ocorrências.\r\n",
    "l = re.findall(padrao, linha)         # Com isso o padrão ha ser pesquisado é um número que ocorra 3 vezes. \r\n",
    "print(l)                              # precedido pelo caracter \\. que nega o metacaracter ., que indica qualquer caracter. buscando pelo . exatamente"
   ],
   "outputs": [
    {
     "output_type": "stream",
     "name": "stdout",
     "text": [
      "['046.453.436-89', '046.453.436-89', '046.453.436-89', '046.453.436-89']\n"
     ]
    }
   ],
   "metadata": {}
  },
  {
   "cell_type": "code",
   "execution_count": 6,
   "source": [
    "# Metacaracter {} que indica exatamente o número especificado de ocorrências\r\n",
    "linha = 'ACATTCAACAGCGGCGCGAATGCGACGCGAGCGTGCAAGTGCAA'\r\n",
    "padrao = 'A.{10}A' # Neste caso procura por qualquer caracter (.) por 10 vezes.\r\n",
    "l = re.findall(padrao, linha)\r\n",
    "print(l)"
   ],
   "outputs": [
    {
     "output_type": "stream",
     "name": "stdout",
     "text": [
      "['ACAGCGGCGCGA']\n"
     ]
    }
   ],
   "metadata": {}
  },
  {
   "cell_type": "code",
   "execution_count": 7,
   "source": [
    "# Usando o metacaracter . que indica qualquer caracter: Conhecido como coringa.\r\n",
    "linha = 'ACATTCAACAGCGGCGCGAATGCGACGCGAGCGTGCAAGTGCAA'\r\n",
    "padrao = 'A.A'\r\n",
    "l = re.findall(padrao, linha)\r\n",
    "print(l)\r\n"
   ],
   "outputs": [
    {
     "output_type": "stream",
     "name": "stdout",
     "text": [
      "['ACA', 'ACA']\n"
     ]
    }
   ],
   "metadata": {}
  },
  {
   "cell_type": "markdown",
   "source": [
    "# Search\r\n",
    "### Retorna um objeto match, se tiver algum"
   ],
   "metadata": {}
  },
  {
   "cell_type": "code",
   "execution_count": 8,
   "source": [
    "# Usando o metacaracter . que indica qualquer caracter: Conhecido como coringa.\r\n",
    "linha = 'ACATTCAACAGCGGCGCGAATGCGACGCGAGCGTGCAAGTGCAA'\r\n",
    "padrao = 'A.A'\r\n",
    "x = re.search(padrao, linha)\r\n",
    "print(x)\r\n",
    "# O objeto retornado é uma tupla que indicao início e o fim do match, e o match encontrado."
   ],
   "outputs": [
    {
     "output_type": "stream",
     "name": "stdout",
     "text": [
      "<re.Match object; span=(0, 3), match='ACA'>\n"
     ]
    }
   ],
   "metadata": {}
  },
  {
   "cell_type": "code",
   "execution_count": 9,
   "source": [
    "# Usando o metacaracter ^ que indica começar em:\r\n",
    "linha = '>1A6M:A|PDBID|CHAIN|SEQUENCE'\r\n",
    "padrao = '^>'\r\n",
    "x = re.search(padrao, linha) # searching por uma seq que inicie com o >\r\n",
    "\r\n",
    "# Com o objeto a ser retornado é possível usar e atribuir as funções de uma tupla.\r\n",
    "if (x): # nesse caso True:\r\n",
    "        print('Linha é cabeçalho')\r\n",
    "else:\r\n",
    "        print('Linha não é cabeçalho')\r\n",
    "\r\n"
   ],
   "outputs": [
    {
     "output_type": "stream",
     "name": "stdout",
     "text": [
      "Linha é cabeçalho\n"
     ]
    }
   ],
   "metadata": {}
  },
  {
   "cell_type": "code",
   "execution_count": 10,
   "source": [
    "linha = '>1A6M:A|PDBID|CHAIN|SEQUENCE'\r\n",
    "padrao = 'PDB|SEQ'\r\n",
    "x = re.search(padrao, linha) # searching por uma seq que inicie com o >\r\n",
    "\r\n",
    "if x:\r\n",
    "        print('Padrão encontrado na posição:', x.start(),',',x.end())\r\n",
    "else:\r\n",
    "        print('Padrão não encontrado')\r\n"
   ],
   "outputs": [
    {
     "output_type": "stream",
     "name": "stdout",
     "text": [
      "Padrão encontrado na posição: 8 , 11\n"
     ]
    }
   ],
   "metadata": {}
  },
  {
   "cell_type": "markdown",
   "source": [
    "## Split\r\n",
    "### Retorna um alista onde a stringo foi separada"
   ],
   "metadata": {}
  },
  {
   "cell_type": "code",
   "execution_count": 11,
   "source": [
    "# Separando uma string no padrão 'AA'\r\n",
    "linha = 'VLSAAEWQLVLHVWAAVEADVAGHGAAILIRLFKSHAATLEKFDRFKHLK'\r\n",
    "x = re.split(\"AA\", linha) # a string será separada toda vez que o padrão for encontrado\r\n",
    "print(x)"
   ],
   "outputs": [
    {
     "output_type": "stream",
     "name": "stdout",
     "text": [
      "['VLS', 'EWQLVLHVW', 'VEADVAGHG', 'ILIRLFKSH', 'TLEKFDRFKHLK']\n"
     ]
    }
   ],
   "metadata": {}
  },
  {
   "cell_type": "code",
   "execution_count": 12,
   "source": [
    "# separando uma string no padrção 'AA'\r\n",
    "linha = 'VLSAAEWQLVLHVWAAVEADVAGHGAAILIRLFKSHAATLEKFDRFKHLK'\r\n",
    "x = re.split(\"AA\", linha, 3) # o número como parâmetro indica quantas vezes a quebra deverá ser realizada, se o padão for encontrado.\r\n",
    "print(x)"
   ],
   "outputs": [
    {
     "output_type": "stream",
     "name": "stdout",
     "text": [
      "['VLS', 'EWQLVLHVW', 'VEADVAGHG', 'ILIRLFKSHAATLEKFDRFKHLK']\n"
     ]
    }
   ],
   "metadata": {}
  },
  {
   "cell_type": "markdown",
   "source": [
    "## Split\r\n",
    "### retona uma string com os valores do(s) match(es) substituidos"
   ],
   "metadata": {}
  },
  {
   "cell_type": "code",
   "execution_count": 13,
   "source": [
    "# procurando por um padrão(1º arg) e substituindo por um outro padrão(2º arg), 3º arg é a string a se procurar. \r\n",
    "linha = 'VLSAAEWQLVLHVWAAVEADVAGHGAAILIRLFKSHAATLEKFDRFKHLK'\r\n",
    "subs = re.sub('AA', '--', linha)\r\n",
    "print(subs)\r\n",
    "type(subs)"
   ],
   "outputs": [
    {
     "output_type": "stream",
     "name": "stdout",
     "text": [
      "VLS--EWQLVLHVW--VEADVAGHG--ILIRLFKSH--TLEKFDRFKHLK\n"
     ]
    },
    {
     "output_type": "execute_result",
     "data": {
      "text/plain": [
       "str"
      ]
     },
     "metadata": {},
     "execution_count": 13
    }
   ],
   "metadata": {}
  },
  {
   "cell_type": "code",
   "execution_count": 14,
   "source": [
    "# procurando por um padrão(1º arg) e substituindo por um outro padrão(2º arg), 3º arg é a string a se procurar. \r\n",
    "linha = 'VLSAAEWQLVLHVWAAVEADVAGHGAAILIRLFKSHAATLEKFDRFKHLK'\r\n",
    "subs = re.sub('AA', '--', linha, 2) # o 4º arg indica o número de vezes que a sub deve ser realizada.\r\n",
    "print(subs)\r\n",
    "print('O tipo do retorno é uma', type(subs))"
   ],
   "outputs": [
    {
     "output_type": "stream",
     "name": "stdout",
     "text": [
      "VLS--EWQLVLHVW--VEADVAGHGAAILIRLFKSHAATLEKFDRFKHLK\n",
      "O tipo do retorno é uma <class 'str'>\n"
     ]
    }
   ],
   "metadata": {}
  },
  {
   "cell_type": "markdown",
   "source": [
    "## Os métodos re só funcional para strings"
   ],
   "metadata": {}
  },
  {
   "cell_type": "code",
   "execution_count": 15,
   "source": [
    "# TypeError: expected string or bytes-like object,\r\n",
    "linha = ['VLSAAEWQLVLHVWAAVEADVAGHGAAILIRLFKSHAATLEKFDRFKHLK']\r\n",
    "subs = re.sub('AA', '--', linha) \r\n",
    "print(subs)"
   ],
   "outputs": [
    {
     "output_type": "error",
     "ename": "TypeError",
     "evalue": "expected string or bytes-like object",
     "traceback": [
      "\u001b[1;31m---------------------------------------------------------------------------\u001b[0m",
      "\u001b[1;31mTypeError\u001b[0m                                 Traceback (most recent call last)",
      "\u001b[1;32m<ipython-input-15-7568a95a0888>\u001b[0m in \u001b[0;36m<module>\u001b[1;34m\u001b[0m\n\u001b[0;32m      1\u001b[0m \u001b[1;31m# TypeError: expected string or bytes-like object,\u001b[0m\u001b[1;33m\u001b[0m\u001b[1;33m\u001b[0m\u001b[1;33m\u001b[0m\u001b[0m\n\u001b[0;32m      2\u001b[0m \u001b[0mlinha\u001b[0m \u001b[1;33m=\u001b[0m \u001b[1;33m[\u001b[0m\u001b[1;34m'VLSAAEWQLVLHVWAAVEADVAGHGAAILIRLFKSHAATLEKFDRFKHLK'\u001b[0m\u001b[1;33m]\u001b[0m\u001b[1;33m\u001b[0m\u001b[1;33m\u001b[0m\u001b[0m\n\u001b[1;32m----> 3\u001b[1;33m \u001b[0msubs\u001b[0m \u001b[1;33m=\u001b[0m \u001b[0mre\u001b[0m\u001b[1;33m.\u001b[0m\u001b[0msub\u001b[0m\u001b[1;33m(\u001b[0m\u001b[1;34m'AA'\u001b[0m\u001b[1;33m,\u001b[0m \u001b[1;34m'--'\u001b[0m\u001b[1;33m,\u001b[0m \u001b[0mlinha\u001b[0m\u001b[1;33m)\u001b[0m\u001b[1;33m\u001b[0m\u001b[1;33m\u001b[0m\u001b[0m\n\u001b[0m\u001b[0;32m      4\u001b[0m \u001b[0mprint\u001b[0m\u001b[1;33m(\u001b[0m\u001b[0msubs\u001b[0m\u001b[1;33m)\u001b[0m\u001b[1;33m\u001b[0m\u001b[1;33m\u001b[0m\u001b[0m\n",
      "\u001b[1;32m~\\anaconda3\\envs\\env1\\lib\\re.py\u001b[0m in \u001b[0;36msub\u001b[1;34m(pattern, repl, string, count, flags)\u001b[0m\n\u001b[0;32m    208\u001b[0m     \u001b[0ma\u001b[0m \u001b[0mcallable\u001b[0m\u001b[1;33m,\u001b[0m \u001b[0mit\u001b[0m\u001b[0;31m'\u001b[0m\u001b[0ms\u001b[0m \u001b[0mpassed\u001b[0m \u001b[0mthe\u001b[0m \u001b[0mMatch\u001b[0m \u001b[0mobject\u001b[0m \u001b[1;32mand\u001b[0m \u001b[0mmust\u001b[0m \u001b[1;32mreturn\u001b[0m\u001b[1;33m\u001b[0m\u001b[1;33m\u001b[0m\u001b[0m\n\u001b[0;32m    209\u001b[0m     a replacement string to be used.\"\"\"\n\u001b[1;32m--> 210\u001b[1;33m     \u001b[1;32mreturn\u001b[0m \u001b[0m_compile\u001b[0m\u001b[1;33m(\u001b[0m\u001b[0mpattern\u001b[0m\u001b[1;33m,\u001b[0m \u001b[0mflags\u001b[0m\u001b[1;33m)\u001b[0m\u001b[1;33m.\u001b[0m\u001b[0msub\u001b[0m\u001b[1;33m(\u001b[0m\u001b[0mrepl\u001b[0m\u001b[1;33m,\u001b[0m \u001b[0mstring\u001b[0m\u001b[1;33m,\u001b[0m \u001b[0mcount\u001b[0m\u001b[1;33m)\u001b[0m\u001b[1;33m\u001b[0m\u001b[1;33m\u001b[0m\u001b[0m\n\u001b[0m\u001b[0;32m    211\u001b[0m \u001b[1;33m\u001b[0m\u001b[0m\n\u001b[0;32m    212\u001b[0m \u001b[1;32mdef\u001b[0m \u001b[0msubn\u001b[0m\u001b[1;33m(\u001b[0m\u001b[0mpattern\u001b[0m\u001b[1;33m,\u001b[0m \u001b[0mrepl\u001b[0m\u001b[1;33m,\u001b[0m \u001b[0mstring\u001b[0m\u001b[1;33m,\u001b[0m \u001b[0mcount\u001b[0m\u001b[1;33m=\u001b[0m\u001b[1;36m0\u001b[0m\u001b[1;33m,\u001b[0m \u001b[0mflags\u001b[0m\u001b[1;33m=\u001b[0m\u001b[1;36m0\u001b[0m\u001b[1;33m)\u001b[0m\u001b[1;33m:\u001b[0m\u001b[1;33m\u001b[0m\u001b[1;33m\u001b[0m\u001b[0m\n",
      "\u001b[1;31mTypeError\u001b[0m: expected string or bytes-like object"
     ]
    }
   ],
   "metadata": {}
  },
  {
   "cell_type": "markdown",
   "source": [
    "## Iterando sobre uma lista para acessar os seus valores strings:"
   ],
   "metadata": {}
  },
  {
   "cell_type": "code",
   "execution_count": 16,
   "source": [
    "# Usando o loop for:\r\n",
    "prot = ['VLSAAAEWQLVLHVWAAVEADVAGHGAAILIRLFKSHAAATLEKFDRFKHLK']\r\n",
    "for i in prot:\r\n",
    "    aa = re.sub('AAA', 'XXX', i)\r\n",
    "    print(aa)"
   ],
   "outputs": [
    {
     "output_type": "stream",
     "name": "stdout",
     "text": [
      "VLSXXXEWQLVLHVWAAVEADVAGHGAAILIRLFKSHXXXTLEKFDRFKHLK\n"
     ]
    }
   ],
   "metadata": {}
  },
  {
   "cell_type": "markdown",
   "source": [
    "## Iterando sobre uma string"
   ],
   "metadata": {}
  },
  {
   "cell_type": "markdown",
   "source": [
    "### O método FINDITER, retorna um iterador produzindo objetos correspondentes ao padrão regex em uma string em vez de uma lista.  \r\n",
    "### Ele verifica a string da esquerda para a direita e as correspondências são retornadas na forma de iterador. Posteriormente, podemos usar este objeto iterador para extrair todas as correspondências."
   ],
   "metadata": {}
  },
  {
   "cell_type": "code",
   "execution_count": 17,
   "source": [
    "# Usando o método finditer sobre uma string:\r\n",
    "linha = 'VLSAAAEWQLVLHVWAAAVEADVAGHGAAILIRLFKSHAATLEKFDRFKHLK'\r\n",
    "regex = re.finditer('AA', linha)\r\n",
    "for matches in regex:\r\n",
    "    print(matches)"
   ],
   "outputs": [
    {
     "output_type": "stream",
     "name": "stdout",
     "text": [
      "<re.Match object; span=(3, 5), match='AA'>\n",
      "<re.Match object; span=(15, 17), match='AA'>\n",
      "<re.Match object; span=(27, 29), match='AA'>\n",
      "<re.Match object; span=(38, 40), match='AA'>\n"
     ]
    }
   ],
   "metadata": {}
  },
  {
   "cell_type": "code",
   "execution_count": 18,
   "source": [
    "# Usando o método finditer sobre uma string:\r\n",
    "linha = 'VLSAAAEWQLVLHVWAAAAVEADVAGHGAAILIRLFKSHAATLEKFDRFKHLK'\r\n",
    "for i in  re.finditer('AAA', linha):\r\n",
    "    print(linha[i.start():i.end()], i.start(), i.end())\r\n",
    "    print(i.group(), i.start(), i.end()) # imprime o mesmo do acima"
   ],
   "outputs": [
    {
     "output_type": "stream",
     "name": "stdout",
     "text": [
      "AAA 3 6\n",
      "AAA 3 6\n",
      "AAA 15 18\n",
      "AAA 15 18\n"
     ]
    }
   ],
   "metadata": {}
  },
  {
   "cell_type": "code",
   "execution_count": 19,
   "source": [
    "# Usando o método finditer sobre uma string:\r\n",
    "linha = 'VLSAAAEWQLVLHVWAAAAVEADVAGHGAAILIRLFKSHAATLEKFDRFKHLK'\r\n",
    "for i in  re.finditer('AAA', linha):\r\n",
    "    print(i.group(), i.span())"
   ],
   "outputs": [
    {
     "output_type": "stream",
     "name": "stdout",
     "text": [
      "AAA (3, 6)\n",
      "AAA (15, 18)\n"
     ]
    }
   ],
   "metadata": {}
  },
  {
   "cell_type": "code",
   "execution_count": 20,
   "source": [
    "# Melhor jeito de interar sobre uma sequencia para retornar os valores de cada ORF é o loop for:\r\n",
    "# Substring in a string\r\n",
    "for i in range(0, len(linha)):\r\n",
    "    codon = linha[i:i+3]\r\n",
    "    if codon == 'AAA':\r\n",
    "        print('O codon AAA foi encontrado nas posições: ', i)"
   ],
   "outputs": [
    {
     "output_type": "stream",
     "name": "stdout",
     "text": [
      "O codon AAA foi encontrado nas posições:  3\n",
      "O codon AAA foi encontrado nas posições:  15\n",
      "O codon AAA foi encontrado nas posições:  16\n"
     ]
    }
   ],
   "metadata": {}
  },
  {
   "cell_type": "markdown",
   "source": [
    "## O objeto Match"
   ],
   "metadata": {}
  },
  {
   "cell_type": "code",
   "execution_count": 21,
   "source": [
    "linha = 'VLSAAAEWQLVLHVWAAAVEADVAGHGAAILIRLFKSHAATLEKFDRFKHLK'\r\n",
    "x = re.search('AAA', linha)\r\n",
    "print('O primeiro AA encontrado foi na posição', x.start(), x.end())"
   ],
   "outputs": [
    {
     "output_type": "stream",
     "name": "stdout",
     "text": [
      "O primeiro AA encontrado foi na posição 3 6\n"
     ]
    }
   ],
   "metadata": {}
  },
  {
   "cell_type": "code",
   "execution_count": 22,
   "source": [
    "type(x)"
   ],
   "outputs": [
    {
     "output_type": "execute_result",
     "data": {
      "text/plain": [
       "re.Match"
      ]
     },
     "metadata": {},
     "execution_count": 22
    }
   ],
   "metadata": {}
  },
  {
   "cell_type": "code",
   "execution_count": 23,
   "source": [
    "x.span()"
   ],
   "outputs": [
    {
     "output_type": "execute_result",
     "data": {
      "text/plain": [
       "(3, 6)"
      ]
     },
     "metadata": {},
     "execution_count": 23
    }
   ],
   "metadata": {}
  },
  {
   "cell_type": "code",
   "execution_count": 24,
   "source": [
    "x.start()"
   ],
   "outputs": [
    {
     "output_type": "execute_result",
     "data": {
      "text/plain": [
       "3"
      ]
     },
     "metadata": {},
     "execution_count": 24
    }
   ],
   "metadata": {}
  },
  {
   "cell_type": "code",
   "execution_count": 25,
   "source": [
    "x.end()"
   ],
   "outputs": [
    {
     "output_type": "execute_result",
     "data": {
      "text/plain": [
       "6"
      ]
     },
     "metadata": {},
     "execution_count": 25
    }
   ],
   "metadata": {}
  },
  {
   "cell_type": "code",
   "execution_count": 26,
   "source": [
    "x.end()-x.start()"
   ],
   "outputs": [
    {
     "output_type": "execute_result",
     "data": {
      "text/plain": [
       "3"
      ]
     },
     "metadata": {},
     "execution_count": 26
    }
   ],
   "metadata": {}
  },
  {
   "cell_type": "code",
   "execution_count": 27,
   "source": [
    "# Agrupando os valores do mach\r\n",
    "x.group()"
   ],
   "outputs": [
    {
     "output_type": "execute_result",
     "data": {
      "text/plain": [
       "'AAA'"
      ]
     },
     "metadata": {},
     "execution_count": 27
    }
   ],
   "metadata": {}
  },
  {
   "cell_type": "markdown",
   "source": [
    "## Busca gulosa"
   ],
   "metadata": {}
  },
  {
   "cell_type": "code",
   "execution_count": 28,
   "source": [
    "# Busca padrão é gulosa, retorna o maior padrão encontrado\r\n",
    "linha = 'VLSACAEWQLVLHVWATAVEADVAGHGAAILIRLFKSHAAATLEKFDRFKHLK'\r\n",
    "for i in re.finditer('A.+A', linha):\r\n",
    "    print(i.group(), i.start(), i.end())"
   ],
   "outputs": [
    {
     "output_type": "stream",
     "name": "stdout",
     "text": [
      "ACAEWQLVLHVWATAVEADVAGHGAAILIRLFKSHAAA 3 41\n"
     ]
    }
   ],
   "metadata": {}
  },
  {
   "cell_type": "markdown",
   "source": [
    "## Busca preguiçosa"
   ],
   "metadata": {}
  },
  {
   "cell_type": "code",
   "execution_count": 29,
   "source": [
    "# Retorna padrões menores:\r\n",
    "linha = 'VLSACAEWQLVLHVWATAVEADVAGHGAAILIRLFKSHAAATLEKFDRFKHLK'\r\n",
    "for i in re.finditer('A.+?A', linha):\r\n",
    "    print(i.group(), i.start(), i.end())"
   ],
   "outputs": [
    {
     "output_type": "stream",
     "name": "stdout",
     "text": [
      "ACA 3 6\n",
      "ATA 15 18\n",
      "ADVA 20 24\n",
      "AAILIRLFKSHA 27 39\n"
     ]
    }
   ],
   "metadata": {}
  },
  {
   "cell_type": "markdown",
   "source": [
    "# Fim"
   ],
   "metadata": {}
  }
 ],
 "metadata": {
  "kernelspec": {
   "name": "python3",
   "display_name": "Python 3.8.11 64-bit ('env1': conda)"
  },
  "language_info": {
   "codemirror_mode": {
    "name": "ipython",
    "version": 3
   },
   "file_extension": ".py",
   "mimetype": "text/x-python",
   "name": "python",
   "nbconvert_exporter": "python",
   "pygments_lexer": "ipython3",
   "version": "3.8.11"
  },
  "interpreter": {
   "hash": "256b550e27a01a486617a94bb46c9f5a9b96ae4c87f007bd03dec2cfb1a19284"
  }
 },
 "nbformat": 4,
 "nbformat_minor": 2
}