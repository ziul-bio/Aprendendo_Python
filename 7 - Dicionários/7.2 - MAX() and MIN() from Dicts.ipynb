{
 "cells": [
  {
   "cell_type": "markdown",
   "source": [
    "# <font color='blue'> Aprendendo Python</font>\r\n",
    "## <font color='green'>Dicionários</font>\r\n",
    "### Autor: Luiz"
   ],
   "metadata": {}
  },
  {
   "cell_type": "code",
   "execution_count": 9,
   "source": [
    "# Versão da Linguagem Python\r\n",
    "from platform import python_version\r\n",
    "print('A Versão da Linguagem Python Usada Neste Jupyter Notebook é:', python_version())"
   ],
   "outputs": [
    {
     "output_type": "stream",
     "name": "stdout",
     "text": [
      "A Versão da Linguagem Python Usada Neste Jupyter Notebook é: 3.8.8\n"
     ]
    }
   ],
   "metadata": {}
  },
  {
   "cell_type": "markdown",
   "source": [
    "# MAX() and MIN() sort a String by Unicode values\n",
    "### A função ord() retorna o valor de uma letra ou caracter"
   ],
   "metadata": {}
  },
  {
   "cell_type": "code",
   "execution_count": 24,
   "source": [
    "# Exemplo:\r\n",
    "ord('A')"
   ],
   "outputs": [
    {
     "output_type": "execute_result",
     "data": {
      "text/plain": [
       "65"
      ]
     },
     "metadata": {},
     "execution_count": 24
    }
   ],
   "metadata": {}
  },
  {
   "cell_type": "code",
   "execution_count": 29,
   "source": [
    "dic = {'5GJA:A': 61, '5GJ4:B': 177, '5GJ4:C': 61, '5GJK:D': 177, '5GP1:B': 268, '1A6M:A': 252, '2MM1:A': 251}"
   ],
   "outputs": [],
   "metadata": {}
  },
  {
   "cell_type": "markdown",
   "source": [
    "## As funções max() e o min() atuam sobre o valor unicode da chave"
   ],
   "metadata": {}
  },
  {
   "cell_type": "code",
   "execution_count": 30,
   "source": [
    "max(dic)# Retorna '5GP1:B' "
   ],
   "outputs": [
    {
     "output_type": "execute_result",
     "data": {
      "text/plain": [
       "'5GP1:B'"
      ]
     },
     "metadata": {},
     "execution_count": 30
    }
   ],
   "metadata": {}
  },
  {
   "cell_type": "code",
   "execution_count": 31,
   "source": [
    "min(dic) # Retorna '1A6M:A'"
   ],
   "outputs": [
    {
     "output_type": "execute_result",
     "data": {
      "text/plain": [
       "'1A6M:A'"
      ]
     },
     "metadata": {},
     "execution_count": 31
    }
   ],
   "metadata": {}
  },
  {
   "cell_type": "code",
   "execution_count": 32,
   "source": [
    "# Revelando os valores unicide dos caracteres:\r\n",
    "dic = {'5GJA:A': 61, '5GJ4:B': 177, '5GJ4:C': 61, '5GJK:D': 177, '5GP1:B': 268, '1A6M:A': 252, '2MM1:A': 251}\r\n",
    "\r\n",
    "for k in dic.keys():\r\n",
    "    item = k\r\n",
    "    a = []\r\n",
    "    for caracter in range(0, len(item)):\r\n",
    "        unicode = ord(item[caracter])\r\n",
    "        a.append(unicode)\r\n",
    "    print(item, a)"
   ],
   "outputs": [
    {
     "output_type": "stream",
     "name": "stdout",
     "text": [
      "5GJA:A [53, 71, 74, 65, 58, 65]\n",
      "5GJ4:B [53, 71, 74, 52, 58, 66]\n",
      "5GJ4:C [53, 71, 74, 52, 58, 67]\n",
      "5GJK:D [53, 71, 74, 75, 58, 68]\n",
      "5GP1:B [53, 71, 80, 49, 58, 66]\n",
      "1A6M:A [49, 65, 54, 77, 58, 65]\n",
      "2MM1:A [50, 77, 77, 49, 58, 65]\n"
     ]
    }
   ],
   "metadata": {}
  },
  {
   "cell_type": "markdown",
   "source": [
    "## Max() e Min() nos Dicionários"
   ],
   "metadata": {}
  },
  {
   "cell_type": "code",
   "execution_count": 1,
   "source": [
    "d = {'a': 2, 'b': 6, 'c': 9}"
   ],
   "outputs": [],
   "metadata": {}
  },
  {
   "cell_type": "code",
   "execution_count": 2,
   "source": [
    "# O max sem nenum argumento atua sobre o valor da chave, assim como o min()\r\n",
    "max(d)"
   ],
   "outputs": [
    {
     "output_type": "execute_result",
     "data": {
      "text/plain": [
       "'c'"
      ]
     },
     "metadata": {},
     "execution_count": 2
    }
   ],
   "metadata": {}
  },
  {
   "cell_type": "code",
   "execution_count": 3,
   "source": [
    "min(d)"
   ],
   "outputs": [
    {
     "output_type": "execute_result",
     "data": {
      "text/plain": [
       "'a'"
      ]
     },
     "metadata": {},
     "execution_count": 3
    }
   ],
   "metadata": {}
  },
  {
   "cell_type": "code",
   "execution_count": 8,
   "source": [
    "# quando se passa o atributo values, assim o max e min atua sobre o valor\r\n",
    "i = min(d.values())\r\n",
    "print(i)"
   ],
   "outputs": [
    {
     "output_type": "stream",
     "name": "stdout",
     "text": [
      "2\n"
     ]
    }
   ],
   "metadata": {}
  },
  {
   "cell_type": "code",
   "execution_count": 9,
   "source": [
    "print(x)\r\n",
    "x = max(d.values())"
   ],
   "outputs": [
    {
     "output_type": "stream",
     "name": "stdout",
     "text": [
      "9\n"
     ]
    }
   ],
   "metadata": {}
  },
  {
   "cell_type": "code",
   "execution_count": 10,
   "source": [
    "# Porém não é possível acessar as keys pelo valor, quando este está atribuido.\r\n",
    "d[i]"
   ],
   "outputs": [
    {
     "output_type": "error",
     "ename": "KeyError",
     "evalue": "2",
     "traceback": [
      "\u001b[1;31m---------------------------------------------------------------------------\u001b[0m",
      "\u001b[1;31mKeyError\u001b[0m                                  Traceback (most recent call last)",
      "\u001b[1;32m<ipython-input-10-bc0e8ddeec9b>\u001b[0m in \u001b[0;36m<module>\u001b[1;34m\u001b[0m\n\u001b[1;32m----> 1\u001b[1;33m \u001b[0md\u001b[0m\u001b[1;33m[\u001b[0m\u001b[0mi\u001b[0m\u001b[1;33m]\u001b[0m\u001b[1;33m\u001b[0m\u001b[1;33m\u001b[0m\u001b[0m\n\u001b[0m",
      "\u001b[1;31mKeyError\u001b[0m: 2"
     ]
    }
   ],
   "metadata": {}
  },
  {
   "cell_type": "code",
   "execution_count": 11,
   "source": [
    "d[9]"
   ],
   "outputs": [
    {
     "output_type": "error",
     "ename": "KeyError",
     "evalue": "9",
     "traceback": [
      "\u001b[1;31m---------------------------------------------------------------------------\u001b[0m",
      "\u001b[1;31mKeyError\u001b[0m                                  Traceback (most recent call last)",
      "\u001b[1;32m<ipython-input-11-0391929cfa5c>\u001b[0m in \u001b[0;36m<module>\u001b[1;34m\u001b[0m\n\u001b[1;32m----> 1\u001b[1;33m \u001b[0md\u001b[0m\u001b[1;33m[\u001b[0m\u001b[1;36m9\u001b[0m\u001b[1;33m]\u001b[0m\u001b[1;33m\u001b[0m\u001b[1;33m\u001b[0m\u001b[0m\n\u001b[0m",
      "\u001b[1;31mKeyError\u001b[0m: 9"
     ]
    }
   ],
   "metadata": {}
  },
  {
   "cell_type": "markdown",
   "source": [
    "## Como acessar um Key com o valor Maxímo em um Dicionário usando Python\r\n",
    "### Se você quiser encontar uma chave que contém o maior valor, você terá que usar a função max() do python. Porém, será necessário passar 2 argumentos.\r\n",
    "\r\n",
    "### O primeiro argumento, contém a variável do dicionário onde se deseja encontrar o valor.\r\n",
    "### O segundo contém o método para encontrar a key. \r\n",
    "### Exemplo max(mydict, key=mydict.get) onde 'mydict' é a variável do dicionário onde se deseja procupar\r\n"
   ],
   "metadata": {}
  },
  {
   "cell_type": "code",
   "execution_count": 14,
   "source": [
    "myDict = {'one': 24, 'two': 13, 'three': 54, 'four': 9}\r\n",
    "MaxDictVal = max(myDict, key=myDict.get)\r\n",
    "print(MaxDictVal)"
   ],
   "outputs": [
    {
     "output_type": "stream",
     "name": "stdout",
     "text": [
      "three\n"
     ]
    }
   ],
   "metadata": {}
  },
  {
   "cell_type": "code",
   "execution_count": 32,
   "source": [
    "# Nesse caso o max é aplicado sobre o value da chave.\r\n",
    "# e é possível acessar o valor pela variável\r\n",
    "myDict[MaxDictVal]\r\n",
    "print(f'{MaxDictVal}: é a chave com o maior valor, que é: {myDict[MaxDictVal]}')"
   ],
   "outputs": [
    {
     "output_type": "stream",
     "name": "stdout",
     "text": [
      "three: é a chave com o maior valor, que é: 54\n"
     ]
    }
   ],
   "metadata": {}
  },
  {
   "cell_type": "code",
   "execution_count": 24,
   "source": [
    "myDict = {'one': 24, 'two': 13, 'three': 54, 'four': 9}\r\n",
    "search = 54\r\n",
    "for name, age in myDict.items():  # for name, age in dictionary.iteritems()\r\n",
    "    if age == search:\r\n",
    "        print(name)"
   ],
   "outputs": [
    {
     "output_type": "stream",
     "name": "stdout",
     "text": [
      "three\n"
     ]
    }
   ],
   "metadata": {}
  },
  {
   "cell_type": "code",
   "execution_count": 26,
   "source": [
    "myDict.get('one')"
   ],
   "outputs": [
    {
     "output_type": "execute_result",
     "data": {
      "text/plain": [
       "24"
      ]
     },
     "metadata": {},
     "execution_count": 26
    }
   ],
   "metadata": {}
  },
  {
   "cell_type": "code",
   "execution_count": 29,
   "source": [
    "print(myDict.get(13))"
   ],
   "outputs": [
    {
     "output_type": "stream",
     "name": "stdout",
     "text": [
      "None\n"
     ]
    }
   ],
   "metadata": {}
  },
  {
   "cell_type": "code",
   "execution_count": 4,
   "source": [
    "mydict = {'a':5, 'A':40,'B':10,'C':1000,'c':2000,'D':87}\r\n",
    "maxx = max(mydict.values())\r\n",
    "print(maxx)"
   ],
   "outputs": [
    {
     "output_type": "stream",
     "name": "stdout",
     "text": [
      "2000\n"
     ]
    }
   ],
   "metadata": {}
  },
  {
   "cell_type": "code",
   "execution_count": 5,
   "source": [
    "# Está chamada não funciona, porquea variável maxx não possui uma chave associada a ela.\r\n",
    "# Por isso, quando o max() é aplicado, ele age sobre uma lista de valores, não tendo uma chave pela qual possa ser chamada. \r\n",
    "print(mydict[maxx])"
   ],
   "outputs": [
    {
     "output_type": "error",
     "ename": "KeyError",
     "evalue": "2000",
     "traceback": [
      "\u001b[1;31m---------------------------------------------------------------------------\u001b[0m",
      "\u001b[1;31mKeyError\u001b[0m                                  Traceback (most recent call last)",
      "\u001b[1;32m<ipython-input-5-ca0b8954deb2>\u001b[0m in \u001b[0;36m<module>\u001b[1;34m\u001b[0m\n\u001b[0;32m      1\u001b[0m \u001b[1;31m# Está chamada não funciona, porquea variável maxx2 não possui uma chave associada a ela.\u001b[0m\u001b[1;33m\u001b[0m\u001b[1;33m\u001b[0m\u001b[1;33m\u001b[0m\u001b[0m\n\u001b[0;32m      2\u001b[0m \u001b[1;31m# Por isso, quando o max() é aplicado, ele age sobre uma lista de valores, não tendo uma chave pela qual possa ser chamada.\u001b[0m\u001b[1;33m\u001b[0m\u001b[1;33m\u001b[0m\u001b[1;33m\u001b[0m\u001b[0m\n\u001b[1;32m----> 3\u001b[1;33m \u001b[0mprint\u001b[0m\u001b[1;33m(\u001b[0m\u001b[0mmydict\u001b[0m\u001b[1;33m[\u001b[0m\u001b[0mmaxx\u001b[0m\u001b[1;33m]\u001b[0m\u001b[1;33m)\u001b[0m\u001b[1;33m\u001b[0m\u001b[1;33m\u001b[0m\u001b[0m\n\u001b[0m",
      "\u001b[1;31mKeyError\u001b[0m: 2000"
     ]
    }
   ],
   "metadata": {}
  },
  {
   "cell_type": "code",
   "execution_count": 13,
   "source": [
    "# Porém quando se usa o método get, os valores buscados no dicionários ficam salvos na variável maxx.\r\n",
    "maxx = max(mydict, key=mydict.get)\r\n",
    "print(maxx,'\\n')\r\n",
    "\r\n",
    "# Possuindo um valor associado a chave, pode-se usá-lo para chamar a chave associada a ele no dicionário.\r\n",
    "print(f'{maxx} {mydict[maxx]}')\r\n",
    "print(f'A chave do mydict é: {maxx} e seu valor é: {mydict[maxx]}')"
   ],
   "outputs": [
    {
     "output_type": "stream",
     "name": "stdout",
     "text": [
      "c \n",
      "\n",
      "c 2000\n",
      "A chave do mydict é: c e seu valor é: 2000\n"
     ]
    }
   ],
   "metadata": {}
  },
  {
   "cell_type": "code",
   "execution_count": 16,
   "source": [
    "# Porém quando se usa o método get, os valores buscados no dicionários ficam salvos na variável mini\r\n",
    "mini = min(mydict, key=mydict.get)\r\n",
    "print(mini, '\\n')\r\n",
    "\r\n",
    "# Possuindo um valor associado a chave, pode-se usá-lo para chamar a chave associada a ele no dicionário.\r\n",
    "print(mini, mydict[mini])\r\n",
    "print(f'A chave do mydict é: {mini} e seu valor é: {mydict[mini]}')"
   ],
   "outputs": [
    {
     "output_type": "stream",
     "name": "stdout",
     "text": [
      "a \n",
      "\n",
      "a 5\n",
      "A chave do mydict é: a e seu valor é: 5\n"
     ]
    }
   ],
   "metadata": {}
  },
  {
   "cell_type": "markdown",
   "source": [
    "## Fim"
   ],
   "metadata": {}
  }
 ],
 "metadata": {
  "interpreter": {
   "hash": "2f608992be8c0fbf3f95dc021636af8a8f823125a2cacc4ff6a7e1995838e604"
  },
  "kernelspec": {
   "name": "python3",
   "display_name": "Python 3.8.8 64-bit ('base': conda)"
  },
  "language_info": {
   "codemirror_mode": {
    "name": "ipython",
    "version": 3
   },
   "file_extension": ".py",
   "mimetype": "text/x-python",
   "name": "python",
   "nbconvert_exporter": "python",
   "pygments_lexer": "ipython3",
   "version": "3.8.8"
  }
 },
 "nbformat": 4,
 "nbformat_minor": 2
}