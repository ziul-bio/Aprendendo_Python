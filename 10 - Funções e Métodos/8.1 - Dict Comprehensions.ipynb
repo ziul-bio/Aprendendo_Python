{
 "cells": [
  {
   "cell_type": "markdown",
   "source": [
    "# <font color='blue'> Aprendendo Python</font>\r\n",
    "## <font color='green'>Dictionary Conprehension</font>\r\n",
    "### Autor: Luiz"
   ],
   "metadata": {
    "collapsed": true
   }
  },
  {
   "cell_type": "code",
   "execution_count": null,
   "source": [
    "## Versão da Linguagem Python\r\n",
    "from platform import python_version\r\n",
    "print('Versão da Linguagem Python Usada Neste Jupyter Notebook:', python_version())"
   ],
   "outputs": [],
   "metadata": {}
  },
  {
   "cell_type": "markdown",
   "source": [
    "## Dictionary Comprehension"
   ],
   "metadata": {}
  },
  {
   "cell_type": "code",
   "execution_count": 1,
   "source": [
    "# Retornar cada caracter em uma sequência de caracteres\r\n",
    "lista1 = ['v1', 'v2', 'v3', 'v4']\r\n",
    "lista2 = [10, 30, 40, 50]\r\n",
    "dict1 = {}\r\n",
    "#d = {'Pro':'python'}\r\n",
    "for key, value in zip(lista1, lista2):\r\n",
    "    dict1[key] = value\r\n",
    "print(dict1)\r\n"
   ],
   "outputs": [
    {
     "output_type": "stream",
     "name": "stdout",
     "text": [
      "{'v1': 10, 'v2': 30, 'v3': 40, 'v4': 50}\n"
     ]
    }
   ],
   "metadata": {}
  },
  {
   "cell_type": "code",
   "execution_count": 2,
   "source": [
    "# O uso da dict conprehension deixa tudo mais pythônico, 1 linha de código.\r\n",
    "dict2 = {k: v  for k, v in zip(lista1, lista2)}\r\n",
    "print(dict2)"
   ],
   "outputs": [
    {
     "output_type": "stream",
     "name": "stdout",
     "text": [
      "{'v1': 10, 'v2': 30, 'v3': 40, 'v4': 50}\n"
     ]
    }
   ],
   "metadata": {}
  },
  {
   "cell_type": "code",
   "execution_count": 4,
   "source": [
    "# Checking type:\r\n",
    "print(type(dict1))\r\n",
    "print(type(dict2))"
   ],
   "outputs": [
    {
     "output_type": "stream",
     "name": "stdout",
     "text": [
      "<class 'dict'>\n",
      "<class 'dict'>\n"
     ]
    }
   ],
   "metadata": {}
  },
  {
   "cell_type": "code",
   "execution_count": 3,
   "source": [
    "# Add um condicional ao dict conprehension:\r\n",
    "dict3 = {k: v  for k, v in zip(lista1, lista2) if v >30}\r\n",
    "print(dict3)"
   ],
   "outputs": [
    {
     "output_type": "stream",
     "name": "stdout",
     "text": [
      "{'v3': 40, 'v4': 50}\n"
     ]
    }
   ],
   "metadata": {}
  },
  {
   "cell_type": "code",
   "execution_count": 12,
   "source": [
    "# Incluindo operações nos valores do dicionários\r\n",
    "dict4 = {k:v**2  for k, v in zip(lista1, lista2)}\r\n",
    "print(dict4)"
   ],
   "outputs": [
    {
     "output_type": "stream",
     "name": "stdout",
     "text": [
      "{'v1': 100, 'v2': 900, 'v3': 1600, 'v4': 2500}\n"
     ]
    }
   ],
   "metadata": {}
  },
  {
   "cell_type": "code",
   "execution_count": 15,
   "source": [
    "# Com um dictionary conprehension, podemos aplicar uma função para todos os valores de um dictionary.\r\n",
    "def potencia(num):\r\n",
    "    result = num**2\r\n",
    "    return result\r\n",
    "\r\n",
    "dict5 = {k:potencia(v)  for k, v in zip(lista1, lista2)}\r\n",
    "print(dict5)"
   ],
   "outputs": [
    {
     "output_type": "stream",
     "name": "stdout",
     "text": [
      "{'v1': 100, 'v2': 900, 'v3': 1600, 'v4': 2500}\n"
     ]
    }
   ],
   "metadata": {}
  },
  {
   "cell_type": "markdown",
   "source": [
    "## Set conprehension"
   ],
   "metadata": {}
  },
  {
   "cell_type": "code",
   "execution_count": 7,
   "source": [
    "# Não pythônico jeito de fazer um loop.\r\n",
    "valores = [1, 25 , 2, 55  , 55, 255, 78, 565, 87, 41]\r\n",
    "myset = set()\r\n",
    "\r\n",
    "for v in valores:\r\n",
    "    myset.add(v)\r\n",
    "\r\n",
    "# retorna um set com valores únicos\r\n",
    "print(myset)"
   ],
   "outputs": [
    {
     "output_type": "stream",
     "name": "stdout",
     "text": [
      "{1, 2, 41, 78, 565, 87, 55, 25, 255}\n"
     ]
    }
   ],
   "metadata": {}
  },
  {
   "cell_type": "code",
   "execution_count": 8,
   "source": [
    "# Pythônico jeito de fazer o loop:\r\n",
    "myset2 = {v for v in valores}\r\n",
    "print(myset2)"
   ],
   "outputs": [
    {
     "output_type": "stream",
     "name": "stdout",
     "text": [
      "{1, 2, 41, 78, 565, 87, 55, 25, 255}\n"
     ]
    }
   ],
   "metadata": {}
  },
  {
   "cell_type": "code",
   "execution_count": 9,
   "source": [
    "# Pythônico jeito de fazer o loop com condicional:\r\n",
    "myset2 = {v for v in valores if v >100}\r\n",
    "print(myset2)"
   ],
   "outputs": [
    {
     "output_type": "stream",
     "name": "stdout",
     "text": [
      "{565, 255}\n"
     ]
    }
   ],
   "metadata": {}
  },
  {
   "cell_type": "code",
   "execution_count": 10,
   "source": [
    "# Pythônico jeito de fazer o loop com condicional e operações:\r\n",
    "myset2 = {v*2 for v in valores if v >100}\r\n",
    "print(myset2)"
   ],
   "outputs": [
    {
     "output_type": "stream",
     "name": "stdout",
     "text": [
      "{1130, 510}\n"
     ]
    }
   ],
   "metadata": {}
  },
  {
   "cell_type": "markdown",
   "source": [
    "# FIM"
   ],
   "metadata": {}
  },
  {
   "cell_type": "markdown",
   "source": [
    "### Obrigado - Data Science Academy - <a href=\"http://facebook.com/dsacademybr\">facebook.com/dsacademybr</a>"
   ],
   "metadata": {}
  }
 ],
 "metadata": {
  "kernelspec": {
   "name": "python3",
   "display_name": "Python 3.8.11 64-bit ('env1': conda)"
  },
  "language_info": {
   "codemirror_mode": {
    "name": "ipython",
    "version": 3
   },
   "file_extension": ".py",
   "mimetype": "text/x-python",
   "name": "python",
   "nbconvert_exporter": "python",
   "pygments_lexer": "ipython3",
   "version": "3.8.11"
  },
  "interpreter": {
   "hash": "256b550e27a01a486617a94bb46c9f5a9b96ae4c87f007bd03dec2cfb1a19284"
  }
 },
 "nbformat": 4,
 "nbformat_minor": 1
}