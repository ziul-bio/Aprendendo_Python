{
 "cells": [
  {
   "cell_type": "markdown",
   "source": [
    "# <font color='blue'> Aprendendo Python</font>\r\n",
    "## <font color='green'>Funções Enumerate</font>\r\n",
    "### Autor: Luiz"
   ],
   "metadata": {}
  },
  {
   "cell_type": "code",
   "execution_count": 17,
   "source": [
    "# Versão da Linguagem Python\r\n",
    "from platform import python_version\r\n",
    "print('Versão da Linguagem Python Usada Neste Jupyter Notebook:', python_version())"
   ],
   "outputs": [
    {
     "output_type": "stream",
     "name": "stdout",
     "text": [
      "Versão da Linguagem Python Usada Neste Jupyter Notebook: 3.8.11\n"
     ]
    }
   ],
   "metadata": {}
  },
  {
   "cell_type": "markdown",
   "source": [
    "# Enumerate"
   ],
   "metadata": {}
  },
  {
   "cell_type": "markdown",
   "source": [
    "### Em Python, um loop for é geralmente escrito sobre um objeto iterável. Isso significa que você não precisa de uma variável de contagem para acessar os itens no iterável.  \r\n",
    "### Às vezes, porém, você deseja ter uma variável que muda a cada iteração do loop. Em vez de criar e incrementar você mesmo uma variável, você pode usar enumerate () do Python para obter um contador e o valor do iterável ao mesmo tempo!"
   ],
   "metadata": {}
  },
  {
   "cell_type": "code",
   "execution_count": 18,
   "source": [
    "# Criando uma lista\r\n",
    "seq = ['a','b','c']"
   ],
   "outputs": [],
   "metadata": {}
  },
  {
   "cell_type": "code",
   "execution_count": 19,
   "source": [
    "# Maneira não pythônico de se obter os valores indexados de uma lista:\r\n",
    "index = 0\r\n",
    "for value in seq:\r\n",
    "    print(index, value)\r\n",
    "    index += 1"
   ],
   "outputs": [
    {
     "output_type": "stream",
     "name": "stdout",
     "text": [
      "0 a\n",
      "1 b\n",
      "2 c\n"
     ]
    }
   ],
   "metadata": {}
  },
  {
   "cell_type": "code",
   "execution_count": 20,
   "source": [
    "# Maneira não pythônico de se obter os valores indexados de uma lista:\r\n",
    "enumerate(seq)"
   ],
   "outputs": [
    {
     "output_type": "execute_result",
     "data": {
      "text/plain": [
       "<enumerate at 0x1770a1e1f80>"
      ]
     },
     "metadata": {},
     "execution_count": 20
    }
   ],
   "metadata": {}
  },
  {
   "cell_type": "code",
   "execution_count": 21,
   "source": [
    "# transformado o objeto em lista\r\n",
    "list(enumerate(seq))"
   ],
   "outputs": [
    {
     "output_type": "execute_result",
     "data": {
      "text/plain": [
       "[(0, 'a'), (1, 'b'), (2, 'c')]"
      ]
     },
     "metadata": {},
     "execution_count": 21
    }
   ],
   "metadata": {}
  },
  {
   "cell_type": "code",
   "execution_count": 22,
   "source": [
    "# Imprimindo os valores de uma lista com a função enumerate() e seus respectivos índices\r\n",
    "for indice, valor in enumerate(seq):\r\n",
    "    print (indice, valor)"
   ],
   "outputs": [
    {
     "output_type": "stream",
     "name": "stdout",
     "text": [
      "0 a\n",
      "1 b\n",
      "2 c\n"
     ]
    }
   ],
   "metadata": {}
  },
  {
   "cell_type": "code",
   "execution_count": 23,
   "source": [
    "for indice, valor in enumerate(seq):\r\n",
    "    if indice >= 2:\r\n",
    "        break\r\n",
    "    else:\r\n",
    "        print (valor)"
   ],
   "outputs": [
    {
     "output_type": "stream",
     "name": "stdout",
     "text": [
      "a\n",
      "b\n"
     ]
    }
   ],
   "metadata": {}
  },
  {
   "cell_type": "code",
   "execution_count": 24,
   "source": [
    "lista = ['Marketing', 'Tecnologia', 'Business']"
   ],
   "outputs": [],
   "metadata": {}
  },
  {
   "cell_type": "code",
   "execution_count": 25,
   "source": [
    "for i, item in enumerate(lista):\r\n",
    "    print(i, item)"
   ],
   "outputs": [
    {
     "output_type": "stream",
     "name": "stdout",
     "text": [
      "0 Marketing\n",
      "1 Tecnologia\n",
      "2 Business\n"
     ]
    }
   ],
   "metadata": {}
  },
  {
   "cell_type": "code",
   "execution_count": 26,
   "source": [
    "for i, item in enumerate('Isso é uma string'):\r\n",
    "    print(i, item)"
   ],
   "outputs": [
    {
     "output_type": "stream",
     "name": "stdout",
     "text": [
      "0 I\n",
      "1 s\n",
      "2 s\n",
      "3 o\n",
      "4  \n",
      "5 é\n",
      "6  \n",
      "7 u\n",
      "8 m\n",
      "9 a\n",
      "10  \n",
      "11 s\n",
      "12 t\n",
      "13 r\n",
      "14 i\n",
      "15 n\n",
      "16 g\n"
     ]
    }
   ],
   "metadata": {}
  },
  {
   "cell_type": "code",
   "execution_count": 27,
   "source": [
    "for i, item in enumerate(range(10)):\r\n",
    "    print(i, item)"
   ],
   "outputs": [
    {
     "output_type": "stream",
     "name": "stdout",
     "text": [
      "0 0\n",
      "1 1\n",
      "2 2\n",
      "3 3\n",
      "4 4\n",
      "5 5\n",
      "6 6\n",
      "7 7\n",
      "8 8\n",
      "9 9\n"
     ]
    }
   ],
   "metadata": {}
  },
  {
   "cell_type": "markdown",
   "source": [
    "## Usando o enumerate dentro de uma função"
   ],
   "metadata": {}
  },
  {
   "cell_type": "code",
   "execution_count": 28,
   "source": [
    "a = range(30)\r\n",
    "\r\n",
    "def itensPares(iterable):\r\n",
    "    \"\"\"Return os itens do``iterable`` quando estes forem pares.\"\"\"\r\n",
    "    values = []\r\n",
    "    for index, value in enumerate(iterable, start=1):\r\n",
    "        if index % 2:\r\n",
    "            values.append(value)\r\n",
    "    return values\r\n",
    "\r\n",
    "itensPares(a)"
   ],
   "outputs": [
    {
     "output_type": "execute_result",
     "data": {
      "text/plain": [
       "[0, 2, 4, 6, 8, 10, 12, 14, 16, 18, 20, 22, 24, 26, 28]"
      ]
     },
     "metadata": {},
     "execution_count": 28
    }
   ],
   "metadata": {}
  },
  {
   "cell_type": "markdown",
   "source": [
    "# FIM"
   ],
   "metadata": {}
  }
 ],
 "metadata": {
  "kernelspec": {
   "name": "python3",
   "display_name": "Python 3.8.11 64-bit ('env1': conda)"
  },
  "language_info": {
   "codemirror_mode": {
    "name": "ipython",
    "version": 3
   },
   "file_extension": ".py",
   "mimetype": "text/x-python",
   "name": "python",
   "nbconvert_exporter": "python",
   "pygments_lexer": "ipython3",
   "version": "3.8.11"
  },
  "interpreter": {
   "hash": "256b550e27a01a486617a94bb46c9f5a9b96ae4c87f007bd03dec2cfb1a19284"
  }
 },
 "nbformat": 4,
 "nbformat_minor": 1
}