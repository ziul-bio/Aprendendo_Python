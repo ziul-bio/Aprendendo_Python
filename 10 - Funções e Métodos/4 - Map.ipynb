{
 "cells": [
  {
   "cell_type": "markdown",
   "source": [
    "# <font color='blue'> Aprendendo Python</font>\r\n",
    "## <font color='green'>Função Map</font>\r\n",
    "### Autor: Luiz"
   ],
   "metadata": {}
  },
  {
   "cell_type": "code",
   "execution_count": 1,
   "source": [
    "# Versão da Linguagem Python\r\n",
    "from platform import python_version\r\n",
    "print('Versão da Linguagem Python Usada Neste Jupyter Notebook:', python_version())"
   ],
   "outputs": [
    {
     "output_type": "stream",
     "name": "stdout",
     "text": [
      "Versão da Linguagem Python Usada Neste Jupyter Notebook: 3.8.11\n"
     ]
    }
   ],
   "metadata": {}
  },
  {
   "cell_type": "markdown",
   "source": [
    "## Map"
   ],
   "metadata": {}
  },
  {
   "cell_type": "markdown",
   "source": [
    "## A função map () executa uma função especificada para cada item em um iterável. O item é enviado para a função como parâmetro."
   ],
   "metadata": {}
  },
  {
   "cell_type": "code",
   "execution_count": 71,
   "source": [
    "print('{:<20} {:<20}'.format('Parâmetro', '| Descrição'))\r\n",
    "print('-'*150)\r\n",
    "print('{:<20} {:>20}'.format('Função', '| Necessária, pois é a função que atuará sobre cada item do iterável'))\r\n",
    "print('{:<20} {:>20}'.format('Iterável', '| Obrigatório, sendo este uma sequência, coleção ou objeto iterador.\\n                       Você pode enviar quantos iteráveis desejar, apenas certifique-se de que a função tenha um parâmetro para cada iterável.'))"
   ],
   "outputs": [
    {
     "output_type": "stream",
     "name": "stdout",
     "text": [
      "Parâmetro            | Descrição         \n",
      "------------------------------------------------------------------------------------------------------------------------------------------------------\n",
      "Função               | Necessária, pois é a função que atuará sobre cada item do iterável\n",
      "Iterável             | Obrigatório, sendo este uma sequência, coleção ou objeto iterador.\n",
      "                       Você pode enviar quantos iteráveis desejar, apenas certifique-se de que a função tenha um parâmetro para cada iterável.\n"
     ]
    }
   ],
   "metadata": {}
  },
  {
   "cell_type": "code",
   "execution_count": 3,
   "source": [
    "# Criando Funções:\r\n",
    "\r\n",
    "# Função 1\r\n",
    "def fahrenheit(T):\r\n",
    "    return (float(9/5)*T + 32)\r\n",
    "\r\n",
    "# função 2\r\n",
    "def celsius(T):\r\n",
    "    return (float(5/9)*T -32)"
   ],
   "outputs": [],
   "metadata": {}
  },
  {
   "cell_type": "code",
   "execution_count": 4,
   "source": [
    "# Criando uma lista\r\n",
    "temperaturas = [0, 22.5, 40, 100]"
   ],
   "outputs": [],
   "metadata": {}
  },
  {
   "cell_type": "code",
   "execution_count": 5,
   "source": [
    "# Aplicando a função a cada elemento da lista de temperaturas. \r\n",
    "map(fahrenheit, temperaturas)"
   ],
   "outputs": [
    {
     "output_type": "execute_result",
     "data": {
      "text/plain": [
       "<map at 0x15b1b435490>"
      ]
     },
     "metadata": {},
     "execution_count": 5
    }
   ],
   "metadata": {}
  },
  {
   "cell_type": "markdown",
   "source": [
    "### Em Python 3, a funçãp map() retornar um iterator (por isso é preciso converte o resultado em uma lista)"
   ],
   "metadata": {}
  },
  {
   "cell_type": "code",
   "execution_count": 6,
   "source": [
    "# Função map() retorna um lista de temperaturas convertidas em Fahrenheit\r\n",
    "list(map(fahrenheit, temperaturas))"
   ],
   "outputs": [
    {
     "output_type": "execute_result",
     "data": {
      "text/plain": [
       "[32.0, 72.5, 104.0, 212.0]"
      ]
     },
     "metadata": {},
     "execution_count": 6
    }
   ],
   "metadata": {}
  },
  {
   "cell_type": "code",
   "execution_count": 7,
   "source": [
    "# Usando um loop for para imprimir o resultado da função map()\r\n",
    "for temp in map(fahrenheit, temperaturas):\r\n",
    "    print(temp)"
   ],
   "outputs": [
    {
     "output_type": "stream",
     "name": "stdout",
     "text": [
      "32.0\n",
      "72.5\n",
      "104.0\n",
      "212.0\n"
     ]
    }
   ],
   "metadata": {}
  },
  {
   "cell_type": "code",
   "execution_count": 8,
   "source": [
    "# Convertendo para Celsius\r\n",
    "map(celsius, temperaturas)"
   ],
   "outputs": [
    {
     "output_type": "execute_result",
     "data": {
      "text/plain": [
       "<map at 0x15b1b435940>"
      ]
     },
     "metadata": {},
     "execution_count": 8
    }
   ],
   "metadata": {}
  },
  {
   "cell_type": "code",
   "execution_count": 9,
   "source": [
    "list(map(celsius, temperaturas))"
   ],
   "outputs": [
    {
     "output_type": "execute_result",
     "data": {
      "text/plain": [
       "[-32.0, -19.5, -9.777777777777779, 23.555555555555557]"
      ]
     },
     "metadata": {},
     "execution_count": 9
    }
   ],
   "metadata": {}
  },
  {
   "cell_type": "code",
   "execution_count": 11,
   "source": [
    "#usando lambda como função em map:\r\n",
    "map(lambda x:(5.0/9)* (x - 32), temperaturas)"
   ],
   "outputs": [
    {
     "output_type": "execute_result",
     "data": {
      "text/plain": [
       "<map at 0x15b1b52f640>"
      ]
     },
     "metadata": {},
     "execution_count": 11
    }
   ],
   "metadata": {}
  },
  {
   "cell_type": "code",
   "execution_count": 24,
   "source": [
    "# convertendo em lista\r\n",
    "temp = list(map(lambda x: (5.0/9)*(x - 32), temperaturas))\r\n",
    "print(temp)"
   ],
   "outputs": [
    {
     "output_type": "stream",
     "name": "stdout",
     "text": [
      "[-17.77777777777778, -5.277777777777778, 4.444444444444445, 37.77777777777778]\n"
     ]
    }
   ],
   "metadata": {}
  },
  {
   "cell_type": "code",
   "execution_count": 13,
   "source": [
    "# Somando os elementos de 2 listas\r\n",
    "a = [1,2,3,4]\r\n",
    "b = [5,6,7,8]"
   ],
   "outputs": [],
   "metadata": {}
  },
  {
   "cell_type": "code",
   "execution_count": 14,
   "source": [
    "# para a função lambda os valores de x e y: queremos somar x + y e estes se encontram na listas a e b, x cada elem em a e y cada elem em b.\r\n",
    "list(map(lambda x,y : x + y, a, b))"
   ],
   "outputs": [
    {
     "output_type": "execute_result",
     "data": {
      "text/plain": [
       "[6, 8, 10, 12]"
      ]
     },
     "metadata": {},
     "execution_count": 14
    }
   ],
   "metadata": {}
  },
  {
   "cell_type": "code",
   "execution_count": 15,
   "source": [
    "# Somando os elementos de 3 listas\r\n",
    "a = [1,2,3,4]\r\n",
    "b = [5,6,7,8]\r\n",
    "c = [9,10,11,12]"
   ],
   "outputs": [],
   "metadata": {}
  },
  {
   "cell_type": "code",
   "execution_count": 16,
   "source": [
    "# E o mesmo funciona para mais listas\r\n",
    "list(map(lambda x,y,z : x + y + z, a, b, c))"
   ],
   "outputs": [
    {
     "output_type": "execute_result",
     "data": {
      "text/plain": [
       "[15, 18, 21, 24]"
      ]
     },
     "metadata": {},
     "execution_count": 16
    }
   ],
   "metadata": {}
  },
  {
   "cell_type": "markdown",
   "source": [
    "# Fim"
   ],
   "metadata": {}
  }
 ],
 "metadata": {
  "kernelspec": {
   "name": "python3",
   "display_name": "Python 3.8.11 64-bit ('env1': conda)"
  },
  "language_info": {
   "codemirror_mode": {
    "name": "ipython",
    "version": 3
   },
   "file_extension": ".py",
   "mimetype": "text/x-python",
   "name": "python",
   "nbconvert_exporter": "python",
   "pygments_lexer": "ipython3",
   "version": "3.8.11"
  },
  "interpreter": {
   "hash": "256b550e27a01a486617a94bb46c9f5a9b96ae4c87f007bd03dec2cfb1a19284"
  }
 },
 "nbformat": 4,
 "nbformat_minor": 1
}