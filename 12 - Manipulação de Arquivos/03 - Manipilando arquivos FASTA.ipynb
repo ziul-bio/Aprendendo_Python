{
 "cells": [
  {
   "cell_type": "markdown",
   "source": [
    "# <font color='blue'> Aprendendo Python</font>\r\n",
    "## <font color='green'>Manipilando arquivos FASTA</font>\r\n",
    "### Autor: Luiz"
   ],
   "metadata": {}
  },
  {
   "cell_type": "code",
   "execution_count": 19,
   "source": [
    "# Versão da Linguagem Python\r\n",
    "from platform import python_version\r\n",
    "print('Versão da Linguagem Python Usada Neste Jupyter Notebook:', python_version())"
   ],
   "outputs": [
    {
     "output_type": "stream",
     "name": "stdout",
     "text": [
      "Versão da Linguagem Python Usada Neste Jupyter Notebook: 3.8.11\n"
     ]
    }
   ],
   "metadata": {}
  },
  {
   "cell_type": "markdown",
   "source": [
    "# Trabalando com arquivos\r\n",
    "## Entrada e saída"
   ],
   "metadata": {}
  },
  {
   "cell_type": "code",
   "execution_count": 20,
   "source": [
    "# Criando arquivo de TXT\r\n",
    "dados = open('arquivos/dados.txt', 'w')"
   ],
   "outputs": [],
   "metadata": {}
  },
  {
   "cell_type": "code",
   "execution_count": 21,
   "source": [
    "# Inserindo dados no arquivo e fechando:\r\n",
    "dados.write('DNA = ATGCGCGATATAGCGCTATATAGCGCGATATATAGGCGCGCGCGCTATATATAGCGCGCGATATATATCCGGCGCGCTATATATATAATATATATATCGTGTACGTCATGCATGACTG\\n')\r\n",
    "dados.close()"
   ],
   "outputs": [],
   "metadata": {}
  },
  {
   "cell_type": "code",
   "execution_count": 22,
   "source": [
    "# Abrindo o arquivo para leitura e imprimindo o seu conteudo.\r\n",
    "dados = open('arquivos/dados.txt', 'r')\r\n",
    "print('Lendo os dados do arquivo:', dados.read())\r\n",
    "print('Número de caracteres do arquivo:', dados.tell())\r\n",
    "dados.close()"
   ],
   "outputs": [
    {
     "output_type": "stream",
     "name": "stdout",
     "text": [
      "Lendo os dados do arquivo: DNA = ATGCGCGATATAGCGCTATATAGCGCGATATATAGGCGCGCGCGCTATATATAGCGCGCGATATATATCCGGCGCGCTATATATATAATATATATATCGTGTACGTCATGCATGACTG\n",
      "\n",
      "Número de caracteres do arquivo: 126\n"
     ]
    }
   ],
   "metadata": {}
  },
  {
   "cell_type": "code",
   "execution_count": 23,
   "source": [
    "# Acrescentando conteúdo ao invés de subscrever.\r\n",
    "# com a letra 'a'(appende) ao invés de 'w'(write) no método, é possível adicional conteúdo ao arquivo\r\n",
    "dados = open('arquivos/dados.txt', 'a')\r\n",
    "dados.write('ATATATCTACGACGTACTGAGTACTGACTACTGCGTAGTACTGACGTAGTACGTCAGTCATGGTCATGCATGCATGCATGCATGCATGCATGCATGCAGTCAGTCAGTCAGTCATGCATGCATG\\n')\r\n",
    "dados.close()"
   ],
   "outputs": [],
   "metadata": {}
  },
  {
   "cell_type": "code",
   "execution_count": 24,
   "source": [
    "dados = open('arquivos/dados.txt', 'r')\r\n",
    "print('lendo os dados acrescentado ao arquivo', dados.read())\r\n",
    "print('Número de caracteres:', dados.tell())\r\n",
    "dados.close()"
   ],
   "outputs": [
    {
     "output_type": "stream",
     "name": "stdout",
     "text": [
      "lendo os dados acrescentado ao arquivo DNA = ATGCGCGATATAGCGCTATATAGCGCGATATATAGGCGCGCGCGCTATATATAGCGCGCGATATATATCCGGCGCGCTATATATATAATATATATATCGTGTACGTCATGCATGACTG\n",
      "ATATATCTACGACGTACTGAGTACTGACTACTGCGTAGTACTGACGTAGTACGTCAGTCATGGTCATGCATGCATGCATGCATGCATGCATGCATGCAGTCAGTCAGTCAGTCATGCATGCATG\n",
      "\n",
      "Número de caracteres: 252\n"
     ]
    }
   ],
   "metadata": {}
  },
  {
   "cell_type": "markdown",
   "source": [
    "## Remoção de arquivos e diretórios\r\n",
    "### Para remover um arquivo, precisamos usamos a função “remove\" do módulo “os”:"
   ],
   "metadata": {}
  },
  {
   "cell_type": "code",
   "execution_count": 25,
   "source": [
    "import os\r\n",
    "os.remove('arquivos/dados.txt')"
   ],
   "outputs": [],
   "metadata": {}
  },
  {
   "cell_type": "code",
   "execution_count": 26,
   "source": [
    "# Abrindo um arquivo se ele exixtir, se não, criando um novo.\r\n",
    "if os.path.exists('arquivos/dados.txt'):\r\n",
    "    open('dados.txt', 'r')\r\n",
    "else:\r\n",
    "    open('dados.txt', 'w')"
   ],
   "outputs": [],
   "metadata": {}
  },
  {
   "cell_type": "code",
   "execution_count": 27,
   "source": [
    "dados = open('arquivos/dados.txt', 'a')\r\n",
    "dados.write('RNA = AAUAUAAUUCCGUACGUCGUCAGUACGUACGUACGUACGUACGUACGUAUGACGUACGUACGUACGUACGUACGUACUGCAGUACUGCAUGACUGAUGACUGACUGACUGACGUCAGU\\n')\r\n",
    "dados.close()"
   ],
   "outputs": [],
   "metadata": {}
  },
  {
   "cell_type": "code",
   "execution_count": 28,
   "source": [
    "dados = open('arquivos/dados.txt', 'r')\r\n",
    "print('Lendo os dados do arquivo:', dados.read())\r\n",
    "\r\n",
    "dados.close()"
   ],
   "outputs": [
    {
     "output_type": "stream",
     "name": "stdout",
     "text": [
      "Lendo os dados do arquivo: RNA = AAUAUAAUUCCGUACGUCGUCAGUACGUACGUACGUACGUACGUACGUAUGACGUACGUACGUACGUACGUACGUACUGCAGUACUGCAUGACUGAUGACUGACUGACUGACGUCAGU\n",
      "\n"
     ]
    }
   ],
   "metadata": {}
  },
  {
   "cell_type": "code",
   "execution_count": 29,
   "source": [
    "# Note que, por padrão, a função “print\" de Python sempre imprime com quebra de linhas. Há duas variações que você pode usar desse código:\r\n",
    "f = open('arquivos/E.coli_gene.txt', 'r')\r\n",
    "f.read()"
   ],
   "outputs": [
    {
     "output_type": "execute_result",
     "data": {
      "text/plain": [
       "'>X81322.1 E.coli hpcC gene\\nGAAGTAGAAGGCGTGGGCCGCCTGGTGAACCGAATTGTTGAGTGAGGAAACAGCGAAATGAAAAAAGTAA\\nATCATTGGATCAACGGCAAAAATGTTGCAGGTAACGACTACTTCCTGACCACCAATCCGGCAACGGGTGA\\nAGTGCTGGCGGATGTGGCCTCTGGCGGTGAAGCGGAGATCAATCAGGCGGTAGCGACAGCGAAAGAGGCG\\nTTCCCGAAATGGGCCAATCTGCCGATGAAAGAGCGTGCGCGCCTGATGCGCCGTCTGGGCGATCTGATCG\\nACCAGAACGTGCCAGAGATCGCCGCGATGGAAACCGCGGACACGGGCCTGCCGATCCATCAGACCAAAAA\\nTGTGTTGATCCCACGCGCTTCTCACAACTTTGAATTTTTCGCGGAAGTCTGCCAGCAGATGAACGGCAAG\\nACTTATCCGGTCGACGACAAGATGCTCAACTACACGCTGGTGCAGCCGGTAGGCGTTTGTGCACTGGTGT\\nCACCGTGGAACGTGCCGTTTATGACCGCCACCTGGAAGGTCGCGCCGTGTCTGGCGCTGGGCATTACCGC\\nGGTGCTGAAGATGTCCGAACTCTCCCCGCTGACCGCTGACCGCCTGGGTGAGCTGGCGCTGGAAGCCGGT\\nATTCCGGCGGGCGTTCTGAACGTGGTACAGGGCTACGGCGCAACCGCAGGCGATGCGCTGGTCCGTCATC\\nATGACGTGCGTGCCGTGTCGTTCACCGGCGGTACGGCGACCGGGCGCAATATCATGAAAAACGCCGGGCT\\nGAAAAAATACTCCATGGAACTGGGCGGTAAATCGCCGGTGCTGATTTTTGAAGATGCCGATATTGAGCGC\\nGCGCTGGACGCCGCCCTGTTCACCATCTTCTCGATCAACGGCGAGCGCTGCACCGCCGGTTCGCGCATCT\\nTTATTCAACAAAGCATCTACCCGGAATTCGTGAAATTTGCCGAACGCGCCAACCGTGTGCGCGTGGGCGA\\nTCCGACCGATCCGAATACCCAGGTTGGGGCGCTTATCAGCCAGCAACACTGGGAAAAAGTCTCCGGCTAT\\nATCCGTCTGGGCATTGAAGAAGGCGCCACCCTGCTGGCGGGCGGCCCGGATAAACCGTCTGACCTGCCTG\\nCACACCTGAAAGGCGGCAACTTCCTGCGCCCAACGGTGCTGGCGGACGTAGATAACCGTATGCGCGTTGC\\nCCAGGAAGAGATTTTCGGGCCGGTCGCCTGCCTGCTGCCGTTTAAAGACGAAGCCGAAGCGTTACGCCTG\\nGCAAACGACGTGGAGTATGGCCTCGCGTCGTACATCTGGACACAGGATGTCAGCAAAGTGCTGCGTCTGG\\nCGCGCGGCATTGAAGCAGGCATGGTGTTCGTCAACACCCAGTTCGTGCGTGACCTGCGCCACGCATTTGG\\nCGGCGTAAAACCTCGCACCGGGCGTGAAGGCGGTGGATACAGTTCGAAGTGTTCGCGGAAATGAAGAAGA\\nACGTCTGCATTCCATGGCGGACCATCCCA'"
      ]
     },
     "metadata": {},
     "execution_count": 29
    }
   ],
   "metadata": {}
  },
  {
   "cell_type": "code",
   "execution_count": 30,
   "source": [
    "# Tirar as quebras de linha de cada linha lida do arquivo:\r\n",
    "f = open('arquivos/E.coli_gene.txt', 'r')\r\n",
    "for l in f:\r\n",
    "    l = l.rstrip()\r\n",
    "    print(l)"
   ],
   "outputs": [
    {
     "output_type": "stream",
     "name": "stdout",
     "text": [
      ">X81322.1 E.coli hpcC gene\n",
      "GAAGTAGAAGGCGTGGGCCGCCTGGTGAACCGAATTGTTGAGTGAGGAAACAGCGAAATGAAAAAAGTAA\n",
      "ATCATTGGATCAACGGCAAAAATGTTGCAGGTAACGACTACTTCCTGACCACCAATCCGGCAACGGGTGA\n",
      "AGTGCTGGCGGATGTGGCCTCTGGCGGTGAAGCGGAGATCAATCAGGCGGTAGCGACAGCGAAAGAGGCG\n",
      "TTCCCGAAATGGGCCAATCTGCCGATGAAAGAGCGTGCGCGCCTGATGCGCCGTCTGGGCGATCTGATCG\n",
      "ACCAGAACGTGCCAGAGATCGCCGCGATGGAAACCGCGGACACGGGCCTGCCGATCCATCAGACCAAAAA\n",
      "TGTGTTGATCCCACGCGCTTCTCACAACTTTGAATTTTTCGCGGAAGTCTGCCAGCAGATGAACGGCAAG\n",
      "ACTTATCCGGTCGACGACAAGATGCTCAACTACACGCTGGTGCAGCCGGTAGGCGTTTGTGCACTGGTGT\n",
      "CACCGTGGAACGTGCCGTTTATGACCGCCACCTGGAAGGTCGCGCCGTGTCTGGCGCTGGGCATTACCGC\n",
      "GGTGCTGAAGATGTCCGAACTCTCCCCGCTGACCGCTGACCGCCTGGGTGAGCTGGCGCTGGAAGCCGGT\n",
      "ATTCCGGCGGGCGTTCTGAACGTGGTACAGGGCTACGGCGCAACCGCAGGCGATGCGCTGGTCCGTCATC\n",
      "ATGACGTGCGTGCCGTGTCGTTCACCGGCGGTACGGCGACCGGGCGCAATATCATGAAAAACGCCGGGCT\n",
      "GAAAAAATACTCCATGGAACTGGGCGGTAAATCGCCGGTGCTGATTTTTGAAGATGCCGATATTGAGCGC\n",
      "GCGCTGGACGCCGCCCTGTTCACCATCTTCTCGATCAACGGCGAGCGCTGCACCGCCGGTTCGCGCATCT\n",
      "TTATTCAACAAAGCATCTACCCGGAATTCGTGAAATTTGCCGAACGCGCCAACCGTGTGCGCGTGGGCGA\n",
      "TCCGACCGATCCGAATACCCAGGTTGGGGCGCTTATCAGCCAGCAACACTGGGAAAAAGTCTCCGGCTAT\n",
      "ATCCGTCTGGGCATTGAAGAAGGCGCCACCCTGCTGGCGGGCGGCCCGGATAAACCGTCTGACCTGCCTG\n",
      "CACACCTGAAAGGCGGCAACTTCCTGCGCCCAACGGTGCTGGCGGACGTAGATAACCGTATGCGCGTTGC\n",
      "CCAGGAAGAGATTTTCGGGCCGGTCGCCTGCCTGCTGCCGTTTAAAGACGAAGCCGAAGCGTTACGCCTG\n",
      "GCAAACGACGTGGAGTATGGCCTCGCGTCGTACATCTGGACACAGGATGTCAGCAAAGTGCTGCGTCTGG\n",
      "CGCGCGGCATTGAAGCAGGCATGGTGTTCGTCAACACCCAGTTCGTGCGTGACCTGCGCCACGCATTTGG\n",
      "CGGCGTAAAACCTCGCACCGGGCGTGAAGGCGGTGGATACAGTTCGAAGTGTTCGCGGAAATGAAGAAGA\n",
      "ACGTCTGCATTCCATGGCGGACCATCCCA\n"
     ]
    }
   ],
   "metadata": {}
  },
  {
   "cell_type": "code",
   "execution_count": 31,
   "source": [
    "# Tirar as quebras de linha de cada linha lida do arquivo:\r\n",
    "dados = open('arquivos/E.coli_gene.txt', 'r')\r\n",
    "for l in dados:\r\n",
    "    print(l, end='')"
   ],
   "outputs": [
    {
     "output_type": "stream",
     "name": "stdout",
     "text": [
      ">X81322.1 E.coli hpcC gene\n",
      "GAAGTAGAAGGCGTGGGCCGCCTGGTGAACCGAATTGTTGAGTGAGGAAACAGCGAAATGAAAAAAGTAA\n",
      "ATCATTGGATCAACGGCAAAAATGTTGCAGGTAACGACTACTTCCTGACCACCAATCCGGCAACGGGTGA\n",
      "AGTGCTGGCGGATGTGGCCTCTGGCGGTGAAGCGGAGATCAATCAGGCGGTAGCGACAGCGAAAGAGGCG\n",
      "TTCCCGAAATGGGCCAATCTGCCGATGAAAGAGCGTGCGCGCCTGATGCGCCGTCTGGGCGATCTGATCG\n",
      "ACCAGAACGTGCCAGAGATCGCCGCGATGGAAACCGCGGACACGGGCCTGCCGATCCATCAGACCAAAAA\n",
      "TGTGTTGATCCCACGCGCTTCTCACAACTTTGAATTTTTCGCGGAAGTCTGCCAGCAGATGAACGGCAAG\n",
      "ACTTATCCGGTCGACGACAAGATGCTCAACTACACGCTGGTGCAGCCGGTAGGCGTTTGTGCACTGGTGT\n",
      "CACCGTGGAACGTGCCGTTTATGACCGCCACCTGGAAGGTCGCGCCGTGTCTGGCGCTGGGCATTACCGC\n",
      "GGTGCTGAAGATGTCCGAACTCTCCCCGCTGACCGCTGACCGCCTGGGTGAGCTGGCGCTGGAAGCCGGT\n",
      "ATTCCGGCGGGCGTTCTGAACGTGGTACAGGGCTACGGCGCAACCGCAGGCGATGCGCTGGTCCGTCATC\n",
      "ATGACGTGCGTGCCGTGTCGTTCACCGGCGGTACGGCGACCGGGCGCAATATCATGAAAAACGCCGGGCT\n",
      "GAAAAAATACTCCATGGAACTGGGCGGTAAATCGCCGGTGCTGATTTTTGAAGATGCCGATATTGAGCGC\n",
      "GCGCTGGACGCCGCCCTGTTCACCATCTTCTCGATCAACGGCGAGCGCTGCACCGCCGGTTCGCGCATCT\n",
      "TTATTCAACAAAGCATCTACCCGGAATTCGTGAAATTTGCCGAACGCGCCAACCGTGTGCGCGTGGGCGA\n",
      "TCCGACCGATCCGAATACCCAGGTTGGGGCGCTTATCAGCCAGCAACACTGGGAAAAAGTCTCCGGCTAT\n",
      "ATCCGTCTGGGCATTGAAGAAGGCGCCACCCTGCTGGCGGGCGGCCCGGATAAACCGTCTGACCTGCCTG\n",
      "CACACCTGAAAGGCGGCAACTTCCTGCGCCCAACGGTGCTGGCGGACGTAGATAACCGTATGCGCGTTGC\n",
      "CCAGGAAGAGATTTTCGGGCCGGTCGCCTGCCTGCTGCCGTTTAAAGACGAAGCCGAAGCGTTACGCCTG\n",
      "GCAAACGACGTGGAGTATGGCCTCGCGTCGTACATCTGGACACAGGATGTCAGCAAAGTGCTGCGTCTGG\n",
      "CGCGCGGCATTGAAGCAGGCATGGTGTTCGTCAACACCCAGTTCGTGCGTGACCTGCGCCACGCATTTGG\n",
      "CGGCGTAAAACCTCGCACCGGGCGTGAAGGCGGTGGATACAGTTCGAAGTGTTCGCGGAAATGAAGAAGA\n",
      "ACGTCTGCATTCCATGGCGGACCATCCCA"
     ]
    }
   ],
   "metadata": {}
  },
  {
   "cell_type": "code",
   "execution_count": 32,
   "source": [
    "# Lendo linhas sem o sinal de quebra de linha (\\n).\r\n",
    "f = open('arquivos/E.coli_gene.txt', 'r')\r\n",
    "f.readline().strip()"
   ],
   "outputs": [
    {
     "output_type": "execute_result",
     "data": {
      "text/plain": [
       "'>X81322.1 E.coli hpcC gene'"
      ]
     },
     "metadata": {},
     "execution_count": 32
    }
   ],
   "metadata": {}
  },
  {
   "cell_type": "code",
   "execution_count": 33,
   "source": [
    "# Lendo linhas do arquivo\r\n",
    "f = open('arquivos/E.coli_gene.txt', 'r')\r\n",
    "f.readlines()"
   ],
   "outputs": [
    {
     "output_type": "execute_result",
     "data": {
      "text/plain": [
       "['>X81322.1 E.coli hpcC gene\\n',\n",
       " 'GAAGTAGAAGGCGTGGGCCGCCTGGTGAACCGAATTGTTGAGTGAGGAAACAGCGAAATGAAAAAAGTAA\\n',\n",
       " 'ATCATTGGATCAACGGCAAAAATGTTGCAGGTAACGACTACTTCCTGACCACCAATCCGGCAACGGGTGA\\n',\n",
       " 'AGTGCTGGCGGATGTGGCCTCTGGCGGTGAAGCGGAGATCAATCAGGCGGTAGCGACAGCGAAAGAGGCG\\n',\n",
       " 'TTCCCGAAATGGGCCAATCTGCCGATGAAAGAGCGTGCGCGCCTGATGCGCCGTCTGGGCGATCTGATCG\\n',\n",
       " 'ACCAGAACGTGCCAGAGATCGCCGCGATGGAAACCGCGGACACGGGCCTGCCGATCCATCAGACCAAAAA\\n',\n",
       " 'TGTGTTGATCCCACGCGCTTCTCACAACTTTGAATTTTTCGCGGAAGTCTGCCAGCAGATGAACGGCAAG\\n',\n",
       " 'ACTTATCCGGTCGACGACAAGATGCTCAACTACACGCTGGTGCAGCCGGTAGGCGTTTGTGCACTGGTGT\\n',\n",
       " 'CACCGTGGAACGTGCCGTTTATGACCGCCACCTGGAAGGTCGCGCCGTGTCTGGCGCTGGGCATTACCGC\\n',\n",
       " 'GGTGCTGAAGATGTCCGAACTCTCCCCGCTGACCGCTGACCGCCTGGGTGAGCTGGCGCTGGAAGCCGGT\\n',\n",
       " 'ATTCCGGCGGGCGTTCTGAACGTGGTACAGGGCTACGGCGCAACCGCAGGCGATGCGCTGGTCCGTCATC\\n',\n",
       " 'ATGACGTGCGTGCCGTGTCGTTCACCGGCGGTACGGCGACCGGGCGCAATATCATGAAAAACGCCGGGCT\\n',\n",
       " 'GAAAAAATACTCCATGGAACTGGGCGGTAAATCGCCGGTGCTGATTTTTGAAGATGCCGATATTGAGCGC\\n',\n",
       " 'GCGCTGGACGCCGCCCTGTTCACCATCTTCTCGATCAACGGCGAGCGCTGCACCGCCGGTTCGCGCATCT\\n',\n",
       " 'TTATTCAACAAAGCATCTACCCGGAATTCGTGAAATTTGCCGAACGCGCCAACCGTGTGCGCGTGGGCGA\\n',\n",
       " 'TCCGACCGATCCGAATACCCAGGTTGGGGCGCTTATCAGCCAGCAACACTGGGAAAAAGTCTCCGGCTAT\\n',\n",
       " 'ATCCGTCTGGGCATTGAAGAAGGCGCCACCCTGCTGGCGGGCGGCCCGGATAAACCGTCTGACCTGCCTG\\n',\n",
       " 'CACACCTGAAAGGCGGCAACTTCCTGCGCCCAACGGTGCTGGCGGACGTAGATAACCGTATGCGCGTTGC\\n',\n",
       " 'CCAGGAAGAGATTTTCGGGCCGGTCGCCTGCCTGCTGCCGTTTAAAGACGAAGCCGAAGCGTTACGCCTG\\n',\n",
       " 'GCAAACGACGTGGAGTATGGCCTCGCGTCGTACATCTGGACACAGGATGTCAGCAAAGTGCTGCGTCTGG\\n',\n",
       " 'CGCGCGGCATTGAAGCAGGCATGGTGTTCGTCAACACCCAGTTCGTGCGTGACCTGCGCCACGCATTTGG\\n',\n",
       " 'CGGCGTAAAACCTCGCACCGGGCGTGAAGGCGGTGGATACAGTTCGAAGTGTTCGCGGAAATGAAGAAGA\\n',\n",
       " 'ACGTCTGCATTCCATGGCGGACCATCCCA']"
      ]
     },
     "metadata": {},
     "execution_count": 33
    }
   ],
   "metadata": {}
  },
  {
   "cell_type": "code",
   "execution_count": 34,
   "source": [
    "# lendo linha pelo index[]\r\n",
    "f = open('arquivos/E.coli_gene.txt', 'r')\r\n",
    "f.readlines()[10]"
   ],
   "outputs": [
    {
     "output_type": "execute_result",
     "data": {
      "text/plain": [
       "'ATTCCGGCGGGCGTTCTGAACGTGGTACAGGGCTACGGCGCAACCGCAGGCGATGCGCTGGTCCGTCATC\\n'"
      ]
     },
     "metadata": {},
     "execution_count": 34
    }
   ],
   "metadata": {}
  },
  {
   "cell_type": "markdown",
   "source": [
    "# Usando a expressão `with` \r\n",
    "\r\n",
    "## O método close() é executado automaticamente"
   ],
   "metadata": {}
  },
  {
   "cell_type": "markdown",
   "source": [
    "### Com essa expressão o arquivo já é aberto e atribuido uma variável ao objeto e tbm é atribuído uma outra variável ao objeto de leitura."
   ],
   "metadata": {}
  },
  {
   "cell_type": "code",
   "execution_count": 35,
   "source": [
    "with open('arquivos/E.coli_gene.txt','r') as arquivo:\r\n",
    "    f = arquivo.read()"
   ],
   "outputs": [],
   "metadata": {}
  },
  {
   "cell_type": "code",
   "execution_count": 36,
   "source": [
    "len(f)"
   ],
   "outputs": [
    {
     "output_type": "execute_result",
     "data": {
      "text/plain": [
       "1547"
      ]
     },
     "metadata": {},
     "execution_count": 36
    }
   ],
   "metadata": {}
  },
  {
   "cell_type": "code",
   "execution_count": 37,
   "source": [
    "f.count('A')"
   ],
   "outputs": [
    {
     "output_type": "execute_result",
     "data": {
      "text/plain": [
       "334"
      ]
     },
     "metadata": {},
     "execution_count": 37
    }
   ],
   "metadata": {}
  },
  {
   "cell_type": "code",
   "execution_count": 38,
   "source": [
    "f.find('AAA')"
   ],
   "outputs": [
    {
     "output_type": "execute_result",
     "data": {
      "text/plain": [
       "74"
      ]
     },
     "metadata": {},
     "execution_count": 38
    }
   ],
   "metadata": {}
  },
  {
   "cell_type": "code",
   "execution_count": 39,
   "source": [
    "# Criando um objeto lista, com vários pedaços da sequencia.\r\n",
    "lista = f.splitlines()\r\n",
    "print(lista)"
   ],
   "outputs": [
    {
     "output_type": "stream",
     "name": "stdout",
     "text": [
      "['>X81322.1 E.coli hpcC gene', 'GAAGTAGAAGGCGTGGGCCGCCTGGTGAACCGAATTGTTGAGTGAGGAAACAGCGAAATGAAAAAAGTAA', 'ATCATTGGATCAACGGCAAAAATGTTGCAGGTAACGACTACTTCCTGACCACCAATCCGGCAACGGGTGA', 'AGTGCTGGCGGATGTGGCCTCTGGCGGTGAAGCGGAGATCAATCAGGCGGTAGCGACAGCGAAAGAGGCG', 'TTCCCGAAATGGGCCAATCTGCCGATGAAAGAGCGTGCGCGCCTGATGCGCCGTCTGGGCGATCTGATCG', 'ACCAGAACGTGCCAGAGATCGCCGCGATGGAAACCGCGGACACGGGCCTGCCGATCCATCAGACCAAAAA', 'TGTGTTGATCCCACGCGCTTCTCACAACTTTGAATTTTTCGCGGAAGTCTGCCAGCAGATGAACGGCAAG', 'ACTTATCCGGTCGACGACAAGATGCTCAACTACACGCTGGTGCAGCCGGTAGGCGTTTGTGCACTGGTGT', 'CACCGTGGAACGTGCCGTTTATGACCGCCACCTGGAAGGTCGCGCCGTGTCTGGCGCTGGGCATTACCGC', 'GGTGCTGAAGATGTCCGAACTCTCCCCGCTGACCGCTGACCGCCTGGGTGAGCTGGCGCTGGAAGCCGGT', 'ATTCCGGCGGGCGTTCTGAACGTGGTACAGGGCTACGGCGCAACCGCAGGCGATGCGCTGGTCCGTCATC', 'ATGACGTGCGTGCCGTGTCGTTCACCGGCGGTACGGCGACCGGGCGCAATATCATGAAAAACGCCGGGCT', 'GAAAAAATACTCCATGGAACTGGGCGGTAAATCGCCGGTGCTGATTTTTGAAGATGCCGATATTGAGCGC', 'GCGCTGGACGCCGCCCTGTTCACCATCTTCTCGATCAACGGCGAGCGCTGCACCGCCGGTTCGCGCATCT', 'TTATTCAACAAAGCATCTACCCGGAATTCGTGAAATTTGCCGAACGCGCCAACCGTGTGCGCGTGGGCGA', 'TCCGACCGATCCGAATACCCAGGTTGGGGCGCTTATCAGCCAGCAACACTGGGAAAAAGTCTCCGGCTAT', 'ATCCGTCTGGGCATTGAAGAAGGCGCCACCCTGCTGGCGGGCGGCCCGGATAAACCGTCTGACCTGCCTG', 'CACACCTGAAAGGCGGCAACTTCCTGCGCCCAACGGTGCTGGCGGACGTAGATAACCGTATGCGCGTTGC', 'CCAGGAAGAGATTTTCGGGCCGGTCGCCTGCCTGCTGCCGTTTAAAGACGAAGCCGAAGCGTTACGCCTG', 'GCAAACGACGTGGAGTATGGCCTCGCGTCGTACATCTGGACACAGGATGTCAGCAAAGTGCTGCGTCTGG', 'CGCGCGGCATTGAAGCAGGCATGGTGTTCGTCAACACCCAGTTCGTGCGTGACCTGCGCCACGCATTTGG', 'CGGCGTAAAACCTCGCACCGGGCGTGAAGGCGGTGGATACAGTTCGAAGTGTTCGCGGAAATGAAGAAGA', 'ACGTCTGCATTCCATGGCGGACCATCCCA']\n"
     ]
    }
   ],
   "metadata": {}
  },
  {
   "cell_type": "code",
   "execution_count": 40,
   "source": [
    "lista"
   ],
   "outputs": [
    {
     "output_type": "execute_result",
     "data": {
      "text/plain": [
       "['>X81322.1 E.coli hpcC gene',\n",
       " 'GAAGTAGAAGGCGTGGGCCGCCTGGTGAACCGAATTGTTGAGTGAGGAAACAGCGAAATGAAAAAAGTAA',\n",
       " 'ATCATTGGATCAACGGCAAAAATGTTGCAGGTAACGACTACTTCCTGACCACCAATCCGGCAACGGGTGA',\n",
       " 'AGTGCTGGCGGATGTGGCCTCTGGCGGTGAAGCGGAGATCAATCAGGCGGTAGCGACAGCGAAAGAGGCG',\n",
       " 'TTCCCGAAATGGGCCAATCTGCCGATGAAAGAGCGTGCGCGCCTGATGCGCCGTCTGGGCGATCTGATCG',\n",
       " 'ACCAGAACGTGCCAGAGATCGCCGCGATGGAAACCGCGGACACGGGCCTGCCGATCCATCAGACCAAAAA',\n",
       " 'TGTGTTGATCCCACGCGCTTCTCACAACTTTGAATTTTTCGCGGAAGTCTGCCAGCAGATGAACGGCAAG',\n",
       " 'ACTTATCCGGTCGACGACAAGATGCTCAACTACACGCTGGTGCAGCCGGTAGGCGTTTGTGCACTGGTGT',\n",
       " 'CACCGTGGAACGTGCCGTTTATGACCGCCACCTGGAAGGTCGCGCCGTGTCTGGCGCTGGGCATTACCGC',\n",
       " 'GGTGCTGAAGATGTCCGAACTCTCCCCGCTGACCGCTGACCGCCTGGGTGAGCTGGCGCTGGAAGCCGGT',\n",
       " 'ATTCCGGCGGGCGTTCTGAACGTGGTACAGGGCTACGGCGCAACCGCAGGCGATGCGCTGGTCCGTCATC',\n",
       " 'ATGACGTGCGTGCCGTGTCGTTCACCGGCGGTACGGCGACCGGGCGCAATATCATGAAAAACGCCGGGCT',\n",
       " 'GAAAAAATACTCCATGGAACTGGGCGGTAAATCGCCGGTGCTGATTTTTGAAGATGCCGATATTGAGCGC',\n",
       " 'GCGCTGGACGCCGCCCTGTTCACCATCTTCTCGATCAACGGCGAGCGCTGCACCGCCGGTTCGCGCATCT',\n",
       " 'TTATTCAACAAAGCATCTACCCGGAATTCGTGAAATTTGCCGAACGCGCCAACCGTGTGCGCGTGGGCGA',\n",
       " 'TCCGACCGATCCGAATACCCAGGTTGGGGCGCTTATCAGCCAGCAACACTGGGAAAAAGTCTCCGGCTAT',\n",
       " 'ATCCGTCTGGGCATTGAAGAAGGCGCCACCCTGCTGGCGGGCGGCCCGGATAAACCGTCTGACCTGCCTG',\n",
       " 'CACACCTGAAAGGCGGCAACTTCCTGCGCCCAACGGTGCTGGCGGACGTAGATAACCGTATGCGCGTTGC',\n",
       " 'CCAGGAAGAGATTTTCGGGCCGGTCGCCTGCCTGCTGCCGTTTAAAGACGAAGCCGAAGCGTTACGCCTG',\n",
       " 'GCAAACGACGTGGAGTATGGCCTCGCGTCGTACATCTGGACACAGGATGTCAGCAAAGTGCTGCGTCTGG',\n",
       " 'CGCGCGGCATTGAAGCAGGCATGGTGTTCGTCAACACCCAGTTCGTGCGTGACCTGCGCCACGCATTTGG',\n",
       " 'CGGCGTAAAACCTCGCACCGGGCGTGAAGGCGGTGGATACAGTTCGAAGTGTTCGCGGAAATGAAGAAGA',\n",
       " 'ACGTCTGCATTCCATGGCGGACCATCCCA']"
      ]
     },
     "metadata": {},
     "execution_count": 40
    }
   ],
   "metadata": {}
  },
  {
   "cell_type": "code",
   "execution_count": 41,
   "source": [
    "lista[5]"
   ],
   "outputs": [
    {
     "output_type": "execute_result",
     "data": {
      "text/plain": [
       "'ACCAGAACGTGCCAGAGATCGCCGCGATGGAAACCGCGGACACGGGCCTGCCGATCCATCAGACCAAAAA'"
      ]
     },
     "metadata": {},
     "execution_count": 41
    }
   ],
   "metadata": {}
  },
  {
   "cell_type": "code",
   "execution_count": 42,
   "source": [
    "with open('arquivos/E.coli_gene.txt','r') as arquivo:\r\n",
    "    rl = arquivo.readline()\r\n",
    "print(rl)\r\n"
   ],
   "outputs": [
    {
     "output_type": "stream",
     "name": "stdout",
     "text": [
      ">X81322.1 E.coli hpcC gene\n",
      "\n"
     ]
    }
   ],
   "metadata": {}
  },
  {
   "cell_type": "code",
   "execution_count": 43,
   "source": [
    "with open('arquivos/E.coli_gene.txt','r') as arquivo:\r\n",
    "    rls = arquivo.readlines()\r\n",
    "print(rls)"
   ],
   "outputs": [
    {
     "output_type": "stream",
     "name": "stdout",
     "text": [
      "['>X81322.1 E.coli hpcC gene\\n', 'GAAGTAGAAGGCGTGGGCCGCCTGGTGAACCGAATTGTTGAGTGAGGAAACAGCGAAATGAAAAAAGTAA\\n', 'ATCATTGGATCAACGGCAAAAATGTTGCAGGTAACGACTACTTCCTGACCACCAATCCGGCAACGGGTGA\\n', 'AGTGCTGGCGGATGTGGCCTCTGGCGGTGAAGCGGAGATCAATCAGGCGGTAGCGACAGCGAAAGAGGCG\\n', 'TTCCCGAAATGGGCCAATCTGCCGATGAAAGAGCGTGCGCGCCTGATGCGCCGTCTGGGCGATCTGATCG\\n', 'ACCAGAACGTGCCAGAGATCGCCGCGATGGAAACCGCGGACACGGGCCTGCCGATCCATCAGACCAAAAA\\n', 'TGTGTTGATCCCACGCGCTTCTCACAACTTTGAATTTTTCGCGGAAGTCTGCCAGCAGATGAACGGCAAG\\n', 'ACTTATCCGGTCGACGACAAGATGCTCAACTACACGCTGGTGCAGCCGGTAGGCGTTTGTGCACTGGTGT\\n', 'CACCGTGGAACGTGCCGTTTATGACCGCCACCTGGAAGGTCGCGCCGTGTCTGGCGCTGGGCATTACCGC\\n', 'GGTGCTGAAGATGTCCGAACTCTCCCCGCTGACCGCTGACCGCCTGGGTGAGCTGGCGCTGGAAGCCGGT\\n', 'ATTCCGGCGGGCGTTCTGAACGTGGTACAGGGCTACGGCGCAACCGCAGGCGATGCGCTGGTCCGTCATC\\n', 'ATGACGTGCGTGCCGTGTCGTTCACCGGCGGTACGGCGACCGGGCGCAATATCATGAAAAACGCCGGGCT\\n', 'GAAAAAATACTCCATGGAACTGGGCGGTAAATCGCCGGTGCTGATTTTTGAAGATGCCGATATTGAGCGC\\n', 'GCGCTGGACGCCGCCCTGTTCACCATCTTCTCGATCAACGGCGAGCGCTGCACCGCCGGTTCGCGCATCT\\n', 'TTATTCAACAAAGCATCTACCCGGAATTCGTGAAATTTGCCGAACGCGCCAACCGTGTGCGCGTGGGCGA\\n', 'TCCGACCGATCCGAATACCCAGGTTGGGGCGCTTATCAGCCAGCAACACTGGGAAAAAGTCTCCGGCTAT\\n', 'ATCCGTCTGGGCATTGAAGAAGGCGCCACCCTGCTGGCGGGCGGCCCGGATAAACCGTCTGACCTGCCTG\\n', 'CACACCTGAAAGGCGGCAACTTCCTGCGCCCAACGGTGCTGGCGGACGTAGATAACCGTATGCGCGTTGC\\n', 'CCAGGAAGAGATTTTCGGGCCGGTCGCCTGCCTGCTGCCGTTTAAAGACGAAGCCGAAGCGTTACGCCTG\\n', 'GCAAACGACGTGGAGTATGGCCTCGCGTCGTACATCTGGACACAGGATGTCAGCAAAGTGCTGCGTCTGG\\n', 'CGCGCGGCATTGAAGCAGGCATGGTGTTCGTCAACACCCAGTTCGTGCGTGACCTGCGCCACGCATTTGG\\n', 'CGGCGTAAAACCTCGCACCGGGCGTGAAGGCGGTGGATACAGTTCGAAGTGTTCGCGGAAATGAAGAAGA\\n', 'ACGTCTGCATTCCATGGCGGACCATCCCA']\n"
     ]
    }
   ],
   "metadata": {}
  }
 ],
 "metadata": {
  "orig_nbformat": 4,
  "language_info": {
   "name": "python",
   "version": "3.8.11",
   "mimetype": "text/x-python",
   "codemirror_mode": {
    "name": "ipython",
    "version": 3
   },
   "pygments_lexer": "ipython3",
   "nbconvert_exporter": "python",
   "file_extension": ".py"
  },
  "kernelspec": {
   "name": "python3",
   "display_name": "Python 3.8.11 64-bit ('env1': conda)"
  },
  "interpreter": {
   "hash": "256b550e27a01a486617a94bb46c9f5a9b96ae4c87f007bd03dec2cfb1a19284"
  }
 },
 "nbformat": 4,
 "nbformat_minor": 2
}