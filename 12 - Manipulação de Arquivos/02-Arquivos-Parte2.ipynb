{
 "cells": [
  {
   "cell_type": "markdown",
   "source": [
    "# <font color='blue'> Aprendendo Python</font>\r\n",
    "## <font color='green'>Manipulando Arquivos</font>\r\n",
    "### Autor: Luiz"
   ],
   "metadata": {}
  },
  {
   "cell_type": "code",
   "execution_count": 43,
   "source": [
    "# Versão da Linguagem Python\r\n",
    "from platform import python_version\r\n",
    "print('Versão da Linguagem Python Usada Neste Jupyter Notebook:', python_version())"
   ],
   "outputs": [
    {
     "output_type": "stream",
     "name": "stdout",
     "text": [
      "Versão da Linguagem Python Usada Neste Jupyter Notebook: 3.8.11\n"
     ]
    }
   ],
   "metadata": {}
  },
  {
   "cell_type": "markdown",
   "source": [
    "## ************ ATENÇÃO ************\r\n",
    "Caso você tenha problemas com acentos nos arquivos:\r\n",
    "\r\n",
    "Uma forma de resolver esse problema, é abrir o arquivo em um editor de texto como o Sublime Text, clicar em File - Save with Encoding e então salvar com encoding UTF-8.\r\n",
    "\r\n",
    "Outra opção é incluir o parâmetro encoding='utf8' ao abrir o arquivo para leitura ou escrita.\r\n"
   ],
   "metadata": {}
  },
  {
   "cell_type": "markdown",
   "source": [
    "## Manipulação de Arquivos"
   ],
   "metadata": {}
  },
  {
   "cell_type": "markdown",
   "source": [
    "- Arquivos TXT\n",
    "- Arquivos CSV \n",
    "- Arquivos JSON"
   ],
   "metadata": {}
  },
  {
   "cell_type": "markdown",
   "source": [
    "## Manipulando Arquivos TXT"
   ],
   "metadata": {
    "slideshow": {
     "slide_type": "slide"
    }
   }
  },
  {
   "cell_type": "code",
   "execution_count": 44,
   "source": [
    "texto = \"Cientista de Dados é a profissão que mais tem crescido em todo mundo.\\n\"\r\n",
    "texto = texto + \"Esses profissionais precisam se especializar em Programação, Estatística e Machine Learning.\\n\"\r\n",
    "texto += \"E claro, em Big Data.\""
   ],
   "outputs": [],
   "metadata": {}
  },
  {
   "cell_type": "code",
   "execution_count": 45,
   "source": [
    "print(texto)"
   ],
   "outputs": [
    {
     "output_type": "stream",
     "name": "stdout",
     "text": [
      "Cientista de Dados é a profissão que mais tem crescido em todo mundo.\n",
      "Esses profissionais precisam se especializar em Programação, Estatística e Machine Learning.\n",
      "E claro, em Big Data.\n"
     ]
    }
   ],
   "metadata": {}
  },
  {
   "cell_type": "code",
   "execution_count": 46,
   "source": [
    "# pacote OS (operat system) para acessar o sistema de arquivos\r\n",
    "# Importando o módulo os\r\n",
    "import os"
   ],
   "outputs": [],
   "metadata": {}
  },
  {
   "cell_type": "code",
   "execution_count": 47,
   "source": [
    "# Criando um arquivo\r\n",
    "# o o módulo os.path serve manipular estruturas de diretórios, ou seja mostrar o caminho até o diretório.\r\n",
    "# nesse caso um arquivo esta sendo aberto e criado amo mesmo tempo e o caminho para onde ele deve seguir já esta sendo dado.\r\n",
    "# obs: quando o arquivo é aberto para escrita, se não há um arquivo, então ele é criado.\r\n"
   ],
   "outputs": [],
   "metadata": {}
  },
  {
   "cell_type": "code",
   "execution_count": 48,
   "source": [
    "arquivo = open(os.path.join('arquivos/cientista.txt'), 'w')"
   ],
   "outputs": [],
   "metadata": {}
  },
  {
   "cell_type": "code",
   "execution_count": 49,
   "source": [
    "# Gravando os dados no arquivo\r\n",
    "#primeiro o texto esta sendo dividido nos espaços entre as palavras (.split())\r\n",
    "# em seguida para cada palavra separada, adicioná-la ao arquivo (arquivo.write(palavra+'')"
   ],
   "outputs": [],
   "metadata": {}
  },
  {
   "cell_type": "code",
   "execution_count": 50,
   "source": [
    "for palavra in texto.split():\r\n",
    "    arquivo.write(palavra+' ')"
   ],
   "outputs": [],
   "metadata": {}
  },
  {
   "cell_type": "code",
   "execution_count": 51,
   "source": [
    "# Fechando o arquivo\r\n",
    "arquivo.close()"
   ],
   "outputs": [],
   "metadata": {}
  },
  {
   "cell_type": "code",
   "execution_count": 52,
   "source": [
    "# Lendo o arquivo, poderia ser feito todo numa linha de comando, como abaixo:\r\n",
    "#  arquivo = open('arquivos/cientista.txt','r')\r\n",
    "#  conteudo = arquivo.read()\r\n",
    "#  arquivo.close()\r\n",
    "\r\n",
    "#  print(conteudo)"
   ],
   "outputs": [],
   "metadata": {}
  },
  {
   "cell_type": "code",
   "execution_count": 53,
   "source": [
    "# primeiro é atribuido uma variável ao arquivo aberto.\r\n",
    "arquivo = open('arquivos/cientista.txt', 'r')"
   ],
   "outputs": [],
   "metadata": {}
  },
  {
   "cell_type": "code",
   "execution_count": 54,
   "source": [
    "# e esse arquivo aberto, é atribuído a um objeto de leitura\r\n",
    "conteudo= arquivo.read()"
   ],
   "outputs": [],
   "metadata": {}
  },
  {
   "cell_type": "code",
   "execution_count": 55,
   "source": [
    "# print para mostrar o conteúdo.\r\n",
    "print(conteudo)"
   ],
   "outputs": [
    {
     "output_type": "stream",
     "name": "stdout",
     "text": [
      "Cientista de Dados é a profissão que mais tem crescido em todo mundo. Esses profissionais precisam se especializar em Programação, Estatística e Machine Learning. E claro, em Big Data. \n"
     ]
    }
   ],
   "metadata": {}
  },
  {
   "cell_type": "code",
   "execution_count": 56,
   "source": [
    "# e se fecha o arquivo\r\n",
    "arquivo.close()"
   ],
   "outputs": [],
   "metadata": {}
  },
  {
   "cell_type": "markdown",
   "source": [
    "## Usando a expressão `with` \r\n",
    "\r\n",
    "### O método close() é executado automaticamente"
   ],
   "metadata": {
    "slideshow": {
     "slide_type": "slide"
    }
   }
  },
  {
   "cell_type": "markdown",
   "source": [
    "### Com essa expressão o arquivo já é aberto e atribuido uma variável ao objeto e tbm é atribuído uma outra variável ao objeto de leitura.\r\n"
   ],
   "metadata": {}
  },
  {
   "cell_type": "code",
   "execution_count": 57,
   "source": [
    "with open('arquivos/cientista.txt','r') as arquivo:\r\n",
    "    conteudo = arquivo.read()"
   ],
   "outputs": [],
   "metadata": {}
  },
  {
   "cell_type": "code",
   "execution_count": 58,
   "source": [
    "print(len(conteudo))"
   ],
   "outputs": [
    {
     "output_type": "stream",
     "name": "stdout",
     "text": [
      "185\n"
     ]
    }
   ],
   "metadata": {}
  },
  {
   "cell_type": "code",
   "execution_count": 59,
   "source": [
    "print(conteudo)"
   ],
   "outputs": [
    {
     "output_type": "stream",
     "name": "stdout",
     "text": [
      "Cientista de Dados é a profissão que mais tem crescido em todo mundo. Esses profissionais precisam se especializar em Programação, Estatística e Machine Learning. E claro, em Big Data. \n"
     ]
    }
   ],
   "metadata": {}
  },
  {
   "cell_type": "code",
   "execution_count": 60,
   "source": [
    "# é possível ainda add apenas parte de um texto ao arquivo, por isso saber o comprimento do arquivo foi importante.\r\n",
    "# no expemplo abaixo irei adicionar no começo do texto e o final.\r\n",
    "# Abaixo vai ser add tudo ate o index 20, com uma quebra de linha entre os conteúdo e add tudo do index 40 para frente.\r\n",
    "with open('arquivos/cientista.txt', 'w') as arquivo:\r\n",
    "    arquivo.write(texto[:19])\r\n",
    "    arquivo.write('\\n')         \r\n",
    "    arquivo.write(texto[42:])   "
   ],
   "outputs": [],
   "metadata": {}
  },
  {
   "cell_type": "code",
   "execution_count": 61,
   "source": [
    "# agora temos que ler esse arquivo\r\n",
    "arquivo = open('arquivos/cientista.txt', 'r')\r\n",
    "conteudo = arquivo.read()\r\n",
    "arquivo.close()\r\n",
    "\r\n",
    "print(conteudo)"
   ],
   "outputs": [
    {
     "output_type": "stream",
     "name": "stdout",
     "text": [
      "Cientista de Dados \n",
      "tem crescido em todo mundo.\n",
      "Esses profissionais precisam se especializar em Programação, Estatística e Machine Learning.\n",
      "E claro, em Big Data.\n"
     ]
    }
   ],
   "metadata": {}
  },
  {
   "cell_type": "markdown",
   "source": [
    "### Manipulando Arquivos CSV (comma-separated values )"
   ],
   "metadata": {
    "slideshow": {
     "slide_type": "slide"
    }
   }
  },
  {
   "cell_type": "markdown",
   "source": [
    "O código a seguir, resolve o problemas de linhas em branco no arquivo (  encoding='utf8', newline = '\\r\\n' )"
   ],
   "metadata": {}
  },
  {
   "cell_type": "code",
   "execution_count": 62,
   "source": [
    "# Importando o módulo csv\r\n",
    "import csv"
   ],
   "outputs": [],
   "metadata": {}
  },
  {
   "cell_type": "code",
   "execution_count": 63,
   "source": [
    "# abrir o aquivo números do diretório como arquivo\r\n",
    "# add uma variável ao arquivo aberto\r\n",
    "# e em seguida com o método .writerrow vamos edd elementos ao arquivo.\r\n",
    "with open('arquivos/numeros.csv','w') as arquivo:\r\n",
    "    writer = csv.writer(arquivo)\r\n",
    "    writer.writerow(('primeira','segunda','terceira'))\r\n",
    "    writer.writerow((50,60,70))\r\n",
    "    writer.writerow((100,200,300))"
   ],
   "outputs": [],
   "metadata": {}
  },
  {
   "cell_type": "code",
   "execution_count": 64,
   "source": [
    "# leitura de arquivos csv\r\n",
    "with open ('arquivos/numeros.csv', 'r', encoding='utf8', newline = '\\r\\n') as arquivo:\r\n",
    "    leitor = csv.reader(arquivo)\r\n",
    "    for x in leitor:\r\n",
    "        print('Número de colunas:', len(x))\r\n",
    "        print(x)"
   ],
   "outputs": [
    {
     "output_type": "stream",
     "name": "stdout",
     "text": [
      "Número de colunas: 3\n",
      "['primeira', 'segunda', 'terceira']\n",
      "Número de colunas: 3\n",
      "['50', '60', '70']\n",
      "Número de colunas: 3\n",
      "['100', '200', '300']\n"
     ]
    }
   ],
   "metadata": {}
  },
  {
   "cell_type": "code",
   "execution_count": 65,
   "source": [
    "# Código alternativo para eventuais problemas com linhas em branco no arquivo\r\n",
    "with open('arquivos/numeros.csv','r', encoding='utf8', newline = '\\r\\n') as arquivo:\r\n",
    "    leitor = csv.reader(arquivo)\r\n",
    "    for x in leitor:\r\n",
    "        print ('Número de colunas:', len(x))\r\n",
    "        print(x)"
   ],
   "outputs": [
    {
     "output_type": "stream",
     "name": "stdout",
     "text": [
      "Número de colunas: 3\n",
      "['primeira', 'segunda', 'terceira']\n",
      "Número de colunas: 3\n",
      "['50', '60', '70']\n",
      "Número de colunas: 3\n",
      "['100', '200', '300']\n"
     ]
    }
   ],
   "metadata": {}
  },
  {
   "cell_type": "code",
   "execution_count": 66,
   "source": [
    "# Gerando uma lista com dados do arquivo csv\r\n",
    "with open('arquivos/numeros.csv','r', encoding='utf8', newline = '\\r\\n') as arquivo:\r\n",
    "    leitor = csv.reader(arquivo)\r\n",
    "    dados = list(leitor)\r\n",
    "    \r\n",
    "    \r\n",
    "print (dados)"
   ],
   "outputs": [
    {
     "output_type": "stream",
     "name": "stdout",
     "text": [
      "[['primeira', 'segunda', 'terceira'], ['50', '60', '70'], ['100', '200', '300']]\n"
     ]
    }
   ],
   "metadata": {}
  },
  {
   "cell_type": "code",
   "execution_count": 67,
   "source": [
    "# Imprimindo a partir da segunda linha\r\n",
    "for linha in dados[1:]:\r\n",
    "    print (linha)"
   ],
   "outputs": [
    {
     "output_type": "stream",
     "name": "stdout",
     "text": [
      "['50', '60', '70']\n",
      "['100', '200', '300']\n"
     ]
    }
   ],
   "metadata": {}
  },
  {
   "cell_type": "markdown",
   "source": [
    "### Manipulando Arquivos JSON (Java Script Object Notation )\n",
    "JSON (JavaScript Object Notation) é uma maneira de armazenar informações de forma organizada e de fácil acesso. Em poucas palavras, ele nos dá uma coleção legível de dados que podem ser acessados de forma muito lógica. Pode ser uma fonte de Big Data."
   ],
   "metadata": {
    "slideshow": {
     "slide_type": "slide"
    }
   }
  },
  {
   "cell_type": "code",
   "execution_count": 68,
   "source": [
    "# O arquivo JSON é convertido em decoded como dicionário para ser trabalhado em python.\r\n",
    "# Criando um dicionário\r\n",
    "dict = {'nome': 'Luiz Carlos',\r\n",
    "        'Disciplina': 'Fundamentos em Python',\r\n",
    "        'aula': ['TXT','CSV','JSON'],\r\n",
    "        'users': 1000000}"
   ],
   "outputs": [],
   "metadata": {}
  },
  {
   "cell_type": "code",
   "execution_count": 69,
   "source": [
    "# imprimindo as chaves e valoes de dict:\r\n",
    "for k,v in dict.items():\r\n",
    "    print (k,v)"
   ],
   "outputs": [
    {
     "output_type": "stream",
     "name": "stdout",
     "text": [
      "nome Luiz Carlos\n",
      "Disciplina Fundamentos em Python\n",
      "aula ['TXT', 'CSV', 'JSON']\n",
      "users 1000000\n"
     ]
    }
   ],
   "metadata": {}
  },
  {
   "cell_type": "code",
   "execution_count": 70,
   "source": [
    "for k in dict.keys():\r\n",
    "    print (k)"
   ],
   "outputs": [
    {
     "output_type": "stream",
     "name": "stdout",
     "text": [
      "nome\n",
      "Disciplina\n",
      "aula\n",
      "users\n"
     ]
    }
   ],
   "metadata": {}
  },
  {
   "cell_type": "code",
   "execution_count": 71,
   "source": [
    "# Importando o módulo Json\r\n",
    "import json"
   ],
   "outputs": [],
   "metadata": {}
  },
  {
   "cell_type": "code",
   "execution_count": 72,
   "source": [
    "# Convertendo o dicionário para um objeto json\r\n",
    "\r\n",
    "json.dumps(dict)"
   ],
   "outputs": [
    {
     "output_type": "execute_result",
     "data": {
      "text/plain": [
       "'{\"nome\": \"Luiz Carlos\", \"Disciplina\": \"Fundamentos em Python\", \"aula\": [\"TXT\", \"CSV\", \"JSON\"], \"users\": 1000000}'"
      ]
     },
     "metadata": {},
     "execution_count": 72
    }
   ],
   "metadata": {}
  },
  {
   "cell_type": "code",
   "execution_count": 73,
   "source": [
    "# Criando/abrindo um arquivo JSON, e já transformando o dict em arquivo JSON \r\n",
    "with open('arquivos/dados.json', 'w') as arquivo:\r\n",
    "    arquivo.write(json.dumps(dict))"
   ],
   "outputs": [],
   "metadata": {}
  },
  {
   "cell_type": "code",
   "execution_count": 74,
   "source": [
    "# Leitura do arquivo JSON, atribuindo o objeto leitura a =texto.\r\n",
    "# o json.loads() é uma função de desserialização, que converte o arquivo JSON para um arquivo TXT que pode ser lido.\r\n",
    "with open('arquivos/dados.json', 'r') as arquivo:\r\n",
    "    texto=arquivo.read()\r\n",
    "    data=json.loads(texto)"
   ],
   "outputs": [],
   "metadata": {}
  },
  {
   "cell_type": "code",
   "execution_count": 75,
   "source": [
    "print(data)"
   ],
   "outputs": [
    {
     "output_type": "stream",
     "name": "stdout",
     "text": [
      "{'nome': 'Luiz Carlos', 'Disciplina': 'Fundamentos em Python', 'aula': ['TXT', 'CSV', 'JSON'], 'users': 1000000}\n"
     ]
    }
   ],
   "metadata": {}
  },
  {
   "cell_type": "code",
   "execution_count": 76,
   "source": [
    "print(data['nome'])"
   ],
   "outputs": [
    {
     "output_type": "stream",
     "name": "stdout",
     "text": [
      "Luiz Carlos\n"
     ]
    }
   ],
   "metadata": {}
  },
  {
   "cell_type": "code",
   "execution_count": 77,
   "source": [
    "print(data['aula'])"
   ],
   "outputs": [
    {
     "output_type": "stream",
     "name": "stdout",
     "text": [
      "['TXT', 'CSV', 'JSON']\n"
     ]
    }
   ],
   "metadata": {}
  },
  {
   "cell_type": "code",
   "execution_count": 78,
   "source": [
    "# Imprimindo um arquivo Json copiado da internet\r\n",
    "# para isso se usa a função urlopen do pacote urllib.request\r\n",
    "from urllib.request import urlopen\r\n",
    "\r\n",
    "response = urlopen(\"http://vimeo.com/api/v2/video/57733101.json\").read().decode('utf8')\r\n",
    "data = json.loads(response)[0]"
   ],
   "outputs": [],
   "metadata": {}
  },
  {
   "cell_type": "code",
   "execution_count": 79,
   "source": [
    "print ('Título: ', data['title'])\r\n",
    "print ('URL: ', data['url'])\r\n",
    "print ('Duração: ', data['duration'])\r\n",
    "print ('Número de Visualizações: ', data['stats_number_of_plays'])"
   ],
   "outputs": [
    {
     "output_type": "stream",
     "name": "stdout",
     "text": [
      "Título:  The Good Man trailer\n",
      "URL:  https://vimeo.com/57733101\n",
      "Duração:  143\n",
      "Número de Visualizações:  6226\n"
     ]
    }
   ],
   "metadata": {}
  },
  {
   "cell_type": "code",
   "execution_count": 80,
   "source": [
    "# Copiando o conteúdo de um arquivo para outro\r\n",
    "import os\r\n",
    "\r\n",
    "arquivo_fonte = 'arquivos/dados.json'\r\n",
    "arquivo_destino = 'arquivos/json_data.txt'"
   ],
   "outputs": [],
   "metadata": {}
  },
  {
   "cell_type": "code",
   "execution_count": 81,
   "source": [
    "# método 1 para copiar um arquivo e add em outro\r\n",
    "with open(arquivo_fonte, 'r') as infile:\r\n",
    "    text = infile.read()\r\n",
    "    with open(arquivo_destino, 'w') as outfile:\r\n",
    "        outfile.write(text)"
   ],
   "outputs": [],
   "metadata": {}
  },
  {
   "cell_type": "code",
   "execution_count": 82,
   "source": [
    "# Método 2\r\n",
    "open(arquivo_destino,'w').write(open(arquivo_fonte,'r').read()) "
   ],
   "outputs": [
    {
     "output_type": "execute_result",
     "data": {
      "text/plain": [
       "112"
      ]
     },
     "metadata": {},
     "execution_count": 82
    }
   ],
   "metadata": {}
  },
  {
   "cell_type": "code",
   "execution_count": 83,
   "source": [
    "# Leitura de arquivos Json\r\n",
    "with open('arquivos/json_data.txt','r') as arquivo:\r\n",
    "    texto = arquivo.read()\r\n",
    "    data = json.loads(texto)"
   ],
   "outputs": [],
   "metadata": {}
  },
  {
   "cell_type": "code",
   "execution_count": 84,
   "source": [
    "print(data)"
   ],
   "outputs": [
    {
     "output_type": "stream",
     "name": "stdout",
     "text": [
      "{'nome': 'Luiz Carlos', 'Disciplina': 'Fundamentos em Python', 'aula': ['TXT', 'CSV', 'JSON'], 'users': 1000000}\n"
     ]
    }
   ],
   "metadata": {}
  },
  {
   "cell_type": "markdown",
   "source": [
    "# FIM"
   ],
   "metadata": {
    "slideshow": {
     "slide_type": "slide"
    }
   }
  }
 ],
 "metadata": {
  "css": [
   ""
  ],
  "kernelspec": {
   "name": "python3",
   "display_name": "Python 3.8.11 64-bit ('env1': conda)"
  },
  "language_info": {
   "codemirror_mode": {
    "name": "ipython",
    "version": 3
   },
   "file_extension": ".py",
   "mimetype": "text/x-python",
   "name": "python",
   "nbconvert_exporter": "python",
   "pygments_lexer": "ipython3",
   "version": "3.8.11"
  },
  "interpreter": {
   "hash": "256b550e27a01a486617a94bb46c9f5a9b96ae4c87f007bd03dec2cfb1a19284"
  }
 },
 "nbformat": 4,
 "nbformat_minor": 1
}