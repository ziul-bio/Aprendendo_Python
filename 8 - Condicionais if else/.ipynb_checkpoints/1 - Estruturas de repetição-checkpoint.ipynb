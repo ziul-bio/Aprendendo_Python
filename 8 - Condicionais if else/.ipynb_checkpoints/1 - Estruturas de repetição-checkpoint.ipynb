{
 "cells": [
  {
   "cell_type": "markdown",
   "metadata": {},
   "source": [
    "# Estruturas de repetição"
   ]
  },
  {
   "cell_type": "markdown",
   "metadata": {},
   "source": [
    "# \"while\" Loops (Indefinite Iteration)\n",
    "São executados indefinitivamente até que uma condição seja atendida."
   ]
  },
  {
   "cell_type": "code",
   "execution_count": 5,
   "metadata": {},
   "outputs": [
    {
     "name": "stdout",
     "output_type": "stream",
     "text": [
      "4\n",
      "3\n",
      "2\n",
      "1\n",
      "0\n"
     ]
    }
   ],
   "source": [
    "n = 5\n",
    "while n > 0:\n",
    "    n = n - 1\n",
    "    print(n)"
   ]
  },
  {
   "cell_type": "code",
   "execution_count": 6,
   "metadata": {},
   "outputs": [
    {
     "name": "stdout",
     "output_type": "stream",
     "text": [
      "G\n",
      "C\n",
      "T\n",
      "A\n"
     ]
    }
   ],
   "source": [
    "nuc = ['A', 'T', 'C', 'G']\n",
    "while nuc:\n",
    "    print(nuc.pop(-1))"
   ]
  },
  {
   "cell_type": "code",
   "execution_count": 7,
   "metadata": {},
   "outputs": [
    {
     "name": "stdout",
     "output_type": "stream",
     "text": [
      "[]\n"
     ]
    }
   ],
   "source": [
    "# A iteração ocorre enquanto o nuc é verdadeiro, assim que ele se torna falso ou vazio, o loop encerra.\n",
    "print(nuc)"
   ]
  },
  {
   "cell_type": "code",
   "execution_count": 8,
   "metadata": {},
   "outputs": [],
   "source": [
    "# String para testes.\n",
    "seq = 'GATTAATTCGCTTXCCGCGC'"
   ]
  },
  {
   "cell_type": "code",
   "execution_count": 9,
   "metadata": {},
   "outputs": [
    {
     "name": "stdout",
     "output_type": "stream",
     "text": [
      "Nucleotídeo encontrado\n",
      "CGC\n"
     ]
    }
   ],
   "source": [
    "n = 'CGC'\n",
    "while n in seq:\n",
    "    print('Nucleotídeo encontrado')\n",
    "    print(n)\n",
    "    break   \n",
    "else:\n",
    "    print('Nucleotídeo não encontrado')\n",
    "    "
   ]
  },
  {
   "cell_type": "code",
   "execution_count": 10,
   "metadata": {},
   "outputs": [
    {
     "name": "stdout",
     "output_type": "stream",
     "text": [
      "g\n",
      "a\n",
      "t\n",
      "t\n",
      "a\n",
      "a\n",
      "t\n",
      "t\n",
      "c\n",
      "g\n",
      "c\n",
      "t\n",
      "t\n",
      "x\n",
      "c\n",
      "c\n",
      "g\n",
      "c\n",
      "g\n",
      "c\n"
     ]
    }
   ],
   "source": [
    "index = 0\n",
    "while index < len(seq):\n",
    "    print(seq[index].lower())\n",
    "    index = index + 1"
   ]
  },
  {
   "cell_type": "markdown",
   "metadata": {},
   "source": [
    "# \"for\" Loops (Definite Iteration)"
   ]
  },
  {
   "cell_type": "code",
   "execution_count": 11,
   "metadata": {},
   "outputs": [
    {
     "name": "stdout",
     "output_type": "stream",
     "text": [
      "G\n",
      "A\n",
      "T\n",
      "T\n",
      "A\n",
      "A\n",
      "T\n",
      "T\n",
      "C\n",
      "G\n",
      "C\n",
      "T\n",
      "T\n",
      "X\n"
     ]
    }
   ],
   "source": [
    "# Imprimindo antes de verificar, imprimi a verificação:\n",
    "for n in seq:\n",
    "    print(n)\n",
    "    if n == 'X':\n",
    "        break"
   ]
  },
  {
   "cell_type": "code",
   "execution_count": 12,
   "metadata": {},
   "outputs": [
    {
     "name": "stdout",
     "output_type": "stream",
     "text": [
      "G\n",
      "A\n",
      "T\n",
      "T\n",
      "A\n",
      "A\n",
      "T\n",
      "T\n",
      "C\n",
      "G\n",
      "C\n",
      "T\n",
      "T\n"
     ]
    }
   ],
   "source": [
    "# verificando antes de inprimir, exclui a verificação.\n",
    "for n in seq:\n",
    "    if n == 'X':\n",
    "        break\n",
    "    print(n)"
   ]
  },
  {
   "cell_type": "markdown",
   "metadata": {},
   "source": [
    "# A palavra é um palíndromo?"
   ]
  },
  {
   "cell_type": "code",
   "execution_count": 13,
   "metadata": {},
   "outputs": [
    {
     "name": "stdout",
     "output_type": "stream",
     "text": [
      "A palavra é um palíndromo\n",
      "A palavra não é um palíndromo\n",
      "A palavra é um palíndromo\n"
     ]
    }
   ],
   "source": [
    "# A palavra é um palíndromo?\n",
    "lista = ['ARARA', 'HELLO', 'AMA']\n",
    "for palavra in lista:\n",
    "    if palavra == palavra[::-1]:\n",
    "        print('A palavra é um palíndromo') \n",
    "    else:\n",
    "        print('A palavra não é um palíndromo')\n"
   ]
  },
  {
   "cell_type": "code",
   "execution_count": 14,
   "metadata": {},
   "outputs": [
    {
     "name": "stdout",
     "output_type": "stream",
     "text": [
      "O inverso da string é igual a palavra, sendo esta um palíndromo\n",
      "O inverso da string é igual a palavra, NÂO sendo esta um palíndromo\n",
      "O inverso da string é igual a palavra, sendo esta um palíndromo\n"
     ]
    }
   ],
   "source": [
    "# A palavra é um palíndromo?\n",
    "for palavra in lista:\n",
    "    rev = ''\n",
    "    for i in range(0, len(palavra)):\n",
    "        rev = palavra[i] + rev        # Aqui está sendo feita uma concatenação pq string não aceita append()\n",
    "    if rev == palavra:\n",
    "        print('O inverso da string é igual a palavra, sendo esta um palíndromo')\n",
    "    else:\n",
    "        print('O inverso da string é igual a palavra, NÂO sendo esta um palíndromo')"
   ]
  },
  {
   "cell_type": "code",
   "execution_count": 15,
   "metadata": {},
   "outputs": [
    {
     "name": "stdout",
     "output_type": "stream",
     "text": [
      "O inverso da string é igual a palavra, NÂO sendo esta um palíndromo\n"
     ]
    }
   ],
   "source": [
    "# A palavra é um palíndromo?\n",
    "st = 'ARARAA'\n",
    "rev = ''\n",
    "for i in range(0, len(st)):\n",
    "    rev = st[i] + rev\n",
    "if rev == st:\n",
    "    print('O inverso da string é igual a palavra, sendo esta um palíndromo')\n",
    "else:\n",
    "    print('O inverso da string é igual a palavra, NÂO sendo esta um palíndromo')"
   ]
  },
  {
   "cell_type": "code",
   "execution_count": null,
   "metadata": {},
   "outputs": [],
   "source": []
  }
 ],
 "metadata": {
  "interpreter": {
   "hash": "2f608992be8c0fbf3f95dc021636af8a8f823125a2cacc4ff6a7e1995838e604"
  },
  "kernelspec": {
   "display_name": "Python 3",
   "language": "python",
   "name": "python3"
  },
  "language_info": {
   "codemirror_mode": {
    "name": "ipython",
    "version": 3
   },
   "file_extension": ".py",
   "mimetype": "text/x-python",
   "name": "python",
   "nbconvert_exporter": "python",
   "pygments_lexer": "ipython3",
   "version": "3.8.8"
  }
 },
 "nbformat": 4,
 "nbformat_minor": 2
}
