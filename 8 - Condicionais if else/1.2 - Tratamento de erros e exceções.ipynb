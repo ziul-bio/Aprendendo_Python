{
 "cells": [
  {
   "cell_type": "markdown",
   "source": [
    "# <font color='blue'> Aprendendo Python</font>\r\n",
    "## <font color='green'>Condicionais if, else, elif</font>\r\n",
    "### Autor: Luiz"
   ],
   "metadata": {}
  },
  {
   "cell_type": "code",
   "execution_count": 1,
   "source": [
    "# Versão da Linguagem Python\r\n",
    "from platform import python_version\r\n",
    "print('Versão da Linguagem Python Usada Neste Jupyter Notebook:', python_version())"
   ],
   "outputs": [
    {
     "output_type": "stream",
     "name": "stdout",
     "text": [
      "Versão da Linguagem Python Usada Neste Jupyter Notebook: 3.8.11\n"
     ]
    }
   ],
   "metadata": {}
  },
  {
   "cell_type": "markdown",
   "source": [
    "## Erros e Exceções"
   ],
   "metadata": {}
  },
  {
   "cell_type": "code",
   "execution_count": 2,
   "source": [
    "# Erro\r\n",
    "print('Olá)"
   ],
   "outputs": [
    {
     "output_type": "error",
     "ename": "SyntaxError",
     "evalue": "EOL while scanning string literal (<ipython-input-2-b08a5eccace3>, line 2)",
     "traceback": [
      "\u001b[1;36m  File \u001b[1;32m\"<ipython-input-2-b08a5eccace3>\"\u001b[1;36m, line \u001b[1;32m2\u001b[0m\n\u001b[1;33m    print('Olá)\u001b[0m\n\u001b[1;37m               ^\u001b[0m\n\u001b[1;31mSyntaxError\u001b[0m\u001b[1;31m:\u001b[0m EOL while scanning string literal\n"
     ]
    }
   ],
   "metadata": {
    "scrolled": true
   }
  },
  {
   "cell_type": "code",
   "execution_count": 3,
   "source": [
    "# Criando uma função\r\n",
    "def numDiv (num1, num2):\r\n",
    "    resultado = num1 / num2\r\n",
    "    print(resultado)"
   ],
   "outputs": [],
   "metadata": {}
  },
  {
   "cell_type": "code",
   "execution_count": 4,
   "source": [
    "# Execução não gera erro\r\n",
    "numDiv(4,2)"
   ],
   "outputs": [
    {
     "output_type": "stream",
     "name": "stdout",
     "text": [
      "2.0\n"
     ]
    }
   ],
   "metadata": {}
  },
  {
   "cell_type": "code",
   "execution_count": 5,
   "source": [
    "# Execução gerando erro (exceção), pois o código está corrento, porém o python não consegue executá-lo.\r\n",
    "numDiv(4,0)"
   ],
   "outputs": [
    {
     "output_type": "error",
     "ename": "ZeroDivisionError",
     "evalue": "division by zero",
     "traceback": [
      "\u001b[1;31m---------------------------------------------------------------------------\u001b[0m",
      "\u001b[1;31mZeroDivisionError\u001b[0m                         Traceback (most recent call last)",
      "\u001b[1;32m<ipython-input-5-808dd7006d57>\u001b[0m in \u001b[0;36m<module>\u001b[1;34m\u001b[0m\n\u001b[0;32m      1\u001b[0m \u001b[1;31m# Execução gerando erro (exceção), pois o código está corrento, porém o python não consegue executá-lo.\u001b[0m\u001b[1;33m\u001b[0m\u001b[1;33m\u001b[0m\u001b[1;33m\u001b[0m\u001b[0m\n\u001b[1;32m----> 2\u001b[1;33m \u001b[0mnumDiv\u001b[0m\u001b[1;33m(\u001b[0m\u001b[1;36m4\u001b[0m\u001b[1;33m,\u001b[0m\u001b[1;36m0\u001b[0m\u001b[1;33m)\u001b[0m\u001b[1;33m\u001b[0m\u001b[1;33m\u001b[0m\u001b[0m\n\u001b[0m",
      "\u001b[1;32m<ipython-input-3-d48befdad6cb>\u001b[0m in \u001b[0;36mnumDiv\u001b[1;34m(num1, num2)\u001b[0m\n\u001b[0;32m      1\u001b[0m \u001b[1;31m# Criando uma função\u001b[0m\u001b[1;33m\u001b[0m\u001b[1;33m\u001b[0m\u001b[1;33m\u001b[0m\u001b[0m\n\u001b[0;32m      2\u001b[0m \u001b[1;32mdef\u001b[0m \u001b[0mnumDiv\u001b[0m \u001b[1;33m(\u001b[0m\u001b[0mnum1\u001b[0m\u001b[1;33m,\u001b[0m \u001b[0mnum2\u001b[0m\u001b[1;33m)\u001b[0m\u001b[1;33m:\u001b[0m\u001b[1;33m\u001b[0m\u001b[1;33m\u001b[0m\u001b[0m\n\u001b[1;32m----> 3\u001b[1;33m     \u001b[0mresultado\u001b[0m \u001b[1;33m=\u001b[0m \u001b[0mnum1\u001b[0m \u001b[1;33m/\u001b[0m \u001b[0mnum2\u001b[0m\u001b[1;33m\u001b[0m\u001b[1;33m\u001b[0m\u001b[0m\n\u001b[0m\u001b[0;32m      4\u001b[0m     \u001b[0mprint\u001b[0m\u001b[1;33m(\u001b[0m\u001b[0mresultado\u001b[0m\u001b[1;33m)\u001b[0m\u001b[1;33m\u001b[0m\u001b[1;33m\u001b[0m\u001b[0m\n",
      "\u001b[1;31mZeroDivisionError\u001b[0m: division by zero"
     ]
    }
   ],
   "metadata": {}
  },
  {
   "cell_type": "markdown",
   "source": [
    "## Try, Except, Finally"
   ],
   "metadata": {}
  },
  {
   "cell_type": "code",
   "execution_count": 6,
   "source": [
    "8 + 's'"
   ],
   "outputs": [
    {
     "output_type": "error",
     "ename": "TypeError",
     "evalue": "unsupported operand type(s) for +: 'int' and 'str'",
     "traceback": [
      "\u001b[1;31m---------------------------------------------------------------------------\u001b[0m",
      "\u001b[1;31mTypeError\u001b[0m                                 Traceback (most recent call last)",
      "\u001b[1;32m<ipython-input-6-963470595b1e>\u001b[0m in \u001b[0;36m<module>\u001b[1;34m\u001b[0m\n\u001b[1;32m----> 1\u001b[1;33m \u001b[1;36m8\u001b[0m \u001b[1;33m+\u001b[0m \u001b[1;34m's'\u001b[0m\u001b[1;33m\u001b[0m\u001b[1;33m\u001b[0m\u001b[0m\n\u001b[0m",
      "\u001b[1;31mTypeError\u001b[0m: unsupported operand type(s) for +: 'int' and 'str'"
     ]
    }
   ],
   "metadata": {}
  },
  {
   "cell_type": "code",
   "execution_count": 7,
   "source": [
    "# Utilizando try e except\r\n",
    "try:\r\n",
    "    8 + 's'\r\n",
    "except TypeError:\r\n",
    "    print(\"Operação não permitida\")"
   ],
   "outputs": [
    {
     "output_type": "stream",
     "name": "stdout",
     "text": [
      "Operação não permitida\n"
     ]
    }
   ],
   "metadata": {}
  },
  {
   "cell_type": "code",
   "execution_count": 8,
   "source": [
    "# TypeError um erro das listas de execeções.\r\n",
    "try:\r\n",
    "    'A' - 5\r\n",
    "except TypeError:\r\n",
    "    print('Operação não permitida')"
   ],
   "outputs": [
    {
     "output_type": "stream",
     "name": "stdout",
     "text": [
      "Operação não permitida\n"
     ]
    }
   ],
   "metadata": {}
  },
  {
   "cell_type": "code",
   "execution_count": 9,
   "source": [
    "# Utilizando try, except e else \r\n",
    "#IOE é Input Output Error\r\n",
    "try:\r\n",
    "    f = open('arquivos/testandoerros.txt','w')\r\n",
    "    f.write('Gravando no arquivo')\r\n",
    "except IOError:\r\n",
    "   print (\"Erro: arquivo não encontrado ou não pode ser salvo.\")\r\n",
    "else:\r\n",
    "   print (\"Conteúdo gravado com sucesso!\")\r\n",
    "   f.close()"
   ],
   "outputs": [
    {
     "output_type": "stream",
     "name": "stdout",
     "text": [
      "Erro: arquivo não encontrado ou não pode ser salvo.\n"
     ]
    }
   ],
   "metadata": {}
  },
  {
   "cell_type": "code",
   "execution_count": 10,
   "source": [
    "# Utilizando try, except e else\r\n",
    "# o nome do arquixo está sem a extensão TXT, o que ocasiona erro de input\r\n",
    "try:\r\n",
    "    f = open('arquivos/testandoerros','r')\r\n",
    "except IOError:\r\n",
    "   print (\"Erro: arquivo não encontrado ou não pode ser lido.\")\r\n",
    "else:\r\n",
    "   print (\"Conteúdo gravado com sucesso!\")\r\n",
    "   f.close()"
   ],
   "outputs": [
    {
     "output_type": "stream",
     "name": "stdout",
     "text": [
      "Erro: arquivo não encontrado ou não pode ser lido.\n"
     ]
    }
   ],
   "metadata": {}
  },
  {
   "cell_type": "code",
   "execution_count": 11,
   "source": [
    "try:\r\n",
    "    f = open('arquivo/testandoerros.txt','w')\r\n",
    "    f.write('Gravando no arquivo')\r\n",
    "except IOError:\r\n",
    "   print (\"Erro: arquivo não encontrado ou não pode ser salvo.\")\r\n",
    "else:\r\n",
    "   print (\"Conteúdo gravado com sucesso!\")\r\n",
    "   f.close()\r\n",
    "finally:\r\n",
    "   print (\"Comandos no bloco finally são sempre executados!\")\r\n",
    "\r\n",
    "# O comando finally é executado, mesmo que as operações anteriores estiverem com erros. Acima eu alterei o diretório."
   ],
   "outputs": [
    {
     "output_type": "stream",
     "name": "stdout",
     "text": [
      "Erro: arquivo não encontrado ou não pode ser salvo.\n",
      "Comandos no bloco finally são sempre executados!\n"
     ]
    }
   ],
   "metadata": {}
  },
  {
   "cell_type": "code",
   "execution_count": 12,
   "source": [
    "# se o número não é digitado e se aperte enter, ocorrerá o erro.\r\n",
    "def askint():\r\n",
    "        try:\r\n",
    "            val = int((input(\"Digite um número: \")))\r\n",
    "        except UnboundLocalError:\r\n",
    "            print (\"Você não digitou um número!\")\r\n",
    "        finally:\r\n",
    "            print (\"Obrigado!\")\r\n",
    "        print (val) "
   ],
   "outputs": [],
   "metadata": {}
  },
  {
   "cell_type": "code",
   "execution_count": 13,
   "source": [
    "askint()"
   ],
   "outputs": [
    {
     "output_type": "stream",
     "name": "stdout",
     "text": [
      "Obrigado!\n",
      "2\n"
     ]
    }
   ],
   "metadata": {}
  },
  {
   "cell_type": "code",
   "execution_count": 14,
   "source": [
    "def askint():\r\n",
    "        try:\r\n",
    "            val = int(input(\"Digite um número: \"))\r\n",
    "        except:\r\n",
    "            print (\"Você não digitou um número!\")\r\n",
    "            val = int(input(\"Tente novamente. Digite um número: \"))\r\n",
    "        finally:\r\n",
    "            print (\"Obrigado!\")\r\n",
    "        print (val) "
   ],
   "outputs": [],
   "metadata": {}
  },
  {
   "cell_type": "code",
   "execution_count": 15,
   "source": [
    "# neste caso, o nº não foi digitado eo enter apertado, ele passa para a próxima tentativa, \r\n",
    "#se o nº não for digitado novamente a msg de erro aparecerá.\r\n",
    "askint()"
   ],
   "outputs": [
    {
     "output_type": "stream",
     "name": "stdout",
     "text": [
      "Obrigado!\n",
      "2\n"
     ]
    }
   ],
   "metadata": {}
  },
  {
   "cell_type": "code",
   "execution_count": 16,
   "source": [
    "def askint():\r\n",
    "    while True:\r\n",
    "        try:\r\n",
    "            val = int(input(\"Digite um número: \"))\r\n",
    "        except:\r\n",
    "            print (\"Você não digitou um número!\")\r\n",
    "            continue\r\n",
    "        else:\r\n",
    "            print (\"Obrigado por digitar um número!\")\r\n",
    "            break\r\n",
    "        finally:\r\n",
    "            print(\"Fim da execução!\")\r\n",
    "        print (val) "
   ],
   "outputs": [],
   "metadata": {}
  },
  {
   "cell_type": "code",
   "execution_count": 17,
   "source": [
    "# para corrigir o erro, se ultiliza o while True e o continue depois da except, assim o código anterior verdadeiro será \r\n",
    "#repetido até que se digite  o número\r\n",
    "askint()"
   ],
   "outputs": [
    {
     "output_type": "stream",
     "name": "stdout",
     "text": [
      "Obrigado por digitar um número!\n",
      "Fim da execução!\n"
     ]
    }
   ],
   "metadata": {}
  },
  {
   "cell_type": "code",
   "execution_count": 18,
   "source": [
    "# nesse caso um arro de atribuição ocorreu, pois a tupla não pode ser alterada.\r\n",
    "# os possíveis erros são atribuidos a 'e', e impresso se ocorrerem.\r\n",
    "tuple = (1,2,3,4,5)\r\n",
    "try:\r\n",
    "    tuple.append(6)\r\n",
    "    for each in tuple:\r\n",
    "        print(each)\r\n",
    "except AttributeError as e:\r\n",
    "    print('Erro: ', e)\r\n",
    "except IOError as e:\r\n",
    "    print('Erro de I/O:', e)"
   ],
   "outputs": [
    {
     "output_type": "stream",
     "name": "stdout",
     "text": [
      "Erro:  'tuple' object has no attribute 'append'\n"
     ]
    }
   ],
   "metadata": {}
  },
  {
   "cell_type": "code",
   "execution_count": 19,
   "source": [
    "try:\r\n",
    "    x = 2\r\n",
    "    y = 'A'\r\n",
    "    z = x + y    \r\n",
    "except TypeError:\r\n",
    "    print('Erro de tipos! Não posso somar um int com um str.')\r\n",
    "except:\r\n",
    "    print('ERRO!')\r\n",
    "finally:\r\n",
    "    print('Fim do bloco try')"
   ],
   "outputs": [
    {
     "output_type": "stream",
     "name": "stdout",
     "text": [
      "Erro de tipos! Não posso somar um int com um str.\n",
      "Fim do bloco try\n"
     ]
    }
   ],
   "metadata": {}
  },
  {
   "cell_type": "code",
   "execution_count": 21,
   "source": [
    "import pandas as pd \r\n",
    "\r\n",
    "while True:\r\n",
    "    try:\r\n",
    "        dataset = str(input('Digite o nome do arquivo a ser analisado: ') + '.xlsx')\r\n",
    "        df = pd.read_excel(dataset)\r\n",
    "\r\n",
    "    except FileNotFoundError:\r\n",
    "        print(\"Arquivo não encontrado! Verifique se o nome digitado corresponde ao arquivo a ser analizado\")\r\n",
    "        print(\"Também verifique se o arquivo se encontra na mesma pasta programa Filtro\")\r\n",
    "        continue\r\n",
    "    break"
   ],
   "outputs": [
    {
     "output_type": "error",
     "ename": "NameError",
     "evalue": "name 'pd' is not defined",
     "traceback": [
      "\u001b[1;31m---------------------------------------------------------------------------\u001b[0m",
      "\u001b[1;31mNameError\u001b[0m                                 Traceback (most recent call last)",
      "\u001b[1;32m<ipython-input-21-4e86c0ec38d7>\u001b[0m in \u001b[0;36m<module>\u001b[1;34m\u001b[0m\n\u001b[0;32m      2\u001b[0m     \u001b[1;32mtry\u001b[0m\u001b[1;33m:\u001b[0m\u001b[1;33m\u001b[0m\u001b[1;33m\u001b[0m\u001b[0m\n\u001b[0;32m      3\u001b[0m         \u001b[0mdataset\u001b[0m \u001b[1;33m=\u001b[0m \u001b[0mstr\u001b[0m\u001b[1;33m(\u001b[0m\u001b[0minput\u001b[0m\u001b[1;33m(\u001b[0m\u001b[1;34m'Digite o nome do arquivo a ser analisado: '\u001b[0m\u001b[1;33m)\u001b[0m \u001b[1;33m+\u001b[0m \u001b[1;34m'.xlsx'\u001b[0m\u001b[1;33m)\u001b[0m\u001b[1;33m\u001b[0m\u001b[1;33m\u001b[0m\u001b[0m\n\u001b[1;32m----> 4\u001b[1;33m         \u001b[0mdf\u001b[0m \u001b[1;33m=\u001b[0m \u001b[0mpd\u001b[0m\u001b[1;33m.\u001b[0m\u001b[0mread_excel\u001b[0m\u001b[1;33m(\u001b[0m\u001b[0mdataset\u001b[0m\u001b[1;33m)\u001b[0m\u001b[1;33m\u001b[0m\u001b[1;33m\u001b[0m\u001b[0m\n\u001b[0m\u001b[0;32m      5\u001b[0m \u001b[1;33m\u001b[0m\u001b[0m\n\u001b[0;32m      6\u001b[0m     \u001b[1;32mexcept\u001b[0m \u001b[0mFileNotFoundError\u001b[0m\u001b[1;33m:\u001b[0m\u001b[1;33m\u001b[0m\u001b[1;33m\u001b[0m\u001b[0m\n",
      "\u001b[1;31mNameError\u001b[0m: name 'pd' is not defined"
     ]
    }
   ],
   "metadata": {}
  },
  {
   "cell_type": "markdown",
   "source": [
    "Uma lista completa de exceções em Python, pode ser encontrada aqui:\n",
    "\n",
    "https://docs.python.org/3.7/library/exceptions.html\n"
   ],
   "metadata": {}
  },
  {
   "cell_type": "markdown",
   "source": [
    "# Fim"
   ],
   "metadata": {}
  }
 ],
 "metadata": {
  "kernelspec": {
   "name": "python3",
   "display_name": "Python 3.8.11 64-bit ('env1': conda)"
  },
  "language_info": {
   "codemirror_mode": {
    "name": "ipython",
    "version": 3
   },
   "file_extension": ".py",
   "mimetype": "text/x-python",
   "name": "python",
   "nbconvert_exporter": "python",
   "pygments_lexer": "ipython3",
   "version": "3.8.11"
  },
  "interpreter": {
   "hash": "256b550e27a01a486617a94bb46c9f5a9b96ae4c87f007bd03dec2cfb1a19284"
  }
 },
 "nbformat": 4,
 "nbformat_minor": 1
}