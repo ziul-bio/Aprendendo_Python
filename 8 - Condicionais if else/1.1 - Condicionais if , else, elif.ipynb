{
 "cells": [
  {
   "cell_type": "markdown",
   "source": [
    "# <font color='blue'> Aprendendo Python</font>\r\n",
    "## <font color='green'>Condicionais if, else, elif</font>\r\n",
    "### Autor: Luiz"
   ],
   "metadata": {}
  },
  {
   "cell_type": "code",
   "execution_count": null,
   "source": [
    "# Versão da Linguagem Python\r\n",
    "from platform import python_version\r\n",
    "print('A Versão da Linguagem Python Usada Neste Jupyter Notebook é:', python_version())"
   ],
   "outputs": [],
   "metadata": {}
  },
  {
   "cell_type": "markdown",
   "source": [
    "### Condicional if"
   ],
   "metadata": {}
  },
  {
   "cell_type": "code",
   "execution_count": 1,
   "source": [
    "# estrutura da condicional if (comando, não esquecer do sinal : e da identação tecla TAB)\r\n",
    "if 1<2:\r\n",
    "        print('valor válido')"
   ],
   "outputs": [
    {
     "output_type": "stream",
     "name": "stdout",
     "text": [
      "valor válido\n"
     ]
    }
   ],
   "metadata": {}
  },
  {
   "cell_type": "code",
   "execution_count": 2,
   "source": [
    "1>2"
   ],
   "outputs": [
    {
     "output_type": "execute_result",
     "data": {
      "text/plain": [
       "False"
      ]
     },
     "metadata": {},
     "execution_count": 2
    }
   ],
   "metadata": {}
  },
  {
   "cell_type": "code",
   "execution_count": 3,
   "source": [
    "# se quiser add um novo valor caso a operação seja falta usar o else\r\n",
    "if 10>20:\r\n",
    "    print('valor válido')\r\n",
    "else:\r\n",
    "    print('valor inválido')"
   ],
   "outputs": [
    {
     "output_type": "stream",
     "name": "stdout",
     "text": [
      "valor inválido\n"
     ]
    }
   ],
   "metadata": {}
  },
  {
   "cell_type": "code",
   "execution_count": 4,
   "source": [
    "10>20"
   ],
   "outputs": [
    {
     "output_type": "execute_result",
     "data": {
      "text/plain": [
       "False"
      ]
     },
     "metadata": {},
     "execution_count": 4
    }
   ],
   "metadata": {}
  },
  {
   "cell_type": "code",
   "execution_count": 5,
   "source": [
    "10<20"
   ],
   "outputs": [
    {
     "output_type": "execute_result",
     "data": {
      "text/plain": [
       "True"
      ]
     },
     "metadata": {},
     "execution_count": 5
    }
   ],
   "metadata": {}
  },
  {
   "cell_type": "code",
   "execution_count": 6,
   "source": [
    "if True:\r\n",
    "    print('ABB')\r\n"
   ],
   "outputs": [
    {
     "output_type": "stream",
     "name": "stdout",
     "text": [
      "ABB\n"
     ]
    }
   ],
   "metadata": {}
  },
  {
   "cell_type": "code",
   "execution_count": 7,
   "source": [
    "if False:\r\n",
    "        print('BCC')"
   ],
   "outputs": [],
   "metadata": {}
  },
  {
   "cell_type": "code",
   "execution_count": 8,
   "source": [
    "10>31"
   ],
   "outputs": [
    {
     "output_type": "execute_result",
     "data": {
      "text/plain": [
       "False"
      ]
     },
     "metadata": {},
     "execution_count": 8
    }
   ],
   "metadata": {}
  },
  {
   "cell_type": "code",
   "execution_count": 9,
   "source": [
    "10>9"
   ],
   "outputs": [
    {
     "output_type": "execute_result",
     "data": {
      "text/plain": [
       "True"
      ]
     },
     "metadata": {},
     "execution_count": 9
    }
   ],
   "metadata": {}
  },
  {
   "cell_type": "markdown",
   "source": [
    "### Condicionais Aninhados"
   ],
   "metadata": {}
  },
  {
   "cell_type": "code",
   "execution_count": 10,
   "source": [
    "idade=20\r\n",
    "if idade >= 18:\r\n",
    "    print('pode beber')\r\n",
    "else:\r\n",
    "    print('não pode beber')"
   ],
   "outputs": [
    {
     "output_type": "stream",
     "name": "stdout",
     "text": [
      "pode beber\n"
     ]
    }
   ],
   "metadata": {}
  },
  {
   "cell_type": "code",
   "execution_count": 11,
   "source": [
    "# O segundo if está dentro do primeiro, então usar um espaço de indentação, ao invés de \"tab\" no segundo \"if\" e \"else\"\r\n",
    "nome='Luizz'\r\n",
    "if idade>=18:\r\n",
    " if nome=='luiz':\r\n",
    "        print('Luiz pode beber')\r\n",
    " else:\r\n",
    "    print('Luiz não pode beber')"
   ],
   "outputs": [
    {
     "output_type": "stream",
     "name": "stdout",
     "text": [
      "Luiz não pode beber\n"
     ]
    }
   ],
   "metadata": {}
  },
  {
   "cell_type": "code",
   "execution_count": 12,
   "source": [
    "# nesta condição poderia-se ter usado \"or\" ao invés de \"and\".\r\n",
    "idade=18\r\n",
    "nome= 'luiz'\r\n",
    "if idade>=18 and nome=='luiz':\r\n",
    "    print('Luiz pode beber')\r\n",
    "     \r\n",
    "else:\r\n",
    "    print('não pode')"
   ],
   "outputs": [
    {
     "output_type": "stream",
     "name": "stdout",
     "text": [
      "Luiz pode beber\n"
     ]
    }
   ],
   "metadata": {}
  },
  {
   "cell_type": "code",
   "execution_count": 13,
   "source": [
    "# nesta condição poderia-se ter usado \"or\" ao invés de \"and\".\r\n",
    "idade=17\r\n",
    "nome= 'luiz'\r\n",
    "if idade>=18 and nome=='luiz':\r\n",
    "    print('Luiz pode beber')\r\n",
    "     \r\n",
    "else:\r\n",
    "    print('não pode')"
   ],
   "outputs": [
    {
     "output_type": "stream",
     "name": "stdout",
     "text": [
      "não pode\n"
     ]
    }
   ],
   "metadata": {}
  },
  {
   "cell_type": "markdown",
   "source": [
    "### Elif"
   ],
   "metadata": {}
  },
  {
   "cell_type": "code",
   "execution_count": 14,
   "source": [
    "dia='segunda'\r\n",
    "if dia=='segunda':\r\n",
    "    print('sol')\r\n",
    "else:\r\n",
    "    print('chuva')"
   ],
   "outputs": [
    {
     "output_type": "stream",
     "name": "stdout",
     "text": [
      "sol\n"
     ]
    }
   ],
   "metadata": {}
  },
  {
   "cell_type": "code",
   "execution_count": 15,
   "source": [
    "dia='quarta'\r\n",
    "if dia=='segunda':\r\n",
    "    print('sol')\r\n",
    "elif dia=='terça':\r\n",
    "    print(sol)\r\n",
    "else:\r\n",
    "    print('chuva')"
   ],
   "outputs": [
    {
     "output_type": "stream",
     "name": "stdout",
     "text": [
      "chuva\n"
     ]
    }
   ],
   "metadata": {}
  },
  {
   "cell_type": "markdown",
   "source": [
    "### Operadores Lógicos"
   ],
   "metadata": {}
  },
  {
   "cell_type": "code",
   "execution_count": 16,
   "source": [
    "## Usando mais de uma condição na cláusula if \r\n",
    "disciplina=input('Digite o nome da disciplina:')\r\n",
    "nota_final=input('Digite a nota final(entre 0 e 100):')\r\n",
    "\r\n",
    "if disciplina == 'biologia' or 'Biologia' and 'nota_final' >= '70':\r\n",
    "    print('Você foi Aprovado')\r\n",
    "\r\n",
    "else:\r\n",
    "    print ('Reprovado')"
   ],
   "outputs": [
    {
     "output_type": "stream",
     "name": "stdout",
     "text": [
      "Você foi Aprovado\n"
     ]
    }
   ],
   "metadata": {}
  },
  {
   "cell_type": "code",
   "execution_count": 24,
   "source": [
    "# Usando mais de uma condição na cláusula if e introduzindo Placeholders (%s para string %d numero decimal %r representante)\r\n",
    "semestre=input('Digite o semestre:')\r\n",
    "disciplina=input('Digite o nome da disciplina:')\r\n",
    "nota_final1=input('Digite a nota (entre 0 e 100):')\r\n",
    "\r\n",
    "\r\n",
    "if disciplina == 'biologia' or 'Biologia' and 'nota_final1' >= '70' and 'semestre' ==1:\r\n",
    "    print('Você foi Aprovado em %s com média final %r'%(disciplina, nota_final))\r\n",
    "\r\n",
    "else:\r\n",
    "    print ('Reprovado')"
   ],
   "outputs": [
    {
     "output_type": "stream",
     "name": "stdout",
     "text": [
      "Reprovado\n"
     ]
    }
   ],
   "metadata": {}
  },
  {
   "cell_type": "code",
   "execution_count": 18,
   "source": [
    "# Extras: add operações dentro das condições mais placeholders.\r\n",
    "disciplina=input('Digite a disciplina:')\r\n",
    "semestre=int(input('Digite o Semestre:'))\r\n",
    "nota1=int(input('Digite a nota 1:'))\r\n",
    "nota2=int(input('Digite a nota 2:'))\r\n",
    "nota_final2=(nota1+nota2)/2\r\n",
    "\r\n",
    "if disciplina == ('biologia') and int(semestre) == 1 and nota_final2 >= 70:\r\n",
    "    print('vc foi aprovado com %r de aproveitamento' %(nota_final2))\r\n",
    "\r\n",
    "else:\r\n",
    "    print('reprovado')"
   ],
   "outputs": [
    {
     "output_type": "stream",
     "name": "stdout",
     "text": [
      "vc foi aprovado com 95.0 de aproveitamento\n"
     ]
    }
   ],
   "metadata": {
    "scrolled": true
   }
  },
  {
   "cell_type": "code",
   "execution_count": 19,
   "source": [
    "a = 5\r\n",
    "b = 4\r\n",
    "print(a < b)\r\n",
    "if a < b:\r\n",
    "    print(a,'é menor que',b)\r\n",
    "    print(a < b)"
   ],
   "outputs": [
    {
     "output_type": "stream",
     "name": "stdout",
     "text": [
      "False\n"
     ]
    }
   ],
   "metadata": {}
  },
  {
   "cell_type": "code",
   "execution_count": 20,
   "source": [
    "a = 5\r\n",
    "b = 4\r\n",
    "c = 1\r\n",
    "d = 5\r\n",
    "if (a < b) or (c < d):\r\n",
    "    print('Uma das condições, pelo menos, é verdadeira.')"
   ],
   "outputs": [
    {
     "output_type": "stream",
     "name": "stdout",
     "text": [
      "Uma das condições, pelo menos, é verdadeira.\n"
     ]
    }
   ],
   "metadata": {}
  },
  {
   "cell_type": "code",
   "execution_count": 21,
   "source": [
    "x = 0\r\n",
    "if x > 0: # x é positivo\r\n",
    "    print(x,'é positivo')\r\n",
    "    if x % 2 == 0:\r\n",
    "        print(x,'é par')\r\n",
    "    else:\r\n",
    "        print(x,'é ímpar')\r\n",
    "        \r\n",
    "elif x < 0: # x é negativo\r\n",
    "    print(x,'é negativo')\r\n",
    "    \r\n",
    "else: # x é zero    \r\n",
    "    print(x,'é ZERO')"
   ],
   "outputs": [
    {
     "output_type": "stream",
     "name": "stdout",
     "text": [
      "0 é ZERO\n"
     ]
    }
   ],
   "metadata": {}
  },
  {
   "cell_type": "code",
   "execution_count": 25,
   "source": [
    "a = 5\r\n",
    "b = 4\r\n",
    "print(a < b)\r\n",
    "if a < b:\r\n",
    "    print(a,'é menor que',b)\r\n",
    "    print(a < b)"
   ],
   "outputs": [
    {
     "output_type": "stream",
     "name": "stdout",
     "text": [
      "False\n"
     ]
    }
   ],
   "metadata": {}
  },
  {
   "cell_type": "code",
   "execution_count": 26,
   "source": [
    "a = 5\r\n",
    "b = 4\r\n",
    "c = 1\r\n",
    "d = 5\r\n",
    "if (a < b) or (c < d):\r\n",
    "    print('Uma das condições, pelo menos, é verdadeira.')"
   ],
   "outputs": [
    {
     "output_type": "stream",
     "name": "stdout",
     "text": [
      "Uma das condições, pelo menos, é verdadeira.\n"
     ]
    }
   ],
   "metadata": {}
  },
  {
   "cell_type": "code",
   "execution_count": 27,
   "source": [
    "x = 0\r\n",
    "if x > 0: # x é positivo\r\n",
    "    print(x,'é positivo')\r\n",
    "    if x % 2 == 0:\r\n",
    "        print(x,'é par')\r\n",
    "    else:\r\n",
    "        print(x,'é ímpar')\r\n",
    "        \r\n",
    "elif x < 0: # x é negativo\r\n",
    "    print(x,'é negativo')\r\n",
    "    \r\n",
    "else: # x é zero    \r\n",
    "    print(x,'é ZERO')"
   ],
   "outputs": [
    {
     "output_type": "stream",
     "name": "stdout",
     "text": [
      "0 é ZERO\n"
     ]
    }
   ],
   "metadata": {}
  },
  {
   "cell_type": "markdown",
   "source": [
    "# Fim"
   ],
   "metadata": {}
  }
 ],
 "metadata": {
  "kernelspec": {
   "name": "python3",
   "display_name": "Python 3.8.11 64-bit ('env1': conda)"
  },
  "language_info": {
   "codemirror_mode": {
    "name": "ipython",
    "version": 3
   },
   "file_extension": ".py",
   "mimetype": "text/x-python",
   "name": "python",
   "nbconvert_exporter": "python",
   "pygments_lexer": "ipython3",
   "version": "3.8.11"
  },
  "interpreter": {
   "hash": "256b550e27a01a486617a94bb46c9f5a9b96ae4c87f007bd03dec2cfb1a19284"
  }
 },
 "nbformat": 4,
 "nbformat_minor": 4
}